{
 "cells": [
  {
   "cell_type": "markdown",
   "metadata": {},
   "source": [
    "# Antimicrobial resistance identification using ARIBA\n",
    "\n",
    "## Introduction\n",
    "ARIBA is a tool that identifies antibiotic resistance genes. This tutorial will walk you through the analysis of the *Neisseria gonorrhoeae* data set used in the ARIBA paper: \n",
    "\n",
    "> **ARIBA: rapid antimicrobial resistance genotyping directly from sequencing reads**  \n",
    "> Hunt M, Mather AE, Sánchez-Busó L, Page AJ, Parkhill J , Keane JA, Harris SR.  \n",
    "> _Microbial Genomics 2017. doi: 110.1099/mgen.0.000131_  \n",
    "> PMID: [29177089](https://www.ncbi.nlm.nih.gov/pmc/articles/PMC5695208/)  \n",
    "\n",
    "## Learning outcomes\n",
    "By the end of this tutorial you can expect to be able to:\n",
    "\n",
    "* Download and prepare the standard AMR databases for use with ARIBA\n",
    "* Prepare your own database for use with ARIBA\n",
    "* Perform QC on input data and understand why QC is important\n",
    "* Run ARIBA on several samples to identify antibiotic resistance\n",
    "* Understand the different flags produced by ARIBA\n",
    "* Summarise ARIBA results for several samples\n",
    "* Query the AMR results produced by ARIBA\n",
    "* Use Phandango to visualise ARIBA results\n",
    "\n",
    "\n",
    "## Tutorial sections\n",
    "This tutorial comprises the following sections:\n",
    "\n",
    "1. [How to use custom reference data with ARIBA](make_custom_db.ipynb)\n",
    "2. [Run ARIBA using the custom reference data](run_ariba.ipynb)\n",
    "3. [View summarized results using Phandango](phandango.ipynb)\n",
    "4. [Investigate MIC data in relation to variants in the samples](micplot.ipynb)\n",
    "\n",
    "## Authors\n",
    "This tutorial was created by [Martin Hunt](https://github.com/martinghunt).\n",
    "\n",
    "## Running the commands from this tutorial\n",
    "You can run the commands in this tutorial either directly from the Jupyter notebook (if using Jupyter), or by typing the commands in your terminal window. \n",
    "\n",
    "### Running commands on Jupyter\n",
    "If you are using Jupyter, command cells (like the one below) can be run by selecting the cell and clicking _Cell -> Run_ from the menu above or using _ctrl Enter_ to run the command. Let's give this a try by printing our working directory using the _pwd_ command and listing the files within it. Run the commands in the two cells below."
   ]
  },
  {
   "cell_type": "code",
   "execution_count": null,
   "metadata": {
    "collapsed": true
   },
   "outputs": [],
   "source": [
    "pwd"
   ]
  },
  {
   "cell_type": "code",
   "execution_count": null,
   "metadata": {
    "collapsed": true
   },
   "outputs": [],
   "source": [
    "ls -l"
   ]
  },
  {
   "cell_type": "markdown",
   "metadata": {},
   "source": [
    "### Running commands in the terminal\n",
    "You can also follow this tutorial by typing all the commands you see into a terminal window. This is similar to the \"Command Prompt\" window on MS Windows systems, which allows the user to type DOS commands to manage files.\n",
    "\n",
    "To get started, select the cell below with the mouse and then either press control and enter or choose Cell -> Run in the menu at the top of the page."
   ]
  },
  {
   "cell_type": "code",
   "execution_count": null,
   "metadata": {
    "collapsed": true
   },
   "outputs": [],
   "source": [
    "echo cd $PWD"
   ]
  },
  {
   "cell_type": "markdown",
   "metadata": {},
   "source": [
    "Now open a new terminal on your computer and type the command that was output by the previous cell followed by the enter key. The command will look similar to this:\n",
    "\n",
    "    cd /home/manager/pathogen-informatics-training/Notebooks/ARIBA/\n",
    "    \n",
    "Now you can follow the instructions in the tutorial from here.\n",
    "\n",
    "## Let’s get started!\n",
    "This tutorial assumes that you have ARIBA installed on your computer. For download and installation instructions, please see the [ARIBA GitHub-page](https://github.com/sanger-pathogens/ariba).\n",
    "\n",
    "To check that you have installed the software correctly, you can run the following command:"
   ]
  },
  {
   "cell_type": "code",
   "execution_count": null,
   "metadata": {
    "collapsed": true
   },
   "outputs": [],
   "source": [
    "ariba --help"
   ]
  },
  {
   "cell_type": "markdown",
   "metadata": {},
   "source": [
    "This should return the following help message:\n",
    "\n",
    "    usage: ariba <command> <options>\n",
    "\n",
    "    ARIBA: Antibiotic Resistance Identification By Assembly\n",
    "\n",
    "    optional arguments:\n",
    "      -h, --help      show this help message and exit\n",
    "\n",
    "    Available commands:\n",
    "\n",
    "        aln2meta      Converts multi-aln fasta and SNPs to metadata\n",
    "        expandflag    Expands flag column of report file\n",
    "        flag          Translate the meaning of a flag\n",
    "        getref        Download reference data\n",
    "        micplot       Make violin/dot plots using MIC data\n",
    "        prepareref    Prepare reference data for input to \"run\"\n",
    "        pubmlstget    Download species from PubMLST and make db\n",
    "        pubmlstspecies\n",
    "                      Get list of available species from PubMLST\n",
    "        refquery      Get cluster or sequence info from prepareref output\n",
    "        run           Run the local assembly pipeline\n",
    "        summary       Summarise multiple reports made by \"run\"\n",
    "        test          Run small built-in test dataset\n",
    "        version       Get versions and exit\n",
    "\n",
    "To get started with the tutorial, head to the first section: [How to use custom reference data with ARIBA](make_custom_db.ipynb)"
   ]
  }
 ],
 "metadata": {
  "kernelspec": {
   "display_name": "Bash",
   "language": "bash",
   "name": "bash"
  },
  "language_info": {
   "codemirror_mode": "shell",
   "file_extension": ".sh",
   "mimetype": "text/x-sh",
   "name": "bash"
  }
 },
 "nbformat": 4,
 "nbformat_minor": 2
}
