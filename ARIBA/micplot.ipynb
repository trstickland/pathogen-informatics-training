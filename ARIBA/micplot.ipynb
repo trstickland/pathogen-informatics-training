{
 "cells": [
  {
   "cell_type": "markdown",
   "metadata": {},
   "source": [
    "# Investigating MIC data\n",
    "\n",
    "We will use the *N. gonorrhoeae* dataset. This tutorial includes pre-computed output of running ARIBA on all the samples, and the ARIBA database that was made in the [first section](make_custom_db.ipynb). Do not worry if you did not follow that part of the tutorial - we will use a pre-computed version of the database called `data/Ref/Ngo_ARIBAdb/`.\n",
    "\n",
    "ARIBA has a function called \"micplot\" that generates plots showing the distribution of MICs across samples with different combinations of genotypes. To use it, a file is required of MIC data for each sample and at least one drug. It looks like this:"
   ]
  },
  {
   "cell_type": "code",
   "execution_count": null,
   "metadata": {
    "collapsed": false
   },
   "outputs": [],
   "source": [
    "head data/mic_data.tsv"
   ]
  },
  {
   "cell_type": "markdown",
   "metadata": {},
   "source": [
    "The first column must be named \"Sample\" and have names that exactly match those in ARIBA summary files used as input to micplot (we will see this shortly). The remaining columns should contain drug names and MIC scores, however, note that the first two columns contain other data that will be ignored by ARIBA. When ARIBA loads the file, it tries to convert everything in columns 2 onwards to numbers and assign a value of \"NA\" when this is not possible.\n",
    "\n",
    "To run micplot, we need an MIC file, like the one above, and an ARIBA summary file (as described in the [previous section](phandango.ipynb)). This generates a summary of known 23S and mtrR mutations and includes the \"assembled\" cluster column, so that interrupted mtrR can be identified:"
   ]
  },
  {
   "cell_type": "code",
   "execution_count": null,
   "metadata": {
    "collapsed": false
   },
   "outputs": [],
   "source": [
    "ariba summary --row_filter n --cluster_cols assembled,known_var \\\n",
    "    --only_clusters 23S,mtrR --v_groups --no_tree \\\n",
    "    --fofn data/filenames.fofn summary.AZMknowngroups"
   ]
  },
  {
   "cell_type": "markdown",
   "metadata": {},
   "source": [
    "Now we can run micplot using the new file `summary.AZMknowngroups.csv` and the MIC file `data/mic_data.tsv`, showing the MIC data for azithromicin compared with the different combinations of sequences and known mutations in 23S and mtrR:"
   ]
  },
  {
   "cell_type": "code",
   "execution_count": null,
   "metadata": {
    "collapsed": false
   },
   "outputs": [],
   "source": [
    "ariba micplot data/Ref/Ngo_ARIBAdb/ --interrupted Azithromycin \\\n",
    "    data/mic_data.tsv summary.AZMknowngroups.csv \\\n",
    "    micplot.AZMknowngroups"
   ]
  },
  {
   "cell_type": "markdown",
   "metadata": {},
   "source": [
    "This produced a pdf file `micplot.AZMknowngroups.pdf` that looks like this:"
   ]
  },
  {
   "cell_type": "markdown",
   "metadata": {},
   "source": [
    "![micplot AZMknowngroups](Screenshots/screenshot.micplot.AZMknowngroups.png)"
   ]
  },
  {
   "cell_type": "markdown",
   "metadata": {},
   "source": [
    "There are various options that can be changed. We will show some of them here, but try running `ariba micplot --help` to see all the options.\n",
    "\n",
    "\n",
    "## Horizontal lines\n",
    "\n",
    "Horizontal lines can be added to indicate import cutoffs for MIC data, in this case 0.25 and 2, using the option `--hlines`."
   ]
  },
  {
   "cell_type": "code",
   "execution_count": null,
   "metadata": {
    "collapsed": true
   },
   "outputs": [],
   "source": [
    "ariba micplot data/Ref/Ngo_ARIBAdb/ --interrupted --hlines 0.25,2 \\\n",
    "    Azithromycin data/mic_data.tsv summary.AZMknowngroups.csv \\\n",
    "    micplot.AZMknowngroups"
   ]
  },
  {
   "cell_type": "markdown",
   "metadata": {},
   "source": [
    "Here is the result:"
   ]
  },
  {
   "cell_type": "markdown",
   "metadata": {},
   "source": [
    "![micplot hlines](Screenshots/screenshot.micplot.AZMknowngroups.hlines.png)"
   ]
  },
  {
   "cell_type": "markdown",
   "metadata": {},
   "source": [
    "## Plot styles\n",
    "\n",
    "In the plots above, there is one point per sample. It can be hard to see how many points there are, despite there being jittering applied to the horizontal position. We can change the style to group the points together and plot circles of sizes proportional to the number of samples, using the option `--point_size`. This option determines the size of the points, but when set to zero if groups the points together. "
   ]
  },
  {
   "cell_type": "code",
   "execution_count": null,
   "metadata": {
    "collapsed": true
   },
   "outputs": [],
   "source": [
    "ariba micplot data/Ref/Ngo_ARIBAdb/ --interrupted --hlines 0.25,2 \\\n",
    "    --point_size 0 Azithromycin data/mic_data.tsv \\\n",
    "    summary.AZMknowngroups.csv micplot.AZMknowngroups"
   ]
  },
  {
   "cell_type": "markdown",
   "metadata": {},
   "source": [
    "Here is the result:"
   ]
  },
  {
   "cell_type": "markdown",
   "metadata": {},
   "source": [
    "![micplot point size zero](Screenshots/screenshot.micplot.AZMknowngroups.point_zero.png)"
   ]
  },
  {
   "cell_type": "markdown",
   "metadata": {},
   "source": [
    "You can choose to not show the violin plots or the dots in the upper plot, using the option `--plot_types`. The default is `violin,point`, which means show both. To only show the dots:"
   ]
  },
  {
   "cell_type": "code",
   "execution_count": null,
   "metadata": {
    "collapsed": true
   },
   "outputs": [],
   "source": [
    "ariba micplot data/Ref/Ngo_ARIBAdb/ --interrupted --hlines 0.25,2 \\\n",
    " --plot_types point --point_size 0 \\\n",
    " Azithromycin data/mic_data.tsv summary.AZMknowngroups.csv \\\n",
    " micplot.AZMknowngroups"
   ]
  },
  {
   "cell_type": "markdown",
   "metadata": {},
   "source": [
    "Here is the result:"
   ]
  },
  {
   "cell_type": "markdown",
   "metadata": {},
   "source": [
    "![micplot dots only](Screenshots/screenshot.micplot.AZMknowngroups.dots_only.png)"
   ]
  },
  {
   "cell_type": "markdown",
   "metadata": {},
   "source": [
    "## Colours\n",
    "\n",
    "There are various colour options - see the [matplotlib colourmaps page](http://matplotlib.org/users/colormaps.html) for all of the available colour palettes. The default is \"Accent\", which has 8 colours. ARIBA will cycle through these, repeating colours if there are more than 8 columns in the plot. The palette can be changed using the option `--colourmap`."
   ]
  },
  {
   "cell_type": "code",
   "execution_count": null,
   "metadata": {
    "collapsed": false
   },
   "outputs": [],
   "source": [
    "ariba micplot data/Ref/Ngo_ARIBAdb/ --interrupted --hlines 0.25,2 \\\n",
    " --colourmap PiYG --point_size 0 Azithromycin data/mic_data.tsv \\\n",
    " summary.AZMknowngroups.csv micplot.AZMknowngroups"
   ]
  },
  {
   "cell_type": "markdown",
   "metadata": {},
   "source": [
    "Here is the result:"
   ]
  },
  {
   "cell_type": "markdown",
   "metadata": {},
   "source": [
    "![micplot PiYG](Screenshots/screenshot.micplot.AZMknowngroups.PiYG.png)"
   ]
  },
  {
   "cell_type": "markdown",
   "metadata": {},
   "source": [
    "The palette PiYG is continuous, and is almost white in the middle. This is not ideal. We can skip the range in the middle, specifically 40-60%, using the option `--colour_skip`:"
   ]
  },
  {
   "cell_type": "code",
   "execution_count": null,
   "metadata": {
    "collapsed": true
   },
   "outputs": [],
   "source": [
    "ariba micplot data/Ref/Ngo_ARIBAdb/ --interrupted --hlines 0.25,2 \\\n",
    " --colourmap PiYG --colour_skip 0.35,0.65 --point_size 0 \\\n",
    " Azithromycin data/mic_data.tsv summary.AZMknowngroups.csv \\\n",
    " micplot.AZMknowngroups"
   ]
  },
  {
   "cell_type": "markdown",
   "metadata": {},
   "source": [
    "Here is the new plot:"
   ]
  },
  {
   "cell_type": "markdown",
   "metadata": {},
   "source": [
    "![micplot colour_skip](Screenshots/screenshot.micplot.AZMknowngroups.colour_skip.png)"
   ]
  },
  {
   "cell_type": "markdown",
   "metadata": {},
   "source": [
    "The number of colours can be set to less than the number of columns using the option `--number_of_colours`. This makes ARIBA cycle the colours. Here is an example using the first three colours from the \"Dark2\" colour palette:"
   ]
  },
  {
   "cell_type": "code",
   "execution_count": null,
   "metadata": {
    "collapsed": true
   },
   "outputs": [],
   "source": [
    "ariba micplot data/Ref/Ngo_ARIBAdb/ --interrupted --hlines 0.25,2 \\\n",
    " --colourmap Dark2 --number_of_colours 3 --point_size 0 \\\n",
    " Azithromycin data/mic_data.tsv summary.AZMknowngroups.csv \\\n",
    " micplot.AZMknowngroups"
   ]
  },
  {
   "cell_type": "markdown",
   "metadata": {},
   "source": [
    "And we only have three colours:"
   ]
  },
  {
   "cell_type": "markdown",
   "metadata": {},
   "source": [
    "![micplot 3 colours](Screenshots/screenshot.micplot.AZMknowngroups.3colours.png)"
   ]
  },
  {
   "cell_type": "markdown",
   "metadata": {},
   "source": [
    "Setting the number of colours to one results in a black and white figure."
   ]
  },
  {
   "cell_type": "code",
   "execution_count": null,
   "metadata": {
    "collapsed": true
   },
   "outputs": [],
   "source": [
    "ariba micplot data/Ref/Ngo_ARIBAdb/ --interrupted --hlines 0.25,2 \\\n",
    " --number_of_colours 1 --point_size 0 Azithromycin \\\n",
    " data/mic_data.tsv summary.AZMknowngroups.csv micplot.AZMknowngroups"
   ]
  },
  {
   "cell_type": "markdown",
   "metadata": {},
   "source": [
    "Here is the black and white figure:"
   ]
  },
  {
   "cell_type": "markdown",
   "metadata": {},
   "source": [
    "![micplot black and white](Screenshots/screenshot.micplot.AZMknowngroups.blackwhite.png)"
   ]
  },
  {
   "cell_type": "markdown",
   "metadata": {},
   "source": [
    "This is the end of the tutorial. You can [return to the index](index.ipynb) or revisit the [previous section](phandango.ipynb)."
   ]
  }
 ],
 "metadata": {
  "kernelspec": {
   "display_name": "Bash",
   "language": "bash",
   "name": "bash"
  },
  "language_info": {
   "codemirror_mode": "shell",
   "file_extension": ".sh",
   "mimetype": "text/x-sh",
   "name": "bash"
  }
 },
 "nbformat": 4,
 "nbformat_minor": 2
}
