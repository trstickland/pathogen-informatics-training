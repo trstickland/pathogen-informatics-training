{
 "cells": [
  {
   "cell_type": "markdown",
   "metadata": {},
   "source": [
    "# Introduction to Integrated Genome Viewer (IGV)\n",
    "## A quick start guide"
   ]
  },
  {
   "cell_type": "markdown",
   "metadata": {},
   "source": [
    "## Introduction\n",
    "\n",
    "[Integrative Genome Viewer](https://software.broadinstitute.org/software/igv/) (**IGV**) allows you to visualise genomic datasets. This quick start guide will give you a brief overview of IGV, how to load data, navigate the genome and visualise your data. The IGV user guide is really useful and contains information on many more features than we have the chance go through in this quick start guide.\n",
    "\n",
    "> **Integrative Genome Viewer (IGV)**  \n",
    "> _Broad Institute and the Regents of the University of California_  \n",
    "> **Download:** [https://software.broadinstitute.org/software/igv/download](https://software.broadinstitute.org/software/igv/download)  \n",
    "> **User guide:** [http://software.broadinstitute.org/software/igv/UserGuide](http://software.broadinstitute.org/software/igv/UserGuide)"
   ]
  },
  {
   "cell_type": "markdown",
   "metadata": {},
   "source": [
    "## Learning outcomes\n",
    "\n",
    "By the end of this quick start guide you can expect to be able to:\n",
    "\n",
    "  * Index a reference genome for IGV\n",
    "  * Load a reference genome file into IGV\n",
    "  * Load gene annotations into IGV\n",
    "  * Load alignment files into IGV \n",
    "  * Navigate a genome in IGV"
   ]
  },
  {
   "cell_type": "markdown",
   "metadata": {},
   "source": [
    "## Authors\n",
    "\n",
    "This tutorial was written by [Victoria Offord](https://github.com/vaofford).\n",
    "\n",
    "\n",
    "## Prerequisites\n",
    "\n",
    "This guide assumes that you have the following software or packages and their dependencies installed on your computer. The software or packages used in this guide may be updated from time to time so, we have also given you the version which was used when writing the guide.\n",
    "\n",
    "| Package name | Link for download/installation instructions                          | Version |\n",
    "| :----------: | :------------------------------------------------------------------: |:------: |\n",
    "| samtools     | https://github.com/samtools/samtools                                 | 1.6     |\n",
    "| IGV          | (https://software.broadinstitute.org/software/igv/)                  | 2.3.90  |"
   ]
  },
  {
   "cell_type": "markdown",
   "metadata": {},
   "source": [
    "*** "
   ]
  },
  {
   "cell_type": "markdown",
   "metadata": {},
   "source": [
    "## Indexing a reference genome for IGV\n",
    "\n",
    "Before you begin, make sure you have an index for the reference genome which IGV will use to traverse the genome. You can do this using [samtools](https://github.com/samtools/samtools).  \n",
    "\n",
    "  `samtools faidx <your_genome_file.fa>`\n",
    "  \n",
    "The resulting index file will have the extension **.fai** and must be in the same directory as the reference genome.\n",
    "\n",
    "***"
   ]
  },
  {
   "cell_type": "markdown",
   "metadata": {},
   "source": [
    "## IGV main window\n",
    "\n",
    "When you start IGV, it will open a main window. At the top of this window you have a **toolbar** and **genome ruler** for navigation. The largest area in the main window is the **data viewer** where your alignments, annotations and other data will be displayed. To do this, IGV uses horizontal rows called **tracks**. Finally, at the bottom, there is a sequence viewer which contains the base level information for your reference genome. "
   ]
  },
  {
   "cell_type": "markdown",
   "metadata": {},
   "source": [
    "![IGV - main window](images/igv-main-window.png \"IGV - main window\")"
   ]
  },
  {
   "cell_type": "markdown",
   "metadata": {},
   "source": [
    "***\n",
    "\n",
    "## Loading a reference genome\n",
    "\n",
    "IGV provides several genomes which can be selected with the \"_Genome drop-down box_\" on the toolbar. However, your reference genome may not always be on this list. When your reference is not available, you will need to load it from a FASTA file.\n",
    "\n",
    "**To load a reference genome from file, go to \"_Genomes -> Load Genome from File…_\".** "
   ]
  },
  {
   "cell_type": "markdown",
   "metadata": {},
   "source": [
    "![IGV - loading genome from file](images/igv-load-genome-file-1.png \"IGV - loading genome from file\")"
   ]
  },
  {
   "cell_type": "markdown",
   "metadata": {},
   "source": [
    "**Select the FASTA file containing the reference genome and click \"_Open_\".**"
   ]
  },
  {
   "cell_type": "markdown",
   "metadata": {},
   "source": [
    "![IGV - loading genome from file](images/igv-load-genome-file-2.png \"IGV - loading genome from file\")"
   ]
  },
  {
   "cell_type": "markdown",
   "metadata": {},
   "source": [
    "### IGV toolbar and genome ruler\n",
    "\n",
    "Once the genome has loaded, the chromosomes will be shown on the **genome ruler** with their names/numbers above. When a region is selected, a red box will appear. This represents the visible region of the genome.\n",
    "\n",
    "Above the genome ruler is the **toolbar** which has a variety controls for navigating the genome:\n",
    "\n",
    "  * **Genome drop-down** - load a genome\n",
    "  * **Chromosome drop-down** - zoom to a chromosome \n",
    "  * **Search** - zoom to a chromosome, locus or gene\n",
    "  \n",
    "There are several other buttons which can be used to control the visible portion of the genome.\n",
    "\n",
    "  * **Whole genoeme** - zoom back out to whole genome view\n",
    "  * **Previous/next view** - move backward/forward through views (like the back/forward buttons in a web browser)\n",
    "  * **Refresh** - refresh the display\n",
    "  * **Zoom** - zooms in (+) / out (-) on a chromosome"
   ]
  },
  {
   "cell_type": "markdown",
   "metadata": {},
   "source": [
    "![IGV - toolbar and genome ruler](images/igv-toolbar.png \"IGV - toolbar and genome ruler\")"
   ]
  },
  {
   "cell_type": "markdown",
   "metadata": {},
   "source": [
    "### Sequence viewer\n",
    "\n",
    "The **sequence viewer** shows the genome at the single nucleotide level. You won't be able to see the sequence until you are zoomed in. As you start to zoom in (+), you will see that each nucleotide is represented by a coloured bar (red=T, yellow=g, blue=c and green=a). This makes it easier to spot repetitive regions in the genome. Carry on zooming in (+) and you will see the individual nucleotides."
   ]
  },
  {
   "cell_type": "markdown",
   "metadata": {},
   "source": [
    "![IGV - sequence viewer](images/igv-sequence-viewer.png \"IGV - sequence viewer\")"
   ]
  },
  {
   "cell_type": "markdown",
   "metadata": {},
   "source": [
    "If you right-click on \"_Sequence_\" at the left-hand side of the sequence viewer and click \"_Show translation_\", you will also see the amino acid sequence for the forward three reading frames.  "
   ]
  },
  {
   "cell_type": "markdown",
   "metadata": {},
   "source": [
    "![IGV - sequence translation](images/igv-sequence-translation.png \"IGV - sequence translation\")"
   ]
  },
  {
   "cell_type": "markdown",
   "metadata": {},
   "source": [
    "You can also see the reverse three reading frames by right-clicking on the track and selecting \"_Flip strand_\". \n",
    "\n",
    "_Note: at the bottom right of the main window is the amount of memory available to IGV and how much of this it is currently using - always keep a wary eye on this!!_\n",
    "\n",
    "***\n",
    "\n",
    "## Loading gene annotations\n",
    "\n",
    "In addition to your genome, you will probably want to load an annotation file that contains information such as gene locations and gene structures (e.g. introns/exons/CDS).\n",
    "\n",
    "**To load a GFF file containing annotations, go to \"_File -> Load from File…_\".**"
   ]
  },
  {
   "cell_type": "markdown",
   "metadata": {},
   "source": [
    "![IGV - loading annotation](images/igv-load-annotation-file-1.png \"IGV - loading annotation\")"
   ]
  },
  {
   "cell_type": "markdown",
   "metadata": {},
   "source": [
    "**Select the annotation file and click \"Open\".**"
   ]
  },
  {
   "cell_type": "markdown",
   "metadata": {},
   "source": [
    "![IGV - loading annotation](images/igv-load-annotation-file-2.png \"IGV - loading annotation\")"
   ]
  },
  {
   "cell_type": "markdown",
   "metadata": {},
   "source": [
    "This will load the **annotation track**.  At the genome level, you will see this shown as a density track for the associated annotation. On the left you will see the track label which is the name of the file you just loaded. You can change this label to something more recognisable by right clicking on the label and selecting \"_Rename Track_\". "
   ]
  },
  {
   "cell_type": "markdown",
   "metadata": {},
   "source": [
    "![IGV - annotation density](images/igv-annotation-density.png \"IGV - annotation density\")"
   ]
  },
  {
   "cell_type": "markdown",
   "metadata": {},
   "source": [
    "As you zoom in (+), you will start to be able to see the individual genes (shown in blue). "
   ]
  },
  {
   "cell_type": "markdown",
   "metadata": {},
   "source": [
    "![IGV - annotation track](images/igv-annotation.png \"IGV - annotation track\")"
   ]
  },
  {
   "cell_type": "markdown",
   "metadata": {},
   "source": [
    "### Gene structure\n",
    "\n",
    "Genes are represented in blue as boxes (exonic regions) and lines (intronic regions). The arrows indicate the strand of the direction in which the gene will be transcribed. The box height indicates whether the region is a coding seequence (taller) or untranslated region (thinner).\n",
    "\n",
    "For a clearer view of the gene structure, right click on the annotation track and click \"_Expanded_\"."
   ]
  },
  {
   "cell_type": "markdown",
   "metadata": {},
   "source": [
    "![IGV - expanded annotation](images/igv-annotation-expanded.png \"IGV - expanded annotation\")"
   ]
  },
  {
   "cell_type": "markdown",
   "metadata": {},
   "source": [
    "Now you will see the annotated isoforms and can more clearly see the arrows that indicate which strand the gene is on. If you zoom in further, you will also see the amino acid sequence superimposed onto the exons.\n",
    "\n",
    "***\n",
    "\n",
    "## Loading alignment files\n",
    "\n",
    "IGV can be used to visualise many different types of data, including read alignments. Each time you load an alignment file it will be added to the **data viewer** as a new major **track**. \n",
    "\n",
    "**To load a read alignment file, go to \"_File -> Load from File…_\".**"
   ]
  },
  {
   "cell_type": "markdown",
   "metadata": {},
   "source": [
    "![IGV - loading alignment from file](images/igv-load-alignment-file-1.png \"IGV - loading alignment from file\")"
   ]
  },
  {
   "cell_type": "markdown",
   "metadata": {},
   "source": [
    "**Select a sorted BAM file and click \"_Open_\".**"
   ]
  },
  {
   "cell_type": "markdown",
   "metadata": {},
   "source": [
    "![IGV - loading alignment from file](images/igv-load-alignment-file-2.png \"IGV - loading alignment from file\")"
   ]
  },
  {
   "cell_type": "markdown",
   "metadata": {},
   "source": [
    "_Note: BAM files and their corresponding index files must be in the same directory for IGV to load them properly._\n",
    "\n",
    "For each read alignment, a major track will appear containing two minor tracks for that sample: coverage statistics and read alignments. For the total number of visible tracks, see the bottom left of main window. \n",
    "\n",
    "At the genome level, there will be no coverage plot or read alignments visible. At the chromosome level, there are two messages displayed: Zoom in to see coverage/alignments. Finally, once you have zoomed in (+) you will see a density plot in the coverage track and your read alignments."
   ]
  },
  {
   "cell_type": "markdown",
   "metadata": {},
   "source": [
    "![IGV - alignment views](images/igv-alignment-views.png \"IGV - alignment views\")"
   ]
  },
  {
   "cell_type": "markdown",
   "metadata": {},
   "source": [
    "You can open more than one alignment file. Each alignment file will be loaded into a new track with its coverage statistics and read alignments. However, make sure you keep an eye on the memory usage in the bottom right corner or IGV may crash!"
   ]
  },
  {
   "cell_type": "markdown",
   "metadata": {},
   "source": [
    "![IGV - all alignments](images/igv-all-alignments.png \"IGV - all alignments\")"
   ]
  },
  {
   "cell_type": "markdown",
   "metadata": {},
   "source": [
    "### Visualising alignments\n",
    "\n",
    "#### Coverage information\n",
    "\n",
    "When zoomed in to view a region, you can get alignment information for each position in the genome by hovering over the coverage track. This will open a yellow box which tells you the total number of reads mapped at that position, a breakdown of the mapped nucleotide frequencies and the number of reads mapping in a forward/reverse orientation. In our example, 95 reads mapped, 50 forward and 45 reverse, all of which called A at position 202,768 on chromosome PccAS_05_v3."
   ]
  },
  {
   "cell_type": "markdown",
   "metadata": {},
   "source": [
    "![IGV - coverage information](images/igv-coverage-stats.png \"IGV - coverage information\")"
   ]
  },
  {
   "cell_type": "markdown",
   "metadata": {},
   "source": [
    "#### Viewing individual read alignment information\n",
    "\n",
    "Read are represented by grey or transparent/white bars which are stacked together where they align to the reference genome. Reads are pointed to indicate the orientation in which they mapped i.e. on the forward or reverse strand. Hovering over an individual read will display information about its alignment.\n",
    "\n",
    "![IGV - read information](images/igv-read-information.png \"IGV - read information\")\n",
    "\n",
    "Mismatches occur where the nucleotide in the aligned read is not the same as the nucleotide in that position on the reference genome. A mismatch is indicated by a coloured bar at the relevant position on the read. The colour of the bar represents the mismatched base in the read (red=T, yellow=g, blue=c and green=a)."
   ]
  },
  {
   "cell_type": "markdown",
   "metadata": {},
   "source": [
    "![IGV - mismatch](images/igv-mismatch.png \"IGV - mismatch\")"
   ]
  },
  {
   "cell_type": "markdown",
   "metadata": {},
   "source": [
    "For more information about how reads are coloured and what this means, see the [IGV user guide](http://software.broadinstitute.org/software/igv/UserGuide).\n",
    "\n",
    "***\n",
    "\n",
    "## Navigating the genome\n",
    "\n",
    "### Whole genome view\n",
    "\n",
    "In IGV you can navigate through different levels of visualisation, from the whole genome, all the way down to a base level resolution.\n",
    "\n",
    "To return to the whole genome view:\n",
    "\n",
    "  * Select \"_All_\" from the chromosome drop-down\n",
    "  * Click the \"_Home_\" button"
   ]
  },
  {
   "cell_type": "markdown",
   "metadata": {},
   "source": [
    "![IGV - whole genome view](images/igv-whole-genome-view.png \"IGV - whole genome view\")"
   ]
  },
  {
   "cell_type": "markdown",
   "metadata": {},
   "source": [
    "### Chromosome view\n",
    "\n",
    "You can also view each of the chromosomes individually. For example, to view PccAS_03_v3 you can:\n",
    "\n",
    "  * Select \"_PccAS&#95;03&#95;v3_\" from the chromosome drop-down\n",
    "  * Type \"_PccAS&#95;03&#95;v3_\" into the search box\n",
    "  * Click on \"\"_PccAS&#95;03&#95;v3_\" on the genome ruler"
   ]
  },
  {
   "cell_type": "markdown",
   "metadata": {},
   "source": [
    "![IGV - chromosome view](images/igv-chromosome-view.png \"IGV - chromosome view\")"
   ]
  },
  {
   "cell_type": "markdown",
   "metadata": {},
   "source": [
    "In the chromosome view, the alignment track has changed from a density plot to showing individual gene, the genome ruler is now showing co-ordinates instead of chromosome name/numbers. More importantly, the alignment tracks are saying that to see coverage or read alignments we need to zoom in further."
   ]
  },
  {
   "cell_type": "markdown",
   "metadata": {},
   "source": [
    "![IGV - chromosome view](images/igv-chromosome-view-all.png \"IGV - chromosome view\")"
   ]
  },
  {
   "cell_type": "markdown",
   "metadata": {},
   "source": [
    "### Region view\n",
    "\n",
    "There are several ways to continue to zoom in and view specific regions or base level information.\n",
    "\n",
    "#### Select region\n",
    "\n",
    "If you don't know the specific co-ordinates of the region you want to look at, you can click and drag to select a region on the genome toolbar."
   ]
  },
  {
   "cell_type": "markdown",
   "metadata": {},
   "source": [
    "![IGV - select region](images/igv-select-region.png \"IGV - select region\")"
   ]
  },
  {
   "cell_type": "markdown",
   "metadata": {},
   "source": [
    "\n",
    "#### Jump to region \n",
    "\n",
    "If you know the co-ordinates of the region you want to view, you can enter them into the \"_Search_\" and click \"_Go_\".  The format is `chromosome`:`start`-`stop`. For example, to view from 100,000 to 100,100 on PccAS_01_v3, you would enter `PccAS_01_v3:100,000-100,100` in the search box. "
   ]
  },
  {
   "cell_type": "markdown",
   "metadata": {},
   "source": [
    "![IGV - search region](images/igv-search-region.png \"IGV - search region\")"
   ]
  },
  {
   "cell_type": "markdown",
   "metadata": {},
   "source": [
    "_Note: the visible region of the chromosome is indicated by the red box on the genome ruler._\n",
    "\n",
    "#### Jump to gene or locus\n",
    "\n",
    "Alternatively, if you know the name of the gene you want to view and you have loaded an annotation file, you can enter the gene name into the \"_Search_\" and click \"_Go_\".  For example, to view PCHAS_0100100, you would enter `PccAS_0100100` in the search box. "
   ]
  },
  {
   "cell_type": "markdown",
   "metadata": {},
   "source": [
    "![IGV - search gene](images/igv-search-gene.png \"IGV - search gene\")"
   ]
  },
  {
   "cell_type": "markdown",
   "metadata": {},
   "source": [
    "_Note: the search box will try to help you by listing options to autocomplete the search box._\n",
    "\n",
    "#### Zooming in and out\n",
    "\n",
    "You can zoom in and out from each view by using the \"+\" and \"-\" buttons on the zoom control at the right-hand side of the toolbar. This will also work with the \"+\" and \"-\" keys on your keyboard."
   ]
  },
  {
   "cell_type": "markdown",
   "metadata": {},
   "source": [
    "![IGV - zoom in/out](images/igv-zoom-in-out.png \"IGV - zoom in/out\")"
   ]
  },
  {
   "cell_type": "markdown",
   "metadata": {},
   "source": [
    "### Navigating around the view\n",
    "\n",
    "There are several ways you can move around the view:\n",
    "\n",
    "  * Left-click and hold on a track in the data viewer. Drag to move left or right.\n",
    "  * Move left right using arrow keys on your keyboard.\n",
    "  * Double click on a gene/feature in the anntotation track to zoom in and center on that gene/feature."
   ]
  }
 ],
 "metadata": {
  "anaconda-cloud": {},
  "kernelspec": {
   "display_name": "Bash",
   "language": "bash",
   "name": "bash"
  },
  "language_info": {
   "codemirror_mode": "shell",
   "file_extension": ".sh",
   "mimetype": "text/x-sh",
   "name": "bash"
  }
 },
 "nbformat": 4,
 "nbformat_minor": 2
}
