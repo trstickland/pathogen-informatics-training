{
 "cells": [
  {
   "cell_type": "markdown",
   "metadata": {},
   "source": [
    "# Running SeroBA"
   ]
  },
  {
   "cell_type": "markdown",
   "metadata": {},
   "source": [
    "We are now ready to use SeroBA to determine the serotype of our samples. Move into the data directory where we keep the reads. In this case we have called the directory **run_seroba** and it is in the directory called **data**."
   ]
  },
  {
   "cell_type": "code",
   "execution_count": null,
   "metadata": {
    "collapsed": true
   },
   "outputs": [],
   "source": [
    "cd data/run_seroba"
   ]
  },
  {
   "cell_type": "markdown",
   "metadata": {},
   "source": [
    "Have a quick look at the contents of the directory:"
   ]
  },
  {
   "cell_type": "code",
   "execution_count": null,
   "metadata": {
    "collapsed": true
   },
   "outputs": [],
   "source": [
    "ls -al"
   ]
  },
  {
   "cell_type": "markdown",
   "metadata": {},
   "source": [
    "As you can see, there are two gzipped fastq files for each sample, one for forward reads and one for reverse reads."
   ]
  },
  {
   "cell_type": "markdown",
   "metadata": {},
   "source": [
    "Now run SeroBA using the **runSerotyping** command:\n",
    "\n",
    "    `seroba runSerotyping database forward_read reverse_read prefix`\n",
    "\n",
    "Where the options are:\n",
    "\n",
    "    database       path to the database directory\n",
    "    forward_read   forward read file in fastq format\n",
    "    reverse_read   reverse read file in fastq format\n",
    "    prefix         a unique prefix"
   ]
  },
  {
   "cell_type": "code",
   "execution_count": null,
   "metadata": {
    "collapsed": true
   },
   "outputs": [],
   "source": [
    "seroba runSerotyping ../database/ sample1_1.fq.gz \\\n",
    "    sample1_2.fq.gz sample1"
   ]
  },
  {
   "cell_type": "markdown",
   "metadata": {},
   "source": [
    "If you are running Seroba on the Sanger farm and instead want to use the central database, you can use:\n",
    "\n",
    "  `seroba runSerotyping $SEROBA_DB forward_read reverse_read prefix` \n",
    "\n",
    "Lets have a look at the results in the [next section](seroba_results.ipynb). You can also [return to the index](index.ipynb) or revisit the [previous section](db_setup.ipynb)."
   ]
  }
 ],
 "metadata": {
  "kernelspec": {
   "display_name": "Bash",
   "language": "bash",
   "name": "bash"
  },
  "language_info": {
   "codemirror_mode": "shell",
   "file_extension": ".sh",
   "mimetype": "text/x-sh",
   "name": "bash"
  }
 },
 "nbformat": 4,
 "nbformat_minor": 2
}
