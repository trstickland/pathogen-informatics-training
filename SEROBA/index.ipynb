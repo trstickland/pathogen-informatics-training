{
 "cells": [
  {
   "cell_type": "markdown",
   "metadata": {},
   "source": [
    "# Serotype detection using SeroBA\n",
    "\n",
    "## Introduction\n",
    "SeroBA is a software tool for identifying the serotype of samples from Illumina reads. This tutorial will walk you through using SeroBA for serotyping of *Streptococcus pneumoniae* samples. \n",
    "\n",
    "For more in depht information about SeroBA, please refer to the paper:\n",
    "\n",
    "> **SeroBA: rapid high-throughput serotyping of Streptococcus pneumoniae from whole genome sequence data**\n",
    "> Epping L, van Tonder, AJ, Gladstone RA, GPS Consortium, Bentley SD, Page AJ, Keane JA\n",
    "> _bioRxiv preprint, 2017 Sep.; doi: [10.1101/179465](https://www.biorxiv.org/content/early/2017/09/05/179465)_\n",
    "\n",
    "## Learning outcomes\n",
    "By the end of this tutorial you can expect to be able to:\n",
    "\n",
    "* Understand serotyping, why it is important and what it can be used for\n",
    "* Run SeroBA on several samples to predict their serotype\n",
    "* Summarise the SeroBA results for several samples\n",
    "* Interpret the detailed output of SeroBA\n",
    "* Download and prepare the S. pneumoniae databases from PneumoCAT for use with SeroBA\n",
    "\n",
    "## Tutorial sections\n",
    "This tutorial comprises the following sections:\n",
    "\n",
    "1. [What is serotyping?](serotyping.ipynb)\n",
    "2. [Preparation of databases before running SeroBA](db_setup.ipynb)\n",
    "3. [Running SeroBA](run_seroba.ipynb)\n",
    "4. [Interpreting the results of SeroBA](seroba_results.ipynb)\n",
    "\n",
    "## Authors\n",
    "This tutorial was created by [Sara Sjunnebo](https://github.com/ssjunnebo).\n",
    "\n",
    "## Running the commands from this tutorial\n",
    "You can run the commands in this tutorial either directly from the Jupyter notebook (if using Jupyter), or by typing the commands in your terminal window. \n",
    "\n",
    "### Running commands on Jupyter\n",
    "If you are using Jupyter, command cells (like the one below) can be run by selecting the cell and clicking _Cell -> Run_ from the menu above or using _ctrl Enter_ to run the command. Let's give this a try by printing our working directory using the _pwd_ command and listing the files within it. Run the commands in the two cells below."
   ]
  },
  {
   "cell_type": "code",
   "execution_count": null,
   "metadata": {
    "collapsed": true
   },
   "outputs": [],
   "source": [
    "pwd"
   ]
  },
  {
   "cell_type": "code",
   "execution_count": null,
   "metadata": {
    "collapsed": true
   },
   "outputs": [],
   "source": [
    "ls -l"
   ]
  },
  {
   "cell_type": "markdown",
   "metadata": {},
   "source": [
    "### Running commands in the terminal\n",
    "You can also follow this tutorial by typing all the commands you see into a terminal window. This is similar to the \"Command Prompt\" window on MS Windows systems, which allows the user to type DOS commands to manage files.\n",
    "\n",
    "To get started, select the cell below with the mouse and then either press control and enter or choose Cell -> Run in the menu at the top of the page."
   ]
  },
  {
   "cell_type": "code",
   "execution_count": null,
   "metadata": {
    "collapsed": true
   },
   "outputs": [],
   "source": [
    "echo cd $PWD"
   ]
  },
  {
   "cell_type": "markdown",
   "metadata": {},
   "source": [
    "Now open a new terminal on your computer and type the command that was output by the previous cell followed by the enter key. The command will look similar to this:\n",
    "\n",
    "    cd /home/manager/pathogen-informatics-training/Notebooks/SEROBA/\n",
    "    \n",
    "Now you can follow the instructions in the tutorial from here.\n",
    "\n",
    "## Let’s get started!\n",
    "This tutorial assumes that you have SeroBA installed on your computer. For download and installation instructions, please see the [SeroBA GitHub-page](https://github.com/sanger-pathogens/seroba).\n",
    "\n",
    "To check that you have installed the software correctly, you can run the following command:"
   ]
  },
  {
   "cell_type": "code",
   "execution_count": null,
   "metadata": {
    "collapsed": true
   },
   "outputs": [],
   "source": [
    "seroba --help"
   ]
  },
  {
   "cell_type": "markdown",
   "metadata": {},
   "source": [
    "This should return the following help message:\n",
    "```\n",
    "usage: seroba <command> <options>\n",
    "\n",
    "optional arguments:\n",
    "  -h, --help     show this help message and exit\n",
    "\n",
    "Available commands:\n",
    "\n",
    "    getPneumocat\n",
    "                 downloads genetic information from PneumoCat\n",
    "    createDBs    creates Databases for kmc and ariba\n",
    "    runSerotyping\n",
    "                 indetify serotype of your input data\n",
    "    summary      output folder has to contain all folders with prediction\n",
    "                 results\n",
    "    version      Get versions and exit\n",
    "```\n",
    "To get started with the tutorial, head to the first section: [What is serotyping?](serotyping.ipynb)\n",
    "The answers to all questions in the tutorial can be found [here](Answers.ipynb)."
   ]
  }
 ],
 "metadata": {
  "kernelspec": {
   "display_name": "Bash",
   "language": "bash",
   "name": "bash"
  },
  "language_info": {
   "codemirror_mode": "shell",
   "file_extension": ".sh",
   "mimetype": "text/x-sh",
   "name": "bash"
  }
 },
 "nbformat": 4,
 "nbformat_minor": 2
}
