{
 "cells": [
  {
   "cell_type": "markdown",
   "metadata": {},
   "source": [
    "# Serotyping"
   ]
  },
  {
   "cell_type": "markdown",
   "metadata": {},
   "source": [
    "A species can be subdivided into different groups based on the antigens expressed on their cell surface. These groups are called serotypes or serovars and the different properties between them can vary greatly. For example, which antigens are expressed on the cell surface of a bacterium can make it more or less virulent, or more or less sensitive to substances like antibiotics."
   ]
  },
  {
   "cell_type": "markdown",
   "metadata": {},
   "source": [
    "## *Streptococcus pneumoniae*"
   ]
  },
  {
   "cell_type": "markdown",
   "metadata": {},
   "source": [
    "Diseases that are caused by *Streptococcus pneumoniae* are a big problem in public health across the world. There are around 100 known serotypes of *S. pneumoniae*. The current conjugate vaccine (pcv13) covers the 13 most common serotypes causing invasive pneumococcal infections in industrialised countries, but because vaccines are serotype specific, it is of great value to be able to quickly and accurately determine serotypes in order to monitor epidemiological trends of *S. pneumoniae* following the introduction of effective vaccines."
   ]
  },
  {
   "cell_type": "markdown",
   "metadata": {},
   "source": [
    "## Serotyping *S. pneumoniae*"
   ]
  },
  {
   "cell_type": "markdown",
   "metadata": {},
   "source": [
    "The serotype of a strain of *S. pneumoniae* is determined by the capsular polysaccharide biosynthesis (cps) locus, pictured below. It is a major virulence factor in *S. pneumoniae*, encoding polysaccharide chains that form a capsule around the cell, helping the bacterium avoid the human immune system.\n",
    "\n",
    "The cps locus can be very similar between serotypes and based on this serotypes can be grouped into serogroups. Serotypes can also be grouped into serogroups by how similar the anigenic response they trigger is."
   ]
  },
  {
   "cell_type": "markdown",
   "metadata": {
    "collapsed": true
   },
   "source": [
    "![cps locus](img/cps_schema.png)"
   ]
  },
  {
   "cell_type": "markdown",
   "metadata": {},
   "source": [
    "Traditionally, determining the serotype of *S. pneumoniae* has predominantly been done with the Quellung reaction or PCR, each with their own limitations. Lately, focus has shifted towards serotyping directly from genomic data."
   ]
  },
  {
   "cell_type": "markdown",
   "metadata": {},
   "source": [
    "## SeroBA "
   ]
  },
  {
   "cell_type": "markdown",
   "metadata": {},
   "source": [
    "Existing software to infer serotypes from genomic data are limited and do not scale well. SeroBA is a pipeline that can quickly and accurately determine the serotype of *S. pneumoniae* from WGS data (Illumina paired-end reads). It uses k-mer analysis and references to determine the serotype of a sample. \n",
    "\n",
    "In this tutorial we will walk you through how to determine the serotypes of two samples using SeroBA, from setting up the necessary databases, to running the analysis, and finally how to interpret the results.\n",
    "\n",
    "For more information and to explore the code behind SeroBA, you can visit the [GitHub page](https://github.com/sanger-pathogens/seroba).\n",
    "\n",
    "We will start with [setting up the databases](db_setup.ipynb) with a few simple commands. You can also [return to the index](index.ipynb)."
   ]
  }
 ],
 "metadata": {
  "kernelspec": {
   "display_name": "Bash",
   "language": "bash",
   "name": "bash"
  },
  "language_info": {
   "codemirror_mode": "shell",
   "file_extension": ".sh",
   "mimetype": "text/x-sh",
   "name": "bash"
  }
 },
 "nbformat": 4,
 "nbformat_minor": 2
}
