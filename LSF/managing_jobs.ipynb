{
 "cells": [
  {
   "cell_type": "markdown",
   "metadata": {},
   "source": [
    "# Managing jobs"
   ]
  },
  {
   "cell_type": "markdown",
   "metadata": {},
   "source": [
    "In this section, we'll be taking a closer look at submitting jobs and how you can manage them once they've been submitted."
   ]
  },
  {
   "cell_type": "markdown",
   "metadata": {},
   "source": [
    "***"
   ]
  },
  {
   "cell_type": "markdown",
   "metadata": {},
   "source": [
    "## Writing job outputs to file\n",
    "\n",
    "In the previous section, we looked at submitting a job using the default options using `bsub`."
   ]
  },
  {
   "cell_type": "code",
   "execution_count": null,
   "metadata": {
    "collapsed": true
   },
   "outputs": [],
   "source": [
    "bsub \"sleep 60\""
   ]
  },
  {
   "cell_type": "markdown",
   "metadata": {},
   "source": [
    "That submission returned a message:"
   ]
  },
  {
   "cell_type": "markdown",
   "metadata": {},
   "source": [
    "    Returning output by mail is not supported on this cluster.\n",
    "    Please use the -o option to write output to disk."
   ]
  },
  {
   "cell_type": "markdown",
   "metadata": {},
   "source": [
    "This message is saying that no matter whether the job succeeds or fails, we don't know what resources it used or if there were any errors because we didn't store that information anywhere. Not tracking information about your job and the outputs and errors it produces makes it difficult to troubleshoot any issues with the job execution.\n",
    "\n",
    "What we can do instead is supply an output file using the `-o` option and an error file using the `-e` option."
   ]
  },
  {
   "cell_type": "markdown",
   "metadata": {},
   "source": [
    "    bsub -o <output_file> -e <error_file> \"command\""
   ]
  },
  {
   "cell_type": "markdown",
   "metadata": {},
   "source": [
    "**Let's give this a try. We'll call our output and error files _myjob.o_ and _myjob.e_.**"
   ]
  },
  {
   "cell_type": "code",
   "execution_count": null,
   "metadata": {
    "collapsed": true
   },
   "outputs": [],
   "source": [
    "bsub -o myjob.o -e myjob.e \"sleep 60\""
   ]
  },
  {
   "cell_type": "markdown",
   "metadata": {},
   "source": [
    "**You can check the progress of your job using `bjobs`.**"
   ]
  },
  {
   "cell_type": "code",
   "execution_count": null,
   "metadata": {
    "collapsed": true
   },
   "outputs": [],
   "source": [
    "bjobs"
   ]
  },
  {
   "cell_type": "markdown",
   "metadata": {},
   "source": [
    "**When the job has finished, print the contents of the output file to terminal using `cat`.** "
   ]
  },
  {
   "cell_type": "code",
   "execution_count": null,
   "metadata": {
    "collapsed": true
   },
   "outputs": [],
   "source": [
    "cat myjob.o"
   ]
  },
  {
   "cell_type": "markdown",
   "metadata": {},
   "source": [
    "    ------------------------------------------------------------\n",
    "    Sender: LSF System <lsfadmin@pcs5a>\n",
    "    Subject: Job 4018040: <sleep 60> in cluster <pcs5> Done\n",
    "\n",
    "    Job <sleep 60> was submitted from host <pcs5a> by user <userA> in cluster <pcs5>.\n",
    "    Job was executed on host(s) <pcs5a>, queue <normal>, user <userA> cluster <pcs5>.\n",
    "    </nfs/users/nfs_u/userA> was used as the home directory.\n",
    "    </nfs/users/nfs_u/userA> was used as the working directory.\n",
    "    Started at Thu Jan 15 12:26:45 2019\n",
    "    Results reported on Thu Jan 15 12:27:45 2019\n",
    "\n",
    "    Your job looked like:\n",
    "\n",
    "    ------------------------------------------------------------\n",
    "    # LSBATCH: User input\n",
    "    sleep 60\n",
    "    ------------------------------------------------------------\n",
    "\n",
    "    Successfully completed.\n",
    "\n",
    "    Resource usage summary:\n",
    "\n",
    "        CPU time :                                   0.82 sec.\n",
    "        Max Memory :                                 5 MB\n",
    "        Average Memory :                             5.00 MB\n",
    "        Total Requested Memory :                     -\n",
    "        Delta Memory :                               -\n",
    "        Max Swap :                                   44 MB\n",
    "        Max Processes :                              3\n",
    "        Max Threads :                                4\n",
    "\n",
    "    The output (if any) is above this job summary.\n",
    "\n",
    "\n",
    "\n",
    "    PS:\n",
    "\n",
    "    Read file <myjob.e> for stderr output of this job."
   ]
  },
  {
   "cell_type": "markdown",
   "metadata": {},
   "source": [
    "**Now, look at your error file using `cat`.**"
   ]
  },
  {
   "cell_type": "code",
   "execution_count": null,
   "metadata": {
    "collapsed": true
   },
   "outputs": [],
   "source": [
    "cat myjob.e"
   ]
  },
  {
   "cell_type": "markdown",
   "metadata": {},
   "source": [
    "Printing our error file won't return anything as the error file was empty. This is because our job didn't have any errors. If it did, they would be logged in the error file and we could use it to try and trace what went wrong."
   ]
  },
  {
   "cell_type": "markdown",
   "metadata": {},
   "source": [
    "You can also incorporate your JOBID into the filename using a special variable **%J**."
   ]
  },
  {
   "cell_type": "markdown",
   "metadata": {},
   "source": [
    "    bsub -o %J.o -e %J.e \"sleep 60\"    "
   ]
  },
  {
   "cell_type": "markdown",
   "metadata": {},
   "source": [
    "Let's say that the JOBID returned when you submitted the job was 4018041. Your output and error files would be called _4018041.o_ and _4018041.e_.\n",
    "\n",
    "You should always try to have different output and error files for each job your submitting. If you submit two jobs writing to _myjob.o_ and _myjob.e_ then it can get confusing as they are both writing to the same file."
   ]
  },
  {
   "cell_type": "markdown",
   "metadata": {},
   "source": [
    "***"
   ]
  },
  {
   "cell_type": "markdown",
   "metadata": {},
   "source": [
    "## Giving your job a name\n",
    "\n",
    "You may have noticed that when you submitted your job earlier and checked its progress with `bjobs` that the JOB_NAME was _sleep 60_. This is because, by default, if no job name is given when you submit the job, the job name will become the command that you submitted."
   ]
  },
  {
   "cell_type": "markdown",
   "metadata": {},
   "source": [
    "    JOBID   USER    STAT  QUEUE      FROM_HOST   EXEC_HOST   JOB_NAME   SUBMIT_TIME\n",
    "    4018040 UserA   PEND  normal     pcs5a       pcs5b       sleep 60   Jan 15 13:26"
   ]
  },
  {
   "cell_type": "markdown",
   "metadata": {},
   "source": [
    "You can give your job a different name using the `-J` option with `bsub`. This can be useful when you're running multiple jobs and want to be able to tell them apart in the queue with `bjobs`.\n",
    "\n",
    "**Let's try submitting a job called \"newjob\" which writes outputs and errors to _newjob.o_ and _newjob.e_.**"
   ]
  },
  {
   "cell_type": "code",
   "execution_count": null,
   "metadata": {
    "collapsed": true
   },
   "outputs": [],
   "source": [
    "bsub -o newjob.o -e newjob.e -J newjob \"sleep 60\""
   ]
  },
  {
   "cell_type": "markdown",
   "metadata": {},
   "source": [
    "**Let's look at the progress of our job using `bjobs`.**"
   ]
  },
  {
   "cell_type": "code",
   "execution_count": null,
   "metadata": {
    "collapsed": true
   },
   "outputs": [],
   "source": [
    "bjobs"
   ]
  },
  {
   "cell_type": "markdown",
   "metadata": {},
   "source": [
    "    JOBID   USER    STAT  QUEUE      FROM_HOST   EXEC_HOST   JOB_NAME   SUBMIT_TIME\n",
    "    4018077 UserA   RUN   normal     pcs5a       pcs5b       newjob     Jan 15 13:34"
   ]
  },
  {
   "cell_type": "markdown",
   "metadata": {},
   "source": [
    "Notice that the JOB_NAME is now _newjob_."
   ]
  },
  {
   "cell_type": "markdown",
   "metadata": {},
   "source": [
    "***"
   ]
  },
  {
   "cell_type": "markdown",
   "metadata": {},
   "source": [
    "## Submitting your job to a particular queue\n",
    "\n",
    "If we don't specify a queue when we submit a job, the job will be submitted to the default queue. To find out which one of the queues is used by default, we can use the command `bparams`."
   ]
  },
  {
   "cell_type": "code",
   "execution_count": null,
   "metadata": {
    "collapsed": true
   },
   "outputs": [],
   "source": [
    "bparams"
   ]
  },
  {
   "cell_type": "markdown",
   "metadata": {},
   "source": [
    "    Default Queues:  normal\n",
    "    Default Host Specification:  BL465c_G8\n",
    "    MBD_SLEEP_TIME used for calculations:  10 seconds\n",
    "    Job Checking Interval:  15 seconds\n",
    "    Job Accepting Interval:  0 seconds"
   ]
  },
  {
   "cell_type": "markdown",
   "metadata": {},
   "source": [
    "Running `bparams` will display information about the system parameters, such as the default queue name. In this example, the default queue is the _normal_ queue. To find out which other queues are available, we can use `bqueues`."
   ]
  },
  {
   "cell_type": "code",
   "execution_count": null,
   "metadata": {
    "collapsed": true
   },
   "outputs": [],
   "source": [
    "bqueues"
   ]
  },
  {
   "cell_type": "markdown",
   "metadata": {},
   "source": [
    "    QUEUE_NAME      PRIO STATUS          MAX JL/U JL/P JL/H NJOBS  PEND   RUN  SUSP\n",
    "    system          1000 Open:Active       -    -    -    -     0     0     0     0\n",
    "    yesterday       500  Open:Active      20    8    -    -     0     0     0     0\n",
    "    small            31  Open:Active       -    -    -    -     0     0     0     0\n",
    "    normal           30  Open:Active       -    -    -    -   103    43    60     0\n",
    "    long              3  Open:Active      50    -    -    -   241   224    15     0\n",
    "    basement          1  Open:Active      20   10    -    -   182   164    18     0"
   ]
  },
  {
   "cell_type": "markdown",
   "metadata": {},
   "source": [
    "Now, let's say that we want to submit a job into the _yesterday_ queue because it's fairly urgent. To do this, we can use the `-q` option with `bsub` followed by the name of the queue which we want to use (e.g. _yesterday_).\n",
    "\n",
    "**Let's try submitting a job into the yesterday queue called \"newjob1\" which writes outputs and errors to newjob1.o and newjob1.e.**"
   ]
  },
  {
   "cell_type": "code",
   "execution_count": null,
   "metadata": {
    "collapsed": true
   },
   "outputs": [],
   "source": [
    "bsub -o newjob1.o -e newjob1.e -J newjob1 -q yesterday \"sleep 60\""
   ]
  },
  {
   "cell_type": "markdown",
   "metadata": {},
   "source": [
    "When you check on the progress with `bjobs` you will see that job is in the _yesterday_ queue."
   ]
  },
  {
   "cell_type": "markdown",
   "metadata": {},
   "source": [
    "    JOBID   USER    STAT  QUEUE      FROM_HOST   EXEC_HOST   JOB_NAME   SUBMIT_TIME\n",
    "    4018119 UserA   RUN   yesterday  pcs5a       pcs5c       newjob1    Jan 15 13:51"
   ]
  },
  {
   "cell_type": "markdown",
   "metadata": {},
   "source": [
    "***"
   ]
  },
  {
   "cell_type": "markdown",
   "metadata": {},
   "source": [
    "## Job resources\n",
    "\n",
    "When we want to reserve more resources for our jobs, we can use the `-R`, `-M` and `-n` options with the `bsub` command. The `-M` option sets LSF the memory limit, `-n` sets the thread limit and the `-R` option tells LSF that the job needs to run on a host which matches the requirements which follow it.\n",
    "\n",
    "**Let's try submitting a job which has a limit of 2GB memory and 4 threads.**"
   ]
  },
  {
   "cell_type": "code",
   "execution_count": null,
   "metadata": {
    "collapsed": true
   },
   "outputs": [],
   "source": [
    "bsub -n 4 -R \"span[hosts=1] select[mem>2000] rusage[mem=2000]\" \\\n",
    "-M 2000 \"sleep 60\""
   ]
  },
  {
   "cell_type": "markdown",
   "metadata": {},
   "source": [
    "Here we can see that the 4 threads are reserved using the `-n` option. Typically when we ask for multiple threads with `-n`, we also add **span[hosts=1]** to the `-R` option. This indicates that all the processors which are allocated to this job must be on the same host. \n",
    "\n",
    "We reserve our 2GB of memory using the `-M` options and `-R` option. Notice that the memory requirement is given in MB (2GB ~ 2000MB). With the `-R` option, we use a select string, **select[mem>2000]**, and a usage string, **rusage[mem=2000]**. The selection string specifies the characteristics that a host must have to match the resource requirement. In this case, more than 2GB memory. The usage string defines the expected resource usage of the job. By default, no resources are reserved.\n",
    "\n",
    "For more information on resource requirements, please see the [resource requirement](https://www.ibm.com/support/knowledgecenter/SSETD4_9.1.3/lsf_admin/res_req_strings_about.html) section of the LSF user manual."
   ]
  },
  {
   "cell_type": "markdown",
   "metadata": {},
   "source": [
    "***"
   ]
  },
  {
   "cell_type": "markdown",
   "metadata": {},
   "source": [
    "## Job workflow\n",
    "\n",
    "Once you have submitted your job, there are several different ways in which you can manage it. Below is a diagram which shows the typical job workflows and related commands."
   ]
  },
  {
   "cell_type": "markdown",
   "metadata": {},
   "source": [
    "![LSF job workflow](images/lsf_workflow.png)"
   ]
  },
  {
   "cell_type": "markdown",
   "metadata": {},
   "source": [
    "Along the top of the diagram is the simplest job workflow. Here, a job is submitted using `bsub` and will have the status _PEND_ until it gets dispatched. "
   ]
  },
  {
   "cell_type": "markdown",
   "metadata": {},
   "source": [
    "    JOBID   USER    STAT  QUEUE      FROM_HOST   EXEC_HOST   JOB_NAME   SUBMIT_TIME\n",
    "    1000    userA   PEND  normal     pcs5b                   job1       Jan 15 14:06"
   ]
  },
  {
   "cell_type": "markdown",
   "metadata": {},
   "source": [
    "Once the job is dispatched, it will start running and get the status _RUN_. "
   ]
  },
  {
   "cell_type": "markdown",
   "metadata": {},
   "source": [
    "    JOBID   USER    STAT  QUEUE      FROM_HOST   EXEC_HOST   JOB_NAME   SUBMIT_TIME\n",
    "    1000    userA   RUN   normal     pcs5b       pcs5c       job1       Jan 15 14:06"
   ]
  },
  {
   "cell_type": "markdown",
   "metadata": {},
   "source": [
    "If all goes well and there are no errors (normal completion) then the job finishes and has the status _DONE_."
   ]
  },
  {
   "cell_type": "markdown",
   "metadata": {},
   "source": [
    "    JOBID   USER    STAT  QUEUE      FROM_HOST   EXEC_HOST   JOB_NAME   SUBMIT_TIME\n",
    "    1000    userA   DONE  normal     pcs5b       pcs5c       job1       Jan 15 14:06"
   ]
  },
  {
   "cell_type": "markdown",
   "metadata": {},
   "source": [
    "If there is a problem with a running job, this will trigger an abnormal exit and the status will become _EXIT_."
   ]
  },
  {
   "cell_type": "markdown",
   "metadata": {},
   "source": [
    "    JOBID   USER    STAT  QUEUE      FROM_HOST   EXEC_HOST   JOB_NAME   SUBMIT_TIME\n",
    "    1000    userA   EXIT  normal     pcs5b       pcs5c       job1       Jan 15 14:06"
   ]
  },
  {
   "cell_type": "markdown",
   "metadata": {},
   "source": [
    "### Cancelling jobs\n",
    "\n",
    "Now, let's consider some deviations from this workflow. First, how do we cancel a job once it's been submitted? "
   ]
  },
  {
   "cell_type": "markdown",
   "metadata": {},
   "source": [
    "    JOBID   USER    STAT  QUEUE      FROM_HOST   EXEC_HOST   JOB_NAME   SUBMIT_TIME\n",
    "    1000    userA   PEND  normal     pcs5b                   job1       Jan 15 14:06    "
   ]
  },
  {
   "cell_type": "markdown",
   "metadata": {},
   "source": [
    "We can cancel or kill a job 1000 using the command `bkill` followed by the JOBID of the job that you want to kill."
   ]
  },
  {
   "cell_type": "markdown",
   "metadata": {},
   "source": [
    "    bkill 1000"
   ]
  },
  {
   "cell_type": "markdown",
   "metadata": {},
   "source": [
    "If you have used a valid JOBID, the `bkill` command should return a message that tells you the job is being terminated."
   ]
  },
  {
   "cell_type": "markdown",
   "metadata": {},
   "source": [
    "    Job <1000> is being terminated"
   ]
  },
  {
   "cell_type": "markdown",
   "metadata": {},
   "source": [
    "Your job status will now get updated from _RUN_ or _PEND_ to _EXIT_."
   ]
  },
  {
   "cell_type": "markdown",
   "metadata": {},
   "source": [
    "    JOBID   USER    STAT  QUEUE      FROM_HOST   EXEC_HOST   JOB_NAME   SUBMIT_TIME\n",
    "    1000    userA   EXIT  normal     pcs5b                   job1       Jan 15 14:06 "
   ]
  },
  {
   "cell_type": "markdown",
   "metadata": {},
   "source": [
    "### Suspending and resuming jobs\n",
    "\n",
    "Let's say you are running a series of commands and you realise there's an error in the input file for one of those commands. When you're running a long job, you probably don't want to have to cancel it and start all over again. If the job hasn't reached that command, you can pause or suspend the job while you fix the input file and resume the job once you're done.\n",
    "\n",
    "To suspend and resume a job you can use the `bstop` and `bresume` commands. First let's look at suspending a pending job (_PEND_).\n",
    "\n",
    "    JOBID   USER    STAT  QUEUE      FROM_HOST   EXEC_HOST   JOB_NAME   SUBMIT_TIME\n",
    "    1000    userA   PEND  normal     pcs5b                   job1       Jan 15 14:06    "
   ]
  },
  {
   "cell_type": "markdown",
   "metadata": {},
   "source": [
    "To suspend this job, we use `bstop` followed by the JOBID."
   ]
  },
  {
   "cell_type": "markdown",
   "metadata": {},
   "source": [
    "    bstop 1000 "
   ]
  },
  {
   "cell_type": "markdown",
   "metadata": {},
   "source": [
    "The job status will now become _PSUSP_ as the job was suspended by a user while it was pending."
   ]
  },
  {
   "cell_type": "markdown",
   "metadata": {},
   "source": [
    "    JOBID   USER    STAT  QUEUE      FROM_HOST   EXEC_HOST   JOB_NAME   SUBMIT_TIME\n",
    "    1000    userA   PSUSP normal     pcs5b                   job1       Jan 15 14:06 "
   ]
  },
  {
   "cell_type": "markdown",
   "metadata": {},
   "source": [
    "To allow the job to be dispatched again, we can use the command `bresume` followed by the JOBID."
   ]
  },
  {
   "cell_type": "markdown",
   "metadata": {},
   "source": [
    "    bresume 1000"
   ]
  },
  {
   "cell_type": "markdown",
   "metadata": {},
   "source": [
    "The job status will now return back to _PEND_ while the job waits to be dispatched."
   ]
  },
  {
   "cell_type": "markdown",
   "metadata": {},
   "source": [
    "    JOBID   USER    STAT  QUEUE      FROM_HOST   EXEC_HOST   JOB_NAME   SUBMIT_TIME\n",
    "    1000    userA   PEND  normal     pcs5b                   job1       Jan 15 14:06 "
   ]
  },
  {
   "cell_type": "markdown",
   "metadata": {},
   "source": [
    "You can also suspend a running job using `bstop`. In this case, the status will be updated to _USUSP_ instead of _PSUSP_."
   ]
  },
  {
   "cell_type": "markdown",
   "metadata": {},
   "source": [
    "    JOBID   USER    STAT  QUEUE      FROM_HOST   EXEC_HOST   JOB_NAME   SUBMIT_TIME\n",
    "    1000    userA   USUSP normal     pcs5b                   job1       Jan 15 14:06  "
   ]
  },
  {
   "cell_type": "markdown",
   "metadata": {},
   "source": [
    "When you resume a previously running job that has been suspended with `bresume`, there may be an interim status of _SSUSP_ before the job starts running again (_RUN_).\n",
    "\n",
    "For more information on suspending, resuming and cancelling jobs, please see the [controlling job execution](https://www.ibm.com/support/knowledgecenter/en/SSWRJV_10.1.0/lsf_admin_foundations/control_job_exec.html) section in the LSF user guide."
   ]
  },
  {
   "cell_type": "markdown",
   "metadata": {},
   "source": [
    "## Moving a job to a different queue\n",
    "\n",
    "Let's use as an example, a job which has been submitted to the _normal_ queue and is waiting to be dispatched (PEND). "
   ]
  },
  {
   "cell_type": "markdown",
   "metadata": {},
   "source": [
    "    JOBID   USER    STAT  QUEUE      FROM_HOST   EXEC_HOST   JOB_NAME   SUBMIT_TIME\n",
    "    1000    userA   PEND  normal     pcs5b                   job1       Jan 15 14:06"
   ]
  },
  {
   "cell_type": "markdown",
   "metadata": {},
   "source": [
    "Now, let's say that we've made a mistake and that we know this submitted job will run for longer than the _normal_ queue will allow. What can we do?\n",
    "\n",
    "Well, you could kill the job with `bkill` followed by the JOBID of the job you want to cancel. You can then submit the job again specifying a different queue using the `bsub` option `-q` and the name of the queue you want to use. This would create a new job in a different queue (e.g. _long_)."
   ]
  },
  {
   "cell_type": "markdown",
   "metadata": {},
   "source": [
    "    bkill <JOBID>\n",
    "    bsub -q <queue_name> <command>"
   ]
  },
  {
   "cell_type": "markdown",
   "metadata": {},
   "source": [
    "Alternatively, you can move the pending job to a different queue using `bswitch`."
   ]
  },
  {
   "cell_type": "markdown",
   "metadata": {},
   "source": [
    "    bswitch <destination_queue> <JOBID>"
   ]
  },
  {
   "cell_type": "markdown",
   "metadata": {},
   "source": [
    "So, to move our job (JOBID = 1000) from the _normal_ queue (jobs killed after 12 hours) to the _long_ queue (jobs killed after 48 hours) we would run:"
   ]
  },
  {
   "cell_type": "markdown",
   "metadata": {},
   "source": [
    "    bswitch long 1000"
   ]
  },
  {
   "cell_type": "markdown",
   "metadata": {},
   "source": [
    "And if we looked again using `bjobs` we can see that the job has been moved into the `long` queue."
   ]
  },
  {
   "cell_type": "markdown",
   "metadata": {},
   "source": [
    "    JOBID   USER    STAT  QUEUE      FROM_HOST   EXEC_HOST   JOB_NAME   SUBMIT_TIME\n",
    "    1000    userA   PEND  long       pcs5b                   job1       Jan 15 14:06"
   ]
  },
  {
   "cell_type": "markdown",
   "metadata": {},
   "source": [
    "For more information on moving jobs between queues, please see the [switching queues](https://www.ibm.com/support/knowledgecenter/SSETD4_9.1.3/lsf_admin/job_switch_queue.html) section of the LSF user guide."
   ]
  },
  {
   "cell_type": "markdown",
   "metadata": {},
   "source": [
    "***"
   ]
  },
  {
   "cell_type": "markdown",
   "metadata": {},
   "source": [
    "## What's next?\n",
    "\n",
    "For an overview of basic job submission, you can go back to [job submission](job_submission.ipynb). Otherwise, let's take a look at [job arrays and dependencies](job_arrays.ipynb)."
   ]
  }
 ],
 "metadata": {
  "anaconda-cloud": {},
  "kernelspec": {
   "display_name": "Bash",
   "language": "bash",
   "name": "bash"
  },
  "language_info": {
   "codemirror_mode": "shell",
   "file_extension": ".sh",
   "mimetype": "text/x-sh",
   "name": "bash"
  }
 },
 "nbformat": 4,
 "nbformat_minor": 2
}
