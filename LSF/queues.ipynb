{
 "cells": [
  {
   "cell_type": "markdown",
   "metadata": {},
   "source": [
    "# Job queues \n",
    "\n",
    "When you submit a job, the job scheduler will place that job into a queue. Queues are just lists of submitted jobs which share scheduling and resource requirements."
   ]
  },
  {
   "cell_type": "markdown",
   "metadata": {},
   "source": [
    "**To take a look at which queues are available, you can use the command: `bqueues`.**"
   ]
  },
  {
   "cell_type": "code",
   "execution_count": null,
   "metadata": {
    "collapsed": true
   },
   "outputs": [],
   "source": [
    "bqueues"
   ]
  },
  {
   "cell_type": "markdown",
   "metadata": {},
   "source": [
    "    QUEUE_NAME      PRIO STATUS          MAX JL/U JL/P JL/H NJOBS  PEND   RUN  SUSP\n",
    "    system          1000 Open:Active       -    -    -    -     0     0     0     0\n",
    "    yesterday       500  Open:Active      20    8    -    -     0     0     0     0\n",
    "    small            31  Open:Active       -    -    -    -     0     0     0     0\n",
    "    normal           30  Open:Active       -    -    -    -    35    13     1     0\n",
    "    long              3  Open:Active      50    -    -    - 31686 31636    46     0\n",
    "    basement          1  Open:Active      20   10    -    -   180   170    10     0"
   ]
  },
  {
   "cell_type": "markdown",
   "metadata": {},
   "source": [
    "This will return information about the queues which are available and how busy they are. Here, we can see information about six queues into which jobs can be submitted on the cluster.  \n",
    "\n",
    "By default, `bqueues` will give you the following information:"
   ]
  },
  {
   "cell_type": "markdown",
   "metadata": {},
   "source": [
    "  * **QUEUE_NAME** - the name of the queue\n",
    "  * **PRIO** - the priority of the queue\n",
    "  * **STATUS** - the status of the queue\n",
    "  * **MAX** - the maximum number of job slots available\n",
    "  * **JL/U, JL/P and JL/H** - the job slot limit for users, processors and hosts respectively\n",
    "  * **NJOBS** - the total number of tasks for all jobs in the queue\n",
    "  * **PEND** - the number of pending jobs in the queue\n",
    "  * **RUN** - the number of running jobs in the queue\n",
    "  * **SUSP** - the number of suspended jobs in the queue"
   ]
  },
  {
   "cell_type": "markdown",
   "metadata": {},
   "source": [
    "***"
   ]
  },
  {
   "cell_type": "markdown",
   "metadata": {},
   "source": [
    "## How busy is the cluster?\n",
    "\n",
    "For each queue, you can see the total number of tasks scheduled (**NJOBS**) and a breakdown of how many of those jobs are waiting to be dispatched (**PEND**), are running (**RUN**) or are suspended (**SUSP**)."
   ]
  },
  {
   "cell_type": "markdown",
   "metadata": {},
   "source": [
    "## Queue priority\n",
    "\n",
    "You may have some jobs which are more urgent than others and that you would like to be run sooner. In these instances, the priority of the queue is important. \n",
    "\n",
    "Jobs submitted to higher priority queues are run first. You can check the queue priority by looking at the **PRIO** column. The larger the priority value of the queue, the higher the priority of the queue. In this example, we can see that the **yesterday** queue has a much higher priority than the **normal** queue and so a job submitted to the yesterday queue will often be run before a job on the normal queue if the resources that were requested for that job are available.\n",
    "\n",
    "For more information on priority and how this works, please see [priority and fairshare](priority_and_fairshare.ipynb)."
   ]
  },
  {
   "cell_type": "markdown",
   "metadata": {},
   "source": [
    "## Queue status\n",
    "\n",
    "Sometimes a queue might not be available. You can check the status of the queue by looking at the **STATUS** column. \n",
    "\n",
    "  * **Open** - the queue _is_ able to accept jobs\n",
    "  * **Closed** - the queue _is not_ able to accept jobs\n",
    "  * **Active** - jobs in the queue will be allowed to start when resources are available\n",
    "  * **Inactive** - jobs in the queue won't be started for the time being"
   ]
  },
  {
   "cell_type": "markdown",
   "metadata": {},
   "source": [
    "***"
   ]
  },
  {
   "cell_type": "markdown",
   "metadata": {},
   "source": [
    "## Getting more information about a particular queue\n",
    "\n",
    "You can get more detailed information by using the `-l` option with `bqueues`.\n",
    "\n",
    "**Let's try getting some information about the queues on our cluster.**"
   ]
  },
  {
   "cell_type": "code",
   "execution_count": null,
   "metadata": {
    "collapsed": true
   },
   "outputs": [],
   "source": [
    "bqueues -l"
   ]
  },
  {
   "cell_type": "markdown",
   "metadata": {},
   "source": [
    "This will give you the requirements and limits for all of the queues on the cluster. You can also get the this information for a specific queue by specifying the name of the queue. \n",
    "\n",
    "    bqueues -l <queue_name>\n",
    "\n",
    "In the example command below, we are asking for detailed information about a queue called yesterday."
   ]
  },
  {
   "cell_type": "markdown",
   "metadata": {
    "collapsed": true
   },
   "source": [
    "    bqueues -l yesterday"
   ]
  },
  {
   "cell_type": "markdown",
   "metadata": {},
   "source": [
    "The `-l` option will give us a lot more information, such as the resource limits for the yesterday queue (e.g. maximum memory usage or run time). "
   ]
  },
  {
   "cell_type": "markdown",
   "metadata": {},
   "source": [
    "    QUEUE: yesterday\n",
    "      -- As in I needed it yesterday highest priority (all nodes)\n",
    "\n",
    "    PARAMETERS/STATISTICS\n",
    "    PRIO NICE STATUS          MAX JL/U JL/P JL/H NJOBS  PEND   RUN SSUSP USUSP  RSV\n",
    "    500   20  Open:Active      20    8    -    -     0     0     0     0     0    0\n",
    "    Interval for a host to accept two jobs is 0 seconds\n",
    "\n",
    "    DEFAULT LIMITS:\n",
    "     MEMLIMIT\n",
    "        100 M\n",
    "\n",
    "    MAXIMUM LIMITS:\n",
    "     RUNLIMIT\n",
    "         2880.0 min of BL465c_G8\n",
    "\n",
    "     CORELIMIT MEMLIMIT\n",
    "          0 M     250 G\n",
    "\n",
    "    SCHEDULING PARAMETERS\n",
    "               r15s   r1m  r15m   ut      pg    io   ls    it    tmp    swp    mem\n",
    "     loadSched   -     -     -     -       -     -    -     -     -      -      -\n",
    "     loadStop    -     -     -     -       -     -    -     -     -      -      -\n",
    "\n",
    "                  poe nrt_windows adapter_windows ntbl_windows  uptime\n",
    "     loadSched     -           -               -            -       -\n",
    "     loadStop      -           -               -            -       -\n",
    "\n",
    "    SCHEDULING POLICIES:  FAIRSHARE\n",
    "    USER_SHARES:  [default, 1]\n",
    "\n",
    "    SHARE_INFO_FOR: yesterday/\n",
    "    USER/GROUP   SHARES  PRIORITY  STARTED  RESERVED  CPU_TIME  RUN_TIME   ADJUST\n",
    "    user1            1       0.302      0        0        47.0     1590       0.000\n",
    "    user2            1       0.301      0        0       590.3     1634       0.000\n",
    "\n",
    "    USERS: all\n",
    "    HOSTS:  pcs5a pcs5b+1 others+2\n",
    "    RES_REQ:  select[type==any]\n",
    "    Maximum slot reservation time: 14400 seconds"
   ]
  },
  {
   "cell_type": "markdown",
   "metadata": {},
   "source": [
    "Below is an example for three queues which have different resource limits. Here, jobs in the normal queue will automatically be terminated or killed by LSF if they try to run for more than 12 hours (RUNLIMIT = 720.0 min), in the long queue after 2 days (RUNLIMIT = 2880.0 min) and in the hugemem queue after 15 days (RUNLIMIT = 21600.0 min). The hugemem also has a much larger memory limit (727.5G) than the normal or long queues (250G)."
   ]
  },
  {
   "cell_type": "markdown",
   "metadata": {},
   "source": [
    "**normal**:\n",
    "\n",
    "     RUNLIMIT\n",
    "     720.0 min of BL465c_G8\n",
    "\n",
    "     CORELIMIT MEMLIMIT\n",
    "          0 M     250 G\n",
    "\n",
    "**long**:\n",
    "\n",
    "     RUNLIMIT\n",
    "     2880.0 min of BL465c_G8\n",
    "\n",
    "     CORELIMIT MEMLIMIT\n",
    "          0 M     250 G\n",
    "\n",
    "**hugemem**:\n",
    "\n",
    "     RUNLIMIT\n",
    "     21600.0 min of HS21_E5450_8\n",
    "\n",
    "     CORELIMIT MEMLIMIT\n",
    "          0 M   727.5 G\n"
   ]
  },
  {
   "cell_type": "markdown",
   "metadata": {},
   "source": [
    "For more information, please see the [working with queues](https://www.ibm.com/support/knowledgecenter/SSETD4_9.1.3/lsf_admin/chap_queues_working_with.html) section of the LSF user guide."
   ]
  },
  {
   "cell_type": "markdown",
   "metadata": {},
   "source": [
    "***"
   ]
  },
  {
   "cell_type": "markdown",
   "metadata": {},
   "source": [
    "## What's next?\n",
    "\n",
    "For an overview of the key concepts, you can go back to the [introduction](index.ipynb). Otherwise, let's take a look at [submitting jobs](submitting_jobs.ipynb)."
   ]
  }
 ],
 "metadata": {
  "anaconda-cloud": {},
  "kernelspec": {
   "display_name": "Bash",
   "language": "bash",
   "name": "bash"
  },
  "language_info": {
   "codemirror_mode": "shell",
   "file_extension": ".sh",
   "mimetype": "text/x-sh",
   "name": "bash"
  }
 },
 "nbformat": 4,
 "nbformat_minor": 2
}
