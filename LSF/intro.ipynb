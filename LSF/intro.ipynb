{
 "cells": [
  {
   "cell_type": "markdown",
   "metadata": {},
   "source": [
    "# Introduction\n",
    "\n",
    "This part of the tutorial describes the basic structure of a compute cluster and introduces the key concepts behind the workload manager, LSF. After completing this section, you should be able to: describe the basic structure of a cluster, define key terms and find information about cluster structure using LSF.\n",
    "\n",
    "## What is a cluster?\n",
    "\n",
    "A cluster is a set of connected computers (**nodes** or **hosts**) which work together. When you log in to the cluster from your local machine, you will most likely be connecting to the **head node**. The head node handles the submission of the computational tasks you want to perform. These tasks are then passed on to the **compute nodes** where they will subsequently be run."
   ]
  },
  {
   "cell_type": "markdown",
   "metadata": {},
   "source": [
    "![Cluster structure](images/cluster_structure.png)"
   ]
  },
  {
   "cell_type": "markdown",
   "metadata": {},
   "source": [
    "You don't have to log into the head node, you can also log in to a compute node. When you log into the head node, you can use it to submit your jobs, migrate data between file systems and housekeeping. However, you should _**not**_ be running computationally intensive jobs on the head node outside of LSF."
   ]
  },
  {
   "cell_type": "markdown",
   "metadata": {},
   "source": [
    "## What is LSF?\n",
    "\n",
    "When analysing data on a single machine, such as a laptop, commands or scripts are run in the terminal and the results are given back via the terminal. On a cluster, we need to run these commands or scripts as **jobs**. \n",
    "\n",
    "The resources required to run the jobs may not always be available straight away, so the jobs get submitted into a **queue**. A queue is a list of jobs which are waiting for resources (pending) or being executed (running). As jobs in the queue finish executing, the resources they were using become available again and the next job in the queue will start running. \n",
    "\n",
    "Job scheduling and execution is controlled by the platform load sharing facility (**LSF**) which manages the workload."
   ]
  },
  {
   "cell_type": "markdown",
   "metadata": {},
   "source": [
    "![Job processing](images/job_processing.png)"
   ]
  },
  {
   "cell_type": "markdown",
   "metadata": {},
   "source": [
    "For more information, please see the [about LSF](https://www.ibm.com/support/knowledgecenter/SSETD4_9.1.3/lsf_users_guide/chap_lsf_about.html) section of the LSF user guide."
   ]
  },
  {
   "cell_type": "markdown",
   "metadata": {},
   "source": [
    "***"
   ]
  },
  {
   "cell_type": "markdown",
   "metadata": {},
   "source": [
    "This tutorial assumes that you are currently connected to a cluster which has LSF installed (e.g. pcs or farm for Sanger users).\n",
    "\n",
    "**Let's start by getting some general information about the cluster.** "
   ]
  },
  {
   "cell_type": "code",
   "execution_count": null,
   "metadata": {
    "collapsed": true
   },
   "outputs": [],
   "source": [
    "lsid "
   ]
  },
  {
   "cell_type": "markdown",
   "metadata": {},
   "source": [
    "    IBM Platform LSF Standard 9.1.3.0, Jul 04 2014\n",
    "    Copyright IBM Corp. 1992, 2014. All rights reserved.\n",
    "    US Government Users Restricted Rights...\n",
    "\n",
    "    My cluster name is pcs5\n",
    "    My master name is pcs5a"
   ]
  },
  {
   "cell_type": "markdown",
   "metadata": {},
   "source": [
    "This should tell you the name of the cluster you're connected to (e.g. pcs5) and the version of LSF it's using (e.g. 9.1.3.0)."
   ]
  },
  {
   "cell_type": "markdown",
   "metadata": {},
   "source": [
    "**Next, let's take a look at how the cluster is structured.**"
   ]
  },
  {
   "cell_type": "code",
   "execution_count": null,
   "metadata": {
    "collapsed": false
   },
   "outputs": [],
   "source": [
    "lshosts"
   ]
  },
  {
   "cell_type": "markdown",
   "metadata": {},
   "source": [
    "    HOST_NAME      type    model  cpuf ncpus maxmem maxswp server RESOURCES\n",
    "    pcs5a        X86_64 BL465c_G   8.0    32 255.9G  31.9G    Yes (mg linux lustre)\n",
    "    pcs5b        X86_64 BL465c_G   8.0    32 255.9G  31.9G    Yes (mg linux lustre)\n",
    "    pcs5c        X86_64 BL465c_G   8.0    32 255.9G  31.9G    Yes (linux lustre avx)\n",
    "    pcs5d        X86_64 BL465c_G   8.0    32 255.9G  31.9G    Yes (linux lustre avx)\n",
    "    pcs5e        X86_64 BL465c_G   8.0    32 255.9G  31.9G    Yes (linux lustre avx)"
   ]
  },
  {
   "cell_type": "markdown",
   "metadata": {},
   "source": [
    "This should tell you which hosts (nodes) are part of the cluster. In this example, there are five hosts called pcs5a-e."
   ]
  },
  {
   "cell_type": "markdown",
   "metadata": {},
   "source": [
    "**Finally, let's take get some information about the hosts.**"
   ]
  },
  {
   "cell_type": "code",
   "execution_count": null,
   "metadata": {
    "collapsed": true
   },
   "outputs": [],
   "source": [
    "bhosts"
   ]
  },
  {
   "cell_type": "markdown",
   "metadata": {},
   "source": [
    "    HOST_NAME          STATUS       JL/U    MAX  NJOBS    RUN  SSUSP  USUSP    RSV\n",
    "    pcs5a              ok              -     16      8      8      0      0      0\n",
    "    pcs5b              ok              -     16      0      0      0      0      0\n",
    "    pcs5c              closed          -     32     32     11      0      0     21\n",
    "    pcs5d              ok              -     32     26     26      0      0      0\n",
    "    pcs5e              ok              -     32     24     20      0      0      4"
   ]
  },
  {
   "cell_type": "markdown",
   "metadata": {},
   "source": [
    "For each host, this gives us the host name, host status, job state statistics, and job slot limits. The host status tells us whether the host is available and ready to accept new jobs.  \n",
    "\n",
    "There are four possible host status states:\n",
    "\n",
    " - **ok** - host is available to accept and run new batch jobs\n",
    " - **unavail** - host is down, or load and job management controls are unreachable\n",
    " - **unreach** - load management controls are running but job management controls are unreachable\n",
    " - **closed** - host not accepting new jobs\n",
    " \n",
    "To find out why a host is closed you can run `bhosts` again with the `-w` option which returns more detailed information about the host."
   ]
  },
  {
   "cell_type": "code",
   "execution_count": null,
   "metadata": {
    "collapsed": true
   },
   "outputs": [],
   "source": [
    "bhosts -w"
   ]
  },
  {
   "cell_type": "markdown",
   "metadata": {},
   "source": [
    "    HOST_NAME          STATUS          JL/U    MAX  NJOBS    RUN  SSUSP  USUSP    RSV\n",
    "    pcs5a              ok              -     16      0      0      0      0      0\n",
    "    pcs5b              ok              -     16      0      0      0      0      0\n",
    "    pcs5c              closed_Full     -     32     32     11      0      0     21\n",
    "    pcs5d              ok              -     32     30     26      0      0      4\n",
    "    pcs5e              ok              -     32     28     28      0      0      0"
   ]
  },
  {
   "cell_type": "markdown",
   "metadata": {},
   "source": [
    "This tells us that the maximum number of jobs which can be run on that host has been reached (see values for STATUS, MAX and NJOBS). Once those jobs have started to complete, the host will be ready to accept new jobs."
   ]
  },
  {
   "cell_type": "markdown",
   "metadata": {},
   "source": [
    "***"
   ]
  },
  {
   "cell_type": "markdown",
   "metadata": {},
   "source": [
    "## What's next?\n",
    "\n",
    "For an overview of what this tutorial covers, head to the [index](index.ipynb). Otherwise, let's take a closer look at [queues](queues.ipynb)."
   ]
  }
 ],
 "metadata": {
  "anaconda-cloud": {},
  "kernelspec": {
   "display_name": "Bash",
   "language": "bash",
   "name": "bash"
  },
  "language_info": {
   "codemirror_mode": "shell",
   "file_extension": ".sh",
   "mimetype": "text/x-sh",
   "name": "bash"
  }
 },
 "nbformat": 4,
 "nbformat_minor": 2
}
