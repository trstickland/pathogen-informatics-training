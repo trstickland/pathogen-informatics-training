{
 "cells": [
  {
   "cell_type": "markdown",
   "metadata": {},
   "source": [
    "# Running jobs with LSF\n",
    "\n",
    "## Introduction\n",
    "\n",
    "A single laptop or desktop PC may be used to process, analyse and visualise biological datasets. However, these datasets can be quite large, making computational analysis on a single machine painfully slow and sometimes impossible. In these situations, a compute farm can be used to run the analysis more efficiently. In this tutorial, we will look at what a compute farm is and how we can use a job manager, such as LSF, to perform computational tasks more efficiently.\n",
    "\n",
    "\n",
    "## Learning outcomes\n",
    "On completion of the tutorial, you can expect to be able to:\n",
    "\n",
    "* view cluster structure using LSF\n",
    "* view queue information using LSF\n",
    "* submit and manage jobs using LSF\n",
    "* submit job arrays using LSF\n",
    "* submit dependent jobs using LSF\n",
    "* understand priority and fairshare in LSF\n",
    "* troubleshoot LSF issues\n",
    "\n",
    "\n",
    "## Tutorial sections\n",
    "This tutorial comprises the following sections:   \n",
    "\n",
    " 1. [Introduction](intro.ipynb)\n",
    " 2. [Job queues](queues.ipynb)\n",
    " 3. [Submitting jobs](submitting_jobs.ipynb) \n",
    " 4. [Managing jobs](managing_jobs.ipynb)\n",
    " 5. [Job arrays and dependencies](job_arrays.ipynb)\n",
    " 6. [Priority and fairshare](priority_and_fairshare.ipynb)\n",
    " 7. [Troubleshooting](troubleshooting.ipynb)\n",
    " 8. [LSF cheat sheet](cheat_sheet.ipynb)\n",
    "\n",
    "## Authors\n",
    "This tutorial was written by [Victoria Offord](https://github.com/vaofford).\n",
    "\n",
    "## Running the commands from this tutorial\n",
    "You can run the commands in this tutorial either directly from the Jupyter notebook (if using Jupyter), or by typing the commands in your terminal window. \n",
    "\n",
    "### Running commands on Jupyter\n",
    "If you are using Jupyter, command cells (like the one below) can be run by selecting the cell and clicking _Cell -> Run_ from the menu above or using _ctrl Enter_ to run the command. Let's give this a try by printing our working directory using the _pwd_ command and listing the files within it. Run the commands in the two cells below."
   ]
  },
  {
   "cell_type": "code",
   "execution_count": null,
   "metadata": {
    "collapsed": true
   },
   "outputs": [],
   "source": [
    "pwd"
   ]
  },
  {
   "cell_type": "code",
   "execution_count": null,
   "metadata": {
    "collapsed": true
   },
   "outputs": [],
   "source": [
    "ls -l"
   ]
  },
  {
   "cell_type": "markdown",
   "metadata": {},
   "source": [
    "### Running commands in the terminal\n",
    "You can also follow this tutorial by typing all the commands you see into a terminal window. This is similar to the \"Command Prompt\" window on MS Windows systems, which allows the user to type DOS commands to manage files.\n",
    "\n",
    "To get started, select the cell below with the mouse and then either press control and enter or choose Cell -> Run in the menu at the top of the page."
   ]
  },
  {
   "cell_type": "code",
   "execution_count": null,
   "metadata": {
    "collapsed": true
   },
   "outputs": [],
   "source": [
    "echo cd $PWD"
   ]
  },
  {
   "cell_type": "markdown",
   "metadata": {},
   "source": [
    "Now open a new terminal on your computer and type the command that was output by the previous cell followed by the enter key. The command will look similar to this:\n",
    "\n",
    "    cd /home/manager/pathogen-informatics-training/Notebooks/LSF/\n",
    "    \n",
    "Now you can follow the instructions in the tutorial from here.\n",
    "\n",
    "## Let’s get started!\n",
    "\n",
    "This tutorial assumes that you are connected to a compute farm with LSF installed.  To check that you have installed these correctly, you can run the following commands:"
   ]
  },
  {
   "cell_type": "code",
   "execution_count": null,
   "metadata": {
    "collapsed": true
   },
   "outputs": [],
   "source": [
    "bqueues -h"
   ]
  },
  {
   "cell_type": "code",
   "execution_count": null,
   "metadata": {
    "collapsed": true
   },
   "outputs": [],
   "source": [
    "bsub -h"
   ]
  },
  {
   "cell_type": "code",
   "execution_count": null,
   "metadata": {
    "collapsed": true
   },
   "outputs": [],
   "source": [
    "bjobs -h"
   ]
  },
  {
   "cell_type": "markdown",
   "metadata": {},
   "source": [
    "This should return the help message for `bqueues`, `bsub` and `bjobs` respectively.\n",
    "\n",
    "To get started with the tutorial, head to the first section: [Introduction](intro.ipynb)"
   ]
  }
 ],
 "metadata": {
  "anaconda-cloud": {},
  "kernelspec": {
   "display_name": "Bash",
   "language": "bash",
   "name": "bash"
  },
  "language_info": {
   "codemirror_mode": "shell",
   "file_extension": ".sh",
   "mimetype": "text/x-sh",
   "name": "bash"
  }
 },
 "nbformat": 4,
 "nbformat_minor": 2
}
