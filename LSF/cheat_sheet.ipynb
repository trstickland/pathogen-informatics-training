{
 "cells": [
  {
   "cell_type": "markdown",
   "metadata": {},
   "source": [
    "# Cheat sheet\n",
    "\n",
    "Below is a list of commands and their meaning taken from the LSF user guide [here](https://www.ibm.com/support/knowledgecenter/SSETD4_9.1.3/lsf_users_guide)."
   ]
  },
  {
   "cell_type": "markdown",
   "metadata": {},
   "source": [
    "***"
   ]
  },
  {
   "cell_type": "markdown",
   "metadata": {},
   "source": [
    "## Cluster overview\n",
    "\n",
    "  * **lshosts** - Displays information about hosts in the cluster  \n",
    "  \n",
    "  \n",
    "  * **bhosts** - Displays information about hosts and their resources\n",
    "  \n",
    "  \n",
    "  * **lsid** - Displays the cluster name  \n",
    "  \n",
    "  \n",
    "  * **lsclusters** - Displays cluster status and size  "
   ]
  },
  {
   "cell_type": "markdown",
   "metadata": {},
   "source": [
    "***"
   ]
  },
  {
   "cell_type": "markdown",
   "metadata": {},
   "source": [
    "## Queue information\n",
    "\n",
    "  * **bqueues** - Displays information about queues  "
   ]
  },
  {
   "cell_type": "markdown",
   "metadata": {},
   "source": [
    "***"
   ]
  },
  {
   "cell_type": "markdown",
   "metadata": {},
   "source": [
    "## Job execution management\n",
    "\n",
    "  * **bjobs** - Displays information about scheduled jobs\n",
    "  \n",
    "  \n",
    "  * **bsub** - Submits job(s) for execution\n",
    "  \n",
    "  \n",
    "  * **bstop** - Suspends job(s)\n",
    "  \n",
    "  \n",
    "  * **bresume** - Resumes suspended job(s)\n",
    "  \n",
    "  \n",
    "  * **bkill** - Cancels scheduled job(s)\n",
    "\n",
    "  \n",
    "  * **bswitch** - Moves job(s) to a different queue\n",
    "  \n",
    "  \n",
    "  * **bmod** - Modifies the properties of pending job(s)\n",
    "\n",
    "  \n",
    "  * **btop** - Moves job(s) relative to your first job in the queue\n",
    "  \n",
    "  \n",
    "  * **bbot** - Moves job(s) relative to your last job in the queue"
   ]
  },
  {
   "cell_type": "markdown",
   "metadata": {},
   "source": [
    "*** "
   ]
  },
  {
   "cell_type": "markdown",
   "metadata": {},
   "source": [
    "## General information\n",
    "\n",
    "  * **bacct**  - Displays accounting statistics about finished jobs"
   ]
  },
  {
   "cell_type": "markdown",
   "metadata": {},
   "source": [
    "***"
   ]
  },
  {
   "cell_type": "markdown",
   "metadata": {},
   "source": [
    "## bqueues\n",
    "\n",
    "Get more information about a particular queue:\n",
    "\n",
    "    bqueues -r <queue_name>"
   ]
  },
  {
   "cell_type": "markdown",
   "metadata": {},
   "source": [
    "***"
   ]
  },
  {
   "cell_type": "markdown",
   "metadata": {},
   "source": [
    "## bsub\n",
    "\n",
    "Submit a job:\n",
    "\n",
    "    bsub <command>\n",
    "    \n",
    "\n",
    "Submit a job to a particular queue:\n",
    "\n",
    "    bsub -q <queue_name> <command>\n",
    "\n",
    "Submit a job which writes output and errors to file:\n",
    "\n",
    "    bsub -o <output_file> -e <error_file> <command>\n",
    "\n",
    "Submit a job reserving 1GB (1000MB) memory:\n",
    "\n",
    "    bsub -M 1000 -R 'select[mem>1000] rusage[mem=1000]' <command>\n",
    "    \n",
    "Submit a job requiring 8 threads:\n",
    "\n",
    "    bsub -n 8 <command>\n",
    "    "
   ]
  },
  {
   "cell_type": "markdown",
   "metadata": {},
   "source": [
    "***"
   ]
  },
  {
   "cell_type": "markdown",
   "metadata": {},
   "source": [
    "## bjobs\n",
    "\n",
    "List jobs owned by all users:\n",
    "\n",
    "    bjobs -u all\n",
    "\n",
    "List jobs owned by a particular user:\n",
    "\n",
    "    bjobs -u <username>\n",
    "    \n",
    "List jobs for all users in a particular queue:\n",
    "\n",
    "    bjobs -u all -q <queue_name>\n",
    "    \n",
    "List your pending jobs:\n",
    "\n",
    "    bjobs -p\n",
    "    \n",
    "List your running jobs:\n",
    "\n",
    "    bjobs -r\n",
    "    \n",
    "List your finished jobs:\n",
    "\n",
    "    bjobs -d\n",
    "\n",
    "List your suspended jobs:\n",
    "\n",
    "    bjobs -s\n",
    "    \n",
    "Get more information about a particular job:\n",
    "\n",
    "    bjobs -l <JOBID>"
   ]
  },
  {
   "cell_type": "markdown",
   "metadata": {},
   "source": [
    "***"
   ]
  },
  {
   "cell_type": "markdown",
   "metadata": {},
   "source": [
    "## bstop\n",
    "\n",
    "Suspend a job:\n",
    "\n",
    "    bstop <JOBID>"
   ]
  },
  {
   "cell_type": "markdown",
   "metadata": {},
   "source": [
    "***"
   ]
  },
  {
   "cell_type": "markdown",
   "metadata": {},
   "source": [
    "## bresume\n",
    "\n",
    "Resume a job: \n",
    "\n",
    "    bresume <JOBID>"
   ]
  },
  {
   "cell_type": "markdown",
   "metadata": {},
   "source": [
    "***"
   ]
  },
  {
   "cell_type": "markdown",
   "metadata": {},
   "source": [
    "## bkill\n",
    "\n",
    "Cancel a job:\n",
    "\n",
    "    bkill <JOBID>"
   ]
  },
  {
   "cell_type": "markdown",
   "metadata": {},
   "source": [
    "***"
   ]
  },
  {
   "cell_type": "markdown",
   "metadata": {},
   "source": [
    "## bswitch\n",
    "\n",
    "Move job to a different queue:\n",
    "\n",
    "    bswitch <destination_queue> <JOBID>\n",
    "    "
   ]
  },
  {
   "cell_type": "markdown",
   "metadata": {},
   "source": [
    "***"
   ]
  },
  {
   "cell_type": "markdown",
   "metadata": {},
   "source": [
    "## bmod\n",
    "\n",
    "Modify the parameters of a pending job:\n",
    "\n",
    "    bmod <options> <JOBID>\n",
    "    \n",
    "Update the job name:\n",
    "\n",
    "    bmod -J <new_job_name> <JOBID>\n",
    "\n",
    "Update the output and error file paths:\n",
    "\n",
    "    bmod -o <output_file> -e <error_file> <JOBID>\n",
    "\n",
    "Update the job resources:\n",
    "\n",
    "    bmod -M <memory_in_MB> -R 'select[mem><memory_in_MB>] rusage[mem=<memory_in_MB>]' <JOBID>"
   ]
  },
  {
   "cell_type": "markdown",
   "metadata": {},
   "source": [
    "***"
   ]
  },
  {
   "cell_type": "markdown",
   "metadata": {},
   "source": [
    "## btop\n",
    "\n",
    "Move job to the top of your job list:\n",
    "\n",
    "    btop <JOBID>"
   ]
  },
  {
   "cell_type": "markdown",
   "metadata": {},
   "source": [
    "***"
   ]
  },
  {
   "cell_type": "markdown",
   "metadata": {},
   "source": [
    "## bbot\n",
    "\n",
    "Move job to the bottom of your job list:\n",
    "\n",
    "    bbot <JOBID>"
   ]
  }
 ],
 "metadata": {
  "anaconda-cloud": {},
  "kernelspec": {
   "display_name": "Bash",
   "language": "bash",
   "name": "bash"
  },
  "language_info": {
   "codemirror_mode": "shell",
   "file_extension": ".sh",
   "mimetype": "text/x-sh",
   "name": "bash"
  }
 },
 "nbformat": 4,
 "nbformat_minor": 2
}
