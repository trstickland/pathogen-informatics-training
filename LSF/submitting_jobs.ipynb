{
 "cells": [
  {
   "cell_type": "markdown",
   "metadata": {},
   "source": [
    "# Submitting jobs\n",
    "\n",
    "When analysing data on a single machine, such as a laptop, commands or scripts are run in the terminal and the results are given back to us in that terminal. For example, the `sleep` command tells your machine to suspend the execution of a command for a defined period of time (in seconds).  \n",
    "\n",
    "**Let's tell our machine to pause for 60 seconds.**"
   ]
  },
  {
   "cell_type": "code",
   "execution_count": null,
   "metadata": {
    "collapsed": true
   },
   "outputs": [],
   "source": [
    "sleep 60"
   ]
  },
  {
   "cell_type": "markdown",
   "metadata": {},
   "source": [
    "When using a cluster, these commands or scripts need to be submitted as jobs. To submit a job with LSF, we use the `bsub` command.\n",
    "\n",
    "**Now, let's submit the previous command as a job using `bsub`.**"
   ]
  },
  {
   "cell_type": "code",
   "execution_count": null,
   "metadata": {
    "collapsed": false
   },
   "outputs": [],
   "source": [
    "bsub \"sleep 60\""
   ]
  },
  {
   "cell_type": "markdown",
   "metadata": {},
   "source": [
    "    Returning output by mail is not supported on this cluster.\n",
    "    Please use the -o option to write output to disk.\n",
    "    Job <4015755> is submitted to default queue <normal>."
   ]
  },
  {
   "cell_type": "markdown",
   "metadata": {},
   "source": [
    "When you submit a job, it will be given a unique identifier (e.g. 4015755) which will help us with getting updates on what's happening with our job. To find out what jobs are scheduled and running, we can use another command, `bjobs`.\n",
    "\n",
    "**We can see how our job is getting on by running `bjobs`.**"
   ]
  },
  {
   "cell_type": "code",
   "execution_count": null,
   "metadata": {
    "collapsed": false
   },
   "outputs": [],
   "source": [
    "bjobs"
   ]
  },
  {
   "cell_type": "markdown",
   "metadata": {},
   "source": [
    "    JOBID   USER    STAT  QUEUE      FROM_HOST   EXEC_HOST   JOB_NAME   SUBMIT_TIME\n",
    "    4015755 abc     PEND  normal     pcs5b                   sleep 10   Jan 15 14:06"
   ]
  },
  {
   "cell_type": "markdown",
   "metadata": {},
   "source": [
    "This will give us the following information:\n",
    "\n",
    "  * **JOBID** - unique numerical job identifier used to keep track of the job\n",
    "  * **USER** - username of the person who submitted the job\n",
    "  * **STAT** - job state\n",
    "  * **QUEUE** - which queue the job was submitted to\n",
    "  * **FROM_HOST** - which host the job was submitted from\n",
    "  * **EXEC_HOST** - which host the job is running on (blank if job is pending)\n",
    "  * **JOB_NAME** - name of the job\n",
    "  * **SUBMIT_TIME** - when the job was submitted"
   ]
  },
  {
   "cell_type": "markdown",
   "metadata": {},
   "source": [
    "Most jobs will have one of three states (STAT):\n",
    "\n",
    "  * **PEND** - the job is waiting in the queue to be scheduled and dispatched\n",
    "  * **RUN** - the job has been dispatched to a host (node) and is running\n",
    "  * **DONE** - the jobs finished normally (has an exit value of 0) \n",
    "\n",
    "Occasionally, you may also see suspended job states:\n",
    "\n",
    "  * **PSUSP** - job was suspended by the owner or administrator while pending\n",
    "  * **USUSP** - job was suspended by the owner or administrator after being dispatched\n",
    "  * **SSUSP** - job was suspended by LSF after being dispatched\n",
    "  \n",
    "\n",
    "\n"
   ]
  },
  {
   "cell_type": "markdown",
   "metadata": {},
   "source": [
    "In this example, we can see that our job was submitted to the _normal_ queue by default and that it hasn't started yet (_PEND_).\n",
    "\n",
    "**Let's check again.**"
   ]
  },
  {
   "cell_type": "code",
   "execution_count": null,
   "metadata": {
    "collapsed": true
   },
   "outputs": [],
   "source": [
    "bjobs"
   ]
  },
  {
   "cell_type": "markdown",
   "metadata": {},
   "source": [
    "    JOBID   USER    STAT  QUEUE      FROM_HOST   EXEC_HOST   JOB_NAME   SUBMIT_TIME\n",
    "    4015755 abc     RUN   normal     pcs5b       pcs5c       sleep 10   Jan 15 14:06"
   ]
  },
  {
   "cell_type": "markdown",
   "metadata": {},
   "source": [
    "Here we can see that our job has now started running (_RUN_) and is being executed on _pcs5c_ (EXEC_HOST).\n",
    "\n",
    "**Let's wait a little longer and check one more time.**"
   ]
  },
  {
   "cell_type": "code",
   "execution_count": null,
   "metadata": {
    "collapsed": true
   },
   "outputs": [],
   "source": [
    "bjobs"
   ]
  },
  {
   "cell_type": "markdown",
   "metadata": {},
   "source": [
    "    No unfinished job found"
   ]
  },
  {
   "cell_type": "markdown",
   "metadata": {},
   "source": [
    "Now we can't see any jobs. Why? That's because our job has finished running and we have no more jobs scheduled.\n",
    "\n",
    "Did you notice the message that was returned when you submitted your job?"
   ]
  },
  {
   "cell_type": "markdown",
   "metadata": {},
   "source": [
    "    Returning output by mail is not supported on this cluster.\n",
    "    Please use the -o option to write output to disk."
   ]
  },
  {
   "cell_type": "markdown",
   "metadata": {},
   "source": [
    "This is because we used the default options and didn't specify an output file or an error file. We'll be looking at why printing the job outputs to files is good practice (and very useful!) in the next section.\n",
    "\n",
    "\n",
    "You can find more information on job submission in general by looking through the [job submission](https://www.ibm.com/support/knowledgecenter/SSETD4_9.1.3/lsf_users_guide/job_submit.html) and [job information](https://www.ibm.com/support/knowledgecenter/SSETD4_9.1.3/lsf_admin/job_info_view_lsf.html) sections of the LSF user manual."
   ]
  },
  {
   "cell_type": "markdown",
   "metadata": {},
   "source": [
    "***"
   ]
  },
  {
   "cell_type": "markdown",
   "metadata": {},
   "source": [
    "## What's next?\n",
    "\n",
    "For another look at queues, you can go back to [queues](queues.ipynb). Otherwise, let's take a closer look at [managing jobs](managing_jobs.ipynb)."
   ]
  }
 ],
 "metadata": {
  "anaconda-cloud": {},
  "kernelspec": {
   "display_name": "Bash",
   "language": "bash",
   "name": "bash"
  },
  "language_info": {
   "codemirror_mode": "shell",
   "file_extension": ".sh",
   "mimetype": "text/x-sh",
   "name": "bash"
  }
 },
 "nbformat": 4,
 "nbformat_minor": 2
}
