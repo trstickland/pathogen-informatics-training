{
 "cells": [
  {
   "cell_type": "markdown",
   "metadata": {},
   "source": [
    "# Answers\n",
    "\n",
    "To run the commands alongside the answers you must first have run all of the tutorial commands for that section and generated the output files they reference.\n",
    "\n",
    "## Tutorial sections\n",
    "\n",
    "  * [Aligning the PAX5 sample to the genome](#Aligning-the-PAX5-sample-to-the-genome)  \n",
    "  * [Visualising alignments in IGV](#Visualising-alignments-in-IGV)\n",
    "  * [File formats](#File-formats)\n",
    "  * [Inspecting genomic regions using bedtools](#Inspecting-genomic regions-using-bedtools)\n",
    "  * [Motif analysis](#Motif-analysis)"
   ]
  },
  {
   "cell_type": "markdown",
   "metadata": {},
   "source": [
    "***"
   ]
  },
  {
   "cell_type": "markdown",
   "metadata": {},
   "source": [
    "**Let's go to our data directory.**"
   ]
  },
  {
   "cell_type": "code",
   "execution_count": null,
   "metadata": {
    "collapsed": true
   },
   "outputs": [],
   "source": [
    "cd data"
   ]
  },
  {
   "cell_type": "markdown",
   "metadata": {},
   "source": [
    "***"
   ]
  },
  {
   "cell_type": "markdown",
   "metadata": {},
   "source": [
    "## Aligning the PAX5 sample to the genome"
   ]
  },
  {
   "cell_type": "markdown",
   "metadata": {},
   "source": [
    "**Q1. How can you distinguish between the header of the SAM format and the actual alignments?**\n",
    "\n",
    "Each header line begins with the **@** character followed by one of the two-letter header record type codes and each alignment line starts with the read name."
   ]
  },
  {
   "cell_type": "markdown",
   "metadata": {},
   "source": [
    "![PAX5.sam](images/PAX5_sam.png) "
   ]
  },
  {
   "cell_type": "markdown",
   "metadata": {},
   "source": [
    "**Q2. What information does the header provide you with?**\n",
    "\n",
    "The header is categorised using two letter record type codes."
   ]
  },
  {
   "cell_type": "markdown",
   "metadata": {},
   "source": [
    "| Record type | Description |\n",
    "| --- | --- |\n",
    "| @HD | header line with general information about the file |\n",
    "| @SQ | reference sequence dictionary and alignment order |\n",
    "| @PG | Programs used to generate the alignment file |"
   ]
  },
  {
   "cell_type": "markdown",
   "metadata": {},
   "source": [
    "Within each of these categories are a series of tags and values."
   ]
  },
  {
   "cell_type": "markdown",
   "metadata": {},
   "source": [
    "| Record type | Tag | Description |\n",
    "| --- | --- | --- |\n",
    "| @HD | VN | format version |\n",
    "| @HD | SO | alignment sorting order |\n",
    "| @SQ | SN | reference sequence name |\n",
    "| @SQ | LN | reference sequence length |\n",
    "| @PG | ID | program record identifier |\n",
    "| @PG | PN | program name |\n",
    "| @PG | VN | program version number |\n",
    "| @PG | CL | command used when the program was run |"
   ]
  },
  {
   "cell_type": "markdown",
   "metadata": {},
   "source": [
    "**Q3. Which chromosome are the reads mapped to?**\n",
    "\n",
    "The reads are aligned to chromosome 1 (**chr1**). You're looking for this line in the header.\n",
    "\n",
    "    @SQ\tSN:chr1\tLN:249250621"
   ]
  },
  {
   "cell_type": "markdown",
   "metadata": {},
   "source": [
    "***"
   ]
  },
  {
   "cell_type": "markdown",
   "metadata": {},
   "source": [
    "## Visualising alignments in IGV\n",
    "\n",
    "**Q1. Look for gene NASP in the search box. Can you see a PAX5 binding site near the NASP gene?**\n",
    "\n",
    "When you have loaded your PAX5.sorted.bam and PAX5.bw into IGV, made the necessary adjustments and searched for NASP, you should see the following."
   ]
  },
  {
   "cell_type": "markdown",
   "metadata": {},
   "source": [
    "![PAX5.sam](images/IGV_NASP.png) "
   ]
  },
  {
   "cell_type": "markdown",
   "metadata": {},
   "source": [
    "There is a peak representing a PAX5 binding site approximately 1kb upstream of the NASP gene, in the promoter region."
   ]
  },
  {
   "cell_type": "markdown",
   "metadata": {
    "collapsed": true
   },
   "source": [
    "![PAX5.sam](images/IGV_NASP_peak.png) "
   ]
  },
  {
   "cell_type": "markdown",
   "metadata": {},
   "source": [
    "**Q2. What is the main difference between the visualisation of BAM and bigWig files?**\n",
    "\n",
    "bigWig files display dense, continuous data as a graph whereas BAM files display the read alignment pileup which is discrete."
   ]
  },
  {
   "cell_type": "markdown",
   "metadata": {},
   "source": [
    "***"
   ]
  },
  {
   "cell_type": "markdown",
   "metadata": {},
   "source": [
    "## File formats\n",
    "\n",
    "**Q1. The simplest bed file contains just three columns (chromosome, start, end) and is often called BED3 format. What extra columns does BED6 contain?**\n",
    "\n",
    "BED6 contains **BED3** columns with the addition of three extra columns: **name**, **score** and **strand**\n",
    "\n",
    "**Q2. In the above examples, what are the lengths of the intervals?**\n",
    "\n",
    "The intervals in the example were **50**, **500** and **200** respectively.  Remember that the start co-ordinates are 0-based which means that you can just subtract the start position from the end position."
   ]
  },
  {
   "cell_type": "markdown",
   "metadata": {},
   "source": [
    "| chromosome | start | end | length |\n",
    "| :-: | :-: | :-: | :-: |\n",
    "| chr1 | 50 | 100 | 100 - 50 = 50 |\n",
    "| chr1 | 500 | 1000 | 1000 - 500 = 500 |\n",
    "| chr2 | 600 | 800 | 800 - 600 = 200 |"
   ]
  },
  {
   "cell_type": "markdown",
   "metadata": {},
   "source": [
    "**Q3. Can you output a BED6 format with a transcript called \"loc1\", transcribed on the forward strand and having three exons of length 100 starting at positions 1000, 2000 and 3000?**"
   ]
  },
  {
   "cell_type": "markdown",
   "metadata": {
    "collapsed": true
   },
   "source": [
    "| chromosome | start | end | name | score | strand |\n",
    "| :-: | :-: | :-: | :-: | :-: | :-: |\n",
    "| chr1 | 1000 | 1100 | loc1 | . | + |\n",
    "| chr1 | 2000 | 2100 | loc1 | . | + |\n",
    "| chr1 | 3000 | 3100 | loc1 | . | + |"
   ]
  },
  {
   "cell_type": "markdown",
   "metadata": {},
   "source": [
    "**Q4. What additional information is given in the narrowPeak file, beside the location of the peaks?**\n",
    "\n",
    "narrowPeak files are in BED6+4 format which contains the peak locations together with **overall enrichment**, **peak summit**, **p-value** and **q-value**."
   ]
  },
  {
   "cell_type": "markdown",
   "metadata": {},
   "source": [
    "| column name | description |\n",
    "| --- | --- |\n",
    "| signalValue | overall/average enrichment for the region |\n",
    "| pValue | -log10(pvalue) for the peak summit  |\n",
    "| qValue | -log10(qvalue) for the peak summit |\n",
    "| peak | summit position relative to peak start |"
   ]
  },
  {
   "cell_type": "markdown",
   "metadata": {},
   "source": [
    "**Q5. Does the first peak that was called look convincing to you?**\n",
    "\n",
    "Look at the peak in IGV by entering the coordinates in the search box (i.e. _chr1:710543-710713_)."
   ]
  },
  {
   "cell_type": "markdown",
   "metadata": {},
   "source": [
    "![images/PAX5_peak_1_full.png](images/PAX5_peak_1_full.png) "
   ]
  },
  {
   "cell_type": "markdown",
   "metadata": {},
   "source": [
    "If you hover over the peak annotation, you can see some of the information produced by MACS2 for this peak."
   ]
  },
  {
   "cell_type": "markdown",
   "metadata": {},
   "source": [
    "![images/PAX5_peak_1.png](images/PAX5_peak_1.png) "
   ]
  },
  {
   "cell_type": "markdown",
   "metadata": {},
   "source": [
    "There are 29 reads piled up under this peak which has a q-value of 10. Remember that this is a negative log and so is equivalent to 1e-10."
   ]
  },
  {
   "cell_type": "markdown",
   "metadata": {},
   "source": [
    "| chromosome | start | end | name | score | strand |signalValue | pValue | qValue | peak |\n",
    "| :-: | :-: | :-: | :-: | :-: | :-: | :-: | :-: | :-: | :-: |\n",
    "| chr1 | 710543 | 710713 | PAX5_peak_1 | 137 | . | 7.50382 | 13.75727 | 10.47078 | 97 |"
   ]
  },
  {
   "cell_type": "markdown",
   "metadata": {},
   "source": [
    "**Q6. In the small example table above, why have the coordinates changed from the BED description?**\n",
    "\n",
    "From the BED file:"
   ]
  },
  {
   "cell_type": "markdown",
   "metadata": {},
   "source": [
    "|chromosome|start|end|\n",
    "|:-:|:-:|:-:|\n",
    "| chr1 | 50 | 100 |"
   ]
  },
  {
   "cell_type": "markdown",
   "metadata": {},
   "source": [
    "From the GTF file:"
   ]
  },
  {
   "cell_type": "markdown",
   "metadata": {},
   "source": [
    "| chromosome | start | stop |\n",
    "| :-: | :-: | :-: |\n",
    "| chr1 | 51 | 100 |"
   ]
  },
  {
   "cell_type": "markdown",
   "metadata": {},
   "source": [
    "Notice that the start values differ by 1.  This is because the start coordinates in BED format are **0-based** (i.e. first base is at position 0) while the start coordinates in GTF format are **1-based** (i.e. the first base is at position 1)."
   ]
  },
  {
   "cell_type": "markdown",
   "metadata": {},
   "source": [
    "***"
   ]
  },
  {
   "cell_type": "markdown",
   "metadata": {},
   "source": [
    "## Inspecting genomic regions using bedtools\n",
    "\n",
    "\n",
    "**Q1. Looking at the output of the `bedtools genomecov` we ran, what percentage of chromosome 1 do the peaks of PAX5 cover?**\n",
    "\n",
    "The peaks of PAX5 cover **0.28%** of chromosome 1 (chr1).\n",
    "\n",
    "The output of `bedtools genomecov` contains 5 columns which represent:\n",
    "\n",
    "  1. chromosome (or entire genome)\n",
    "  2. depth of coverage from features in input file\n",
    "  3. number of bases on chromosome (or genome) with depth equal to column 2\n",
    "  4.  size of chromosome (or entire genome) in base pairs\n",
    "  5. fraction of bases on chromosome (or entire genome) with depth equal to column 2\n",
    "  \n",
    "The output for chromosome 1 was:\n",
    "\n",
    "    chr1\t0\t248561847   249250621\t0.997237\n",
    "    chr1\t1\t602947      249250621\t0.00241904\n",
    "    chr1\t2\t68077       249250621\t0.000273127\n",
    "    chr1\t3\t15400       249250621\t6.17852e-05\n",
    "    chr1\t4\t963         249250621\t3.86358e-06\n",
    "    chr1\t7\t1387\t    249250621\t5.56468e-06\n",
    "    \n",
    "The important value here is in column 5 - fraction of bases with depth equal to column 2.\n",
    "\n",
    "There are two ways to get the percentage. The first is to add together the  fraction of bases which have a depth > 1 on chr1 and convert it into a percentage.\n",
    "\n",
    "    0.00241904 + 0.000273127 + 6.17852e-05 + 3.86358e-06 + 5.56468e-06\n",
    "    = 0.00276338 \n",
    "    = 0.28%\n",
    "\n",
    "Alternatively, you could subtract the fraction of bases with 0 coverage from 1.\n",
    "\n",
    "    1 - 0.997237 = 0.002763 = 0.28%\n"
   ]
  },
  {
   "cell_type": "markdown",
   "metadata": {},
   "source": [
    "**Q2. Looking at the output from `bedtools intersect`, what proportion of PAX5 peaks overlap genes?**\n",
    "\n",
    "**72%** of the PAX5 peaks overlap genes (a proportion of **0.72**).\n",
    "\n",
    "You need to divide the number of peaks overlapping genes (2722) by the total number of peaks (3799).\n",
    "\n",
    "**Q3. Looking at `PAX5_closestTSS.txt`, which gene was found to be closest to MACS peak 2?**\n",
    "\n",
    "The closest gene to PAX5_peak_2 is a **lincRNA** called **RP11-206L10**."
   ]
  },
  {
   "cell_type": "markdown",
   "metadata": {},
   "source": [
    "***"
   ]
  },
  {
   "cell_type": "markdown",
   "metadata": {},
   "source": [
    "## Motif analysis\n",
    "\n",
    "**Q1. Which motif was found to be the most similar to your motif?**\n",
    "\n",
    "Using the output from Tomtom, we can see that the most similar motif is **PAX5**."
   ]
  },
  {
   "cell_type": "markdown",
   "metadata": {},
   "source": [
    "![images/tomtom_motif.png](images/tomtom_motif.png) "
   ]
  }
 ],
 "metadata": {
  "anaconda-cloud": {},
  "kernelspec": {
   "display_name": "Bash",
   "language": "bash",
   "name": "bash"
  },
  "language_info": {
   "codemirror_mode": "shell",
   "file_extension": ".sh",
   "mimetype": "text/x-sh",
   "name": "bash"
  }
 },
 "nbformat": 4,
 "nbformat_minor": 2
}
