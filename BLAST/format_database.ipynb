{
 "cells": [
  {
   "cell_type": "markdown",
   "metadata": {},
   "source": [
    "# Part 1: Creating a BLAST database"
   ]
  },
  {
   "cell_type": "markdown",
   "metadata": {},
   "source": [
    "## Introduction\n",
    "\n",
    "As mentioned before, we need two things to run a local BLAST search:\n",
    "* _Your query sequence_\n",
    "* _A database to search_\n",
    "\n",
    "When you run BLAST online, you are offered a series of pre-formatted databases (e.g. nr/nt, refseq_rna...). You can download these databases from [ftp://ftp.ncbi.nlm.nih.gov/blast/db/](ftp://ftp.ncbi.nlm.nih.gov/blast/db/).  This is great, but what if we want to search our query against our own set of sequences? \n",
    "\n",
    "Your sequences will typically be in FASTA format, but BLAST cannot use this. So, this part of tutorial will show you how to use **makeblastdb** to convert your FASTA sequences into a format which BLAST can use.  "
   ]
  },
  {
   "cell_type": "markdown",
   "metadata": {},
   "source": [
    "## Storing database files\n",
    "Before we get started, let's consider a bit of housekeeping.  BLAST databases are typically kept in a folder called **db**.  Within this, it is good practice to give each of your databases _their own folder_.  This is so that you don't accidentally overwrite the original files when you download newer versions of the same database or accidentally replace an old database by giving your new database the same name. \n",
    "\n",
    "To have a look at what we mean, let's take a look at the **db** folder for this tutorial. "
   ]
  },
  {
   "cell_type": "code",
   "execution_count": null,
   "metadata": {
    "collapsed": false
   },
   "outputs": [],
   "source": [
    "ls db"
   ]
  },
  {
   "cell_type": "markdown",
   "metadata": {},
   "source": [
    "In this part of the tutorial, we are going to create a BLAST database from a set of FASTA-formatted _bacteria_ sequences which can be found in the bacteria folder (_db/bacteria/bacteria.fa_).  Let's take a closer look."
   ]
  },
  {
   "cell_type": "code",
   "execution_count": null,
   "metadata": {
    "collapsed": true
   },
   "outputs": [],
   "source": [
    "cd db/bacteria"
   ]
  },
  {
   "cell_type": "code",
   "execution_count": null,
   "metadata": {
    "collapsed": false
   },
   "outputs": [],
   "source": [
    "ls"
   ]
  },
  {
   "cell_type": "code",
   "execution_count": null,
   "metadata": {
    "collapsed": false
   },
   "outputs": [],
   "source": [
    "head bacteria.fa"
   ]
  },
  {
   "cell_type": "markdown",
   "metadata": {},
   "source": [
    "**What is the name of the file containing our FASTA sequences?**  \n",
    "_hint: it will have the file extension .fa or .fasta_\n",
    "\n",
    "**What type of sequences do we have in our bacteria file?**  \n",
    "_hint: are they nucleotide or protein?_"
   ]
  },
  {
   "cell_type": "markdown",
   "metadata": {},
   "source": [
    "## Creating a BLAST database\n",
    "\n",
    "To create a BLAST database from our FASTA sequences we use the **makeblastdb** application. Information about the different parameters we can give to _makeblastdb_ can be found by typing **makeblastdb --help**.  \n",
    "\n",
    "However, there are two parameters we must _always_ give to **makeblastdb**: the location of our input file and the type of sequences it contains."
   ]
  },
  {
   "cell_type": "markdown",
   "metadata": {},
   "source": [
    "| **Parameter** | **Meaning** |\n",
    "| :---          | :---              |\n",
    "| **-in**       | The location of the file containing your FASTA sequences.                       |\n",
    "| **-dbtype**   | The type of sequences in your database (_e.g. nucleotide=nucl or protein=prot_) |"
   ]
  },
  {
   "cell_type": "markdown",
   "metadata": {},
   "source": [
    "Using these parameters, the command we need will take the format:  \n",
    "\n",
    "**makeblastdb** **-in** [_input file_] **-db_type** [_nucl or prot_]\n",
    "\n",
    "Using the answers from the previous section and the information above, let's try creating our BLAST database. "
   ]
  },
  {
   "cell_type": "code",
   "execution_count": null,
   "metadata": {
    "collapsed": false
   },
   "outputs": [],
   "source": [
    "makeblastdb -in bacteria.fa -dbtype nucl "
   ]
  },
  {
   "cell_type": "markdown",
   "metadata": {},
   "source": [
    "Using the output generated from our command, try and answer the following:\n",
    "\n",
    "**What is our new BLAST database (DB) called?**  \n",
    "\n",
    "**How many sequences were added to our new database?**\n",
    "\n",
    "If you want to check that the number of sequences added to the new database match the number of sequences in our FASTA file we can use _grep_."
   ]
  },
  {
   "cell_type": "code",
   "execution_count": null,
   "metadata": {
    "collapsed": false
   },
   "outputs": [],
   "source": [
    "grep -c '>' bacteria.fa"
   ]
  },
  {
   "cell_type": "markdown",
   "metadata": {},
   "source": [
    "** Was the number of sequences added to our database the same as the number of sequences in our FASTA file?**\n",
    "\n",
    "Now let's take a look at the files we have created."
   ]
  },
  {
   "cell_type": "code",
   "execution_count": null,
   "metadata": {
    "collapsed": false
   },
   "outputs": [],
   "source": [
    "ls -l"
   ]
  },
  {
   "cell_type": "markdown",
   "metadata": {},
   "source": [
    "You will notice that three new files have been created with new file extensions: .nhr, .nin and .nsq.  You don't need to worry what these files are but in general: .nhr file are the headers, .nin the index and .nsq the sequences.  "
   ]
  },
  {
   "cell_type": "markdown",
   "metadata": {},
   "source": [
    "## Naming databases and creating logfiles\n",
    "\n",
    "In the previous section we created a database using _only_ the required parameters. However, there are several other parameters which can be very useful."
   ]
  },
  {
   "cell_type": "markdown",
   "metadata": {},
   "source": [
    "| **Parameter** | **Meaning** |\n",
    "| :---          | :---              |\n",
    "| **-title**    | The name of the database (_e.g. how it will be referenced by BLAST_)            |\n",
    "| **-out**      | The prefix for your output database files (_e.g. database.nin,database.nhr..._) |\n",
    "| **-logfile**  | The file in which to write all command output and errors                        |"
   ]
  },
  {
   "cell_type": "markdown",
   "metadata": {},
   "source": [
    "Let's take a look at what these parameters actually do. The following command will generate a BLAST database called **bacteria_nucl** from our FASTA sequences stored in **bacteria.fa** which can be recalled by BLAST using the reference **bacteria_nucl** and writes all command line output to **bacteria_nucl.log**"
   ]
  },
  {
   "cell_type": "code",
   "execution_count": null,
   "metadata": {
    "collapsed": false
   },
   "outputs": [],
   "source": [
    "makeblastdb -in bacteria.fa -dbtype nucl -title bacteria_nucl \\\n",
    "    -out bacteria_nucl -logfile bacteria_nucl.log"
   ]
  },
  {
   "cell_type": "markdown",
   "metadata": {},
   "source": [
    "Did you notice that this time there was no output (_e.g. Building a new DB,...._)?  This has all been written to **bacteria_nucl.log**.  Let's take a look."
   ]
  },
  {
   "cell_type": "code",
   "execution_count": null,
   "metadata": {
    "collapsed": false
   },
   "outputs": [],
   "source": [
    "head bacteria_nucl.log"
   ]
  },
  {
   "cell_type": "markdown",
   "metadata": {},
   "source": [
    "Let's also take a look at the database files generated."
   ]
  },
  {
   "cell_type": "code",
   "execution_count": null,
   "metadata": {
    "collapsed": false
   },
   "outputs": [],
   "source": [
    "ls -l"
   ]
  },
  {
   "cell_type": "markdown",
   "metadata": {},
   "source": [
    "Here you will see the files created by our first command, which used only the required parameters, have the prefix _bacteria.fa_.  This is because by default -out is the same as -in (_see makeblastdb --help_).  We changed this by giving a simpler prefix e.g. -out bacteria_nucl.  This can be very useful when you have complex file names but want a simpler or more descriptive database name."
   ]
  },
  {
   "cell_type": "markdown",
   "metadata": {},
   "source": [
    "# Exercise 1 \n",
    "\n",
    "You will have noticed that there is also a file in the /bacteria folder called **bacteria_tr.fa** which also contains FASTA sequences which need to be converted into a BLAST database. Create a BLAST database from this file which has the output prefix **bacteria_prot** and can be referenced using the title **bacteria_prot**. \n",
    "\n",
    "It is up to you whether you create a logfile but it is worth using _head_ to check the type of sequences.  \n",
    "(_hint: they might not be nucleotide_).\n",
    "\n",
    "**What do you notice about the file extensions for the bacteria_prot database?**  \n",
    "(_hint: use ls -l_)\n",
    "\n",
    "**Why do you think they are different from the previous files?**  \n",
    "(_hint: sequence type_)"
   ]
  },
  {
   "cell_type": "markdown",
   "metadata": {},
   "source": [
    "## Summary\n",
    "\n",
    "We have created two BLAST databases, one nucleotide (bacteria_nucl) and one protein (bacteria_prot), each containing 75 bacterial sequences which we will now use in the next part of the tutorial. Click [here](run_blast.ipynb) for how to run a BLAST search, or [return to the index](index.ipynb).\n",
    "\n",
    "The answers to the questions in this tutoial can be found [here](general_question_and_exercise_answers.ipynb)."
   ]
  }
 ],
 "metadata": {
  "anaconda-cloud": {},
  "kernelspec": {
   "display_name": "Bash",
   "language": "bash",
   "name": "bash"
  },
  "language_info": {
   "codemirror_mode": "shell",
   "file_extension": ".sh",
   "mimetype": "text/x-sh",
   "name": "bash"
  }
 },
 "nbformat": 4,
 "nbformat_minor": 1
}
