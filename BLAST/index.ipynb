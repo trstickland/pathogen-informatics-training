{
 "cells": [
  {
   "cell_type": "markdown",
   "metadata": {},
   "source": [
    "# Introduction to BLAST\n",
    "## Introduction\n",
    "**B**asic **L**ocal **A**lignment **S**earch **T**ool (**BLAST**) is a powerful tool for comparing and identifying sequences which share similarity. This can be useful for several reasons:\n",
    "\n",
    "* Identifying an unknown sequence by finding annotated (or known) sequences which are similar\n",
    "* Finding similar sequences in other species (e.g. orthologs)\n",
    "* Predicting function by identifying similar regions in other sequences which already have a known function\n",
    "\n",
    "In this tutorial, we are going to use a version of BLAST called **BLAST+**.  \n",
    "\n",
    "BLAST+ is split into different applications which are based on the type of sequence provided by you, the user, as well as the type of sequences in the database being searched. There are three things you will need each time you want to run a BLAST search:\n",
    "\n",
    "* **A query sequence** (_can be nucleotide or protein_)  \n",
    "* **A sequence database** (_can be nucleotide or protein_)  \n",
    "* **A BLAST application** (_this will depend on your query sequence and database - more on this later!_)\n",
    "\n",
    "Why do I need this tutorial you may say! Well, running BLAST+ is like running a lab experiment. To get meaningful results, you must first optimize the conditions you are using. After this tutorial you will not only be able to run BLAST, but be able to tailor your search to your specific biological question.\n",
    "\n",
    "## Learning outcomes\n",
    "By the end of this tutorial you can expect to be able to:\n",
    "\n",
    "* Create a BLAST database from your own sequences\n",
    "* Describe the difference between BLAST programs and when to use them\n",
    "* Run BLAST locally\n",
    "* Generate tailored BLAST output files \n",
    "\n",
    "## Tutorial sections\n",
    "This tutorial is split into two sections: \n",
    "\n",
    "* [Part 1: Creating a BLAST database](format_database.ipynb) \n",
    "* [Part 2: Running a local BLAST+ search](run_blast.ipynb)\n",
    "\n",
    "## Authors\n",
    "This tutorial was created by [Victoria Offord](https://github.com/vaofford).\n",
    "\n",
    "## Running the commands from this tutorial\n",
    "You can run the commands in this tutorial either directly from the Jupyter notebook (if using Jupyter), or by typing the commands in your terminal window. \n",
    "\n",
    "### Running commands on Jupyter\n",
    "If you are using Jupyter, command cells (like the one below) can be run by selecting the cell and clicking _Cell -> Run_ from the menu above or using _ctrl Enter_ to run the command. Let's give this a try by printing our working directory using the _pwd_ command and listing the files within it. Run the commands in the two cells below."
   ]
  },
  {
   "cell_type": "code",
   "execution_count": null,
   "metadata": {
    "collapsed": true
   },
   "outputs": [],
   "source": [
    "pwd"
   ]
  },
  {
   "cell_type": "code",
   "execution_count": null,
   "metadata": {
    "collapsed": true
   },
   "outputs": [],
   "source": [
    "ls -l"
   ]
  },
  {
   "cell_type": "markdown",
   "metadata": {},
   "source": [
    "### Running commands in the terminal\n",
    "You can also follow this tutorial by typing all the commands you see into a terminal window. This is similar to the \"Command Prompt\" window on MS Windows systems, which allows the user to type DOS commands to manage files.\n",
    "\n",
    "To get started, select the cell below with the mouse and then either press control and enter or choose Cell -> Run in the menu at the top of the page."
   ]
  },
  {
   "cell_type": "code",
   "execution_count": null,
   "metadata": {
    "collapsed": true
   },
   "outputs": [],
   "source": [
    "echo cd $PWD"
   ]
  },
  {
   "cell_type": "markdown",
   "metadata": {},
   "source": [
    "Now open a new terminal on your computer and type the command that was output by the previous cell followed by the enter key. The command will look similar to this:\n",
    "\n",
    "    cd /home/manager/pathogen-informatics-training/Notebooks/BLAST/\n",
    "    \n",
    "Now you can follow the instructions in the tutorial from here.\n",
    "\n",
    "## Let's get started!\n",
    "This tutorial assumes that you have BLAST+ installed on your computer. For download and installation instructions, please see [ftp://ftp.ncbi.nlm.nih.gov/blast/executables/blast+/LATEST/]( ftp://ftp.ncbi.nlm.nih.gov/blast/executables/blast+/LATEST/). \n",
    "\n",
    "To check that you have installed the software correctly, you can run the following command:\n"
   ]
  },
  {
   "cell_type": "code",
   "execution_count": null,
   "metadata": {
    "collapsed": true
   },
   "outputs": [],
   "source": [
    "blastn -h"
   ]
  },
  {
   "cell_type": "markdown",
   "metadata": {},
   "source": [
    "This should return the following help message:\n",
    "```\n",
    "USAGE\n",
    "  blastn [-h] [-help] [-import_search_strategy filename]\n",
    "    [-export_search_strategy filename] [-task task_name] [-db database_name]\n",
    "    [-dbsize num_letters] [-gilist filename] [-seqidlist filename]\n",
    "    [-negative_gilist filename] [-negative_seqidlist filename]\n",
    "    [-entrez_query entrez_query] [-db_soft_mask filtering_algorithm]\n",
    "    [-db_hard_mask filtering_algorithm] [-subject subject_input_file]\n",
    "    [-subject_loc range] [-query input_file] [-out output_file]\n",
    "    [-evalue evalue] [-word_size int_value] [-gapopen open_penalty]\n",
    "    [-gapextend extend_penalty] [-perc_identity float_value]\n",
    "    [-qcov_hsp_perc float_value] [-max_hsps int_value]\n",
    "    [-xdrop_ungap float_value] [-xdrop_gap float_value]\n",
    "    [-xdrop_gap_final float_value] [-searchsp int_value]\n",
    "    [-sum_stats bool_value] [-penalty penalty] [-reward reward] [-no_greedy]\n",
    "    [-min_raw_gapped_score int_value] [-template_type type]\n",
    "    [-template_length int_value] [-dust DUST_options]\n",
    "    [-filtering_db filtering_database]\n",
    "    [-window_masker_taxid window_masker_taxid]\n",
    "    [-window_masker_db window_masker_db] [-soft_masking soft_masking]\n",
    "    [-ungapped] [-culling_limit int_value] [-best_hit_overhang float_value]\n",
    "    [-best_hit_score_edge float_value] [-window_size int_value]\n",
    "    [-off_diagonal_range int_value] [-use_index boolean] [-index_name string]\n",
    "    [-lcase_masking] [-query_loc range] [-strand strand] [-parse_deflines]\n",
    "    [-outfmt format] [-show_gis] [-num_descriptions int_value]\n",
    "    [-num_alignments int_value] [-line_length line_length] [-html]\n",
    "    [-max_target_seqs num_sequences] [-num_threads int_value] [-remote]\n",
    "    [-version]\n",
    "\n",
    "DESCRIPTION\n",
    "   Nucleotide-Nucleotide BLAST 2.7.0+\n",
    "\n",
    "Use '-help' to print detailed descriptions of command line arguments\n",
    "```\n",
    "\n",
    "For the first part of this tutorial, we are going to look at how to create a BLAST database from a file containing your own sequences. Answers to all of the questions can be found [here](general_question_and_exercise_answers.ipynb). To get started with the tutorial, head to the first section: [Part 1: Creating a BLAST database](format_database.ipynb)"
   ]
  }
 ],
 "metadata": {
  "anaconda-cloud": {},
  "kernelspec": {
   "display_name": "Bash",
   "language": "bash",
   "name": "bash"
  },
  "language_info": {
   "codemirror_mode": "shell",
   "file_extension": ".sh",
   "mimetype": "text/x-sh",
   "name": "bash"
  }
 },
 "nbformat": 4,
 "nbformat_minor": 1
}
