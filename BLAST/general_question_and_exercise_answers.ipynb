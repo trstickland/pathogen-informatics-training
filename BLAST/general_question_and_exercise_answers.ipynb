{
 "cells": [
  {
   "cell_type": "markdown",
   "metadata": {},
   "source": [
    "# Answers to tutorial questions and exercises\n",
    "\n",
    "## Part 1: Creating a BLAST database\n",
    "\n",
    "### General questions\n",
    "\n",
    "**What is the name of the file containing our FASTA sequences?**  \n",
    "_bacteria.fa_\n",
    "    \n",
    "**What type of sequences do we have in our bacteria file?**  \n",
    "_Nucleotide_\n",
    "\n",
    "**What is our new BLAST database (DB) called?**  \n",
    "_bacteria.fa_\n",
    "\n",
    "**How many sequences were added to our new database?**  \n",
    "_75_\n",
    "\n",
    "**Was the number of sequences added to our database the same as the number of sequences in our FASTA file?**  \n",
    "_Yes_\n",
    "\n",
    "\n",
    "### Exercise 1 \n",
    "\n",
    "You will have noticed that there is also a file in the /bacteria folder called **bacteria_tr.fa** which also contains FASTA sequences which need to be converted into a BLAST database. Create a BLAST database from this file which has the output prefix **bacteria_prot** and can be referenced using the title **bacteria_prot**.\n",
    "\n",
    "It is up to you whether you create a logfile but it is worth using _head_ to check the type of sequences.  \n",
    "(_hint: they might not be nucleotide_)."
   ]
  },
  {
   "cell_type": "code",
   "execution_count": 1,
   "metadata": {
    "collapsed": false
   },
   "outputs": [
    {
     "name": "stdout",
     "output_type": "stream",
     "text": []
    }
   ],
   "source": [
    "makeblastdb -in db/bacteria/bacteria_tr.fa -dbtype prot -title bacteria_prot -out db/bacteria/bacteria_prot -logfile db/bacteria/bacteria_prot.log"
   ]
  },
  {
   "cell_type": "code",
   "execution_count": 2,
   "metadata": {
    "collapsed": false
   },
   "outputs": [
    {
     "name": "stdout",
     "output_type": "stream",
     "text": [
      "\r\n",
      "\r\n",
      "Building a new DB, current time: 11/08/2016 15:12:26\r\n",
      "New DB name:   db/bacteria/bacteria_prot\r\n",
      "New DB title:  bacteria_prot\r\n",
      "Sequence type: Protein\r\n",
      "Keep Linkouts: T\r\n",
      "Keep MBits: T\r\n",
      "Maximum file size: 1000000000B\r\n",
      "Adding sequences from FASTA; added 75 sequences in 0.004632 seconds.\r\n"
     ]
    }
   ],
   "source": [
    "head db/bacteria/bacteria_prot.log"
   ]
  },
  {
   "cell_type": "code",
   "execution_count": 3,
   "metadata": {
    "collapsed": false
   },
   "outputs": [
    {
     "name": "stdout",
     "output_type": "stream",
     "text": [
      "total 120\r\n",
      "drwxrwxr-x  6 vo1  1662    204  8 Nov 15:11 db\r\n",
      "drwxrwxr-x  9 vo1  1662    306  8 Nov 15:10 example\r\n",
      "-rw-rw-r--  1 vo1  1662  13063  8 Nov 14:14 format_database.ipynb\r\n",
      "-rw-r--r--  1 vo1  1662   7723  8 Nov 15:11 general_question_and_exercise_answers.ipynb\r\n",
      "-rw-r--r--  1 vo1  1662   3947  8 Nov 14:12 index.ipynb\r\n",
      "-rw-r--r--  1 vo1  1662  30232  8 Nov 15:10 run_blast.ipynb\r\n"
     ]
    }
   ],
   "source": [
    "ls -l ."
   ]
  },
  {
   "cell_type": "markdown",
   "metadata": {},
   "source": [
    "**What do you notice about the file extensions for the bacteria_prot database?**   \n",
    "_They begin with a 'p' not an 'n' (e.g. '.pin' not '.nin')_\n",
    "\n",
    "**Why do you think they are different from the previous files?**  \n",
    "_Because nucleotide BLAST database files have an 'n' prefix (e.g. '.nin'), but protein BLAST database files have a 'p' prefix (e.g. '.pin')_"
   ]
  },
  {
   "cell_type": "markdown",
   "metadata": {
    "collapsed": true
   },
   "source": [
    "## Part 2: Running a local BLAST search\n",
    "\n",
    "### General questions\n",
    "\n",
    "**What percentage of our query aligns with our top hit?**  \n",
    "_100%_\n",
    "\n",
    "**Is our query sequence the same length as our top hit?**  \n",
    "_Yes, they are both 924 bp_\n",
    "\n",
    "**Based on the output of our blastn search, which species do you think our unknown sequence comes from? What gene might it be?**  \n",
    "_Based on the description of the top hit, our sequence is TcpC from_ Escherichia coli\n",
    "\n",
    "### Exercise 2\n",
    "\n",
    "**Using mammalian.fa create a new database which has the output prefix mammalian and can be referenced as mammalian.**  \n",
    "(_hint: you don't need to be in the same folder as your FASTA file to write your database files there, just prefix the output prefix with the relative location - e.g. db/mammalian/mammalian)_"
   ]
  },
  {
   "cell_type": "code",
   "execution_count": 4,
   "metadata": {
    "collapsed": false
   },
   "outputs": [
    {
     "name": "stdout",
     "output_type": "stream",
     "text": [
      ">NP_067272.1 toll-like receptor 4 precursor [Mus musculus]\r\n",
      "MMPPWLLARTLIMALFFSCLTPGSLNPCIEVVPNITYQCMDQKLSKVPDDIPSSTKNIDLSFNPLKILKS\r\n",
      "YSFSNFSELQWLDLSRCEIETIEDKAWHGLHHLSNLILTGNPIQSFSPGSFSGLTSLENLVAVETKLASL\r\n",
      "ESFPIGQLITLKKLNVAHNFIHSCKLPAYFSNLTNLVHVDLSYNYIQTITVNDLQFLRENPQVNLSLDMS\r\n",
      "LNPIDFIQDQAFQGIKLHELTLRGNFNSSNIMKTCLQNLAGLHVHRLILGEFKDERNLEIFEPSIMEGLC\r\n",
      "DVTIDEFRLTYTNDFSDDIVKFHCLANVSAMSLAGVSIKYLEDVPKHFKWQSLSIIRCQLKQFPTLDLPF\r\n",
      "LKSLTLTMNKGSISFKKVALPSLSYLDLSRNALSFSGCCSYSDLGTNSLRHLDLSFNGAIIMSANFMGLE\r\n",
      "ELQHLDFQHSTLKRVTEFSAFLSLEKLLYLDISYTNTKIDFDGIFLGLTSLNTLKMAGNSFKDNTLSNVF\r\n",
      "ANTTNLTFLDLSKCQLEQISWGVFDTLHRLQLLNMSHNNLLFLDSSHYNQLYSLSTLDCSFNRIETSKGI\r\n",
      "LQHFPKSLAFFNLTNNSVACICEHQKFLQWVKEQKQFLVNVEQMTCATPVEMNTSLVLDFNNSTCYMYKT\r\n"
     ]
    }
   ],
   "source": [
    "head db/mammalian/mammalian.fa"
   ]
  },
  {
   "cell_type": "code",
   "execution_count": 5,
   "metadata": {
    "collapsed": false
   },
   "outputs": [
    {
     "name": "stdout",
     "output_type": "stream",
     "text": []
    }
   ],
   "source": [
    "makeblastdb -in db/mammalian/mammalian.fa -dbtype prot -title mammalian -out db/mammalian/mammalian -logfile db/mammalian/mammalian.log"
   ]
  },
  {
   "cell_type": "code",
   "execution_count": 6,
   "metadata": {
    "collapsed": false
   },
   "outputs": [
    {
     "name": "stdout",
     "output_type": "stream",
     "text": [
      "total 112\r\n",
      "-rwxrwxr-x  1 vo1  1662  21425  4 Nov 16:24 mammalian.fa\r\n",
      "-rw-r--r--  1 vo1  1662    274  8 Nov 15:12 mammalian.log\r\n",
      "-rw-r--r--  1 vo1  1662   2634  8 Nov 15:12 mammalian.phr\r\n",
      "-rw-r--r--  1 vo1  1662    248  8 Nov 15:12 mammalian.pin\r\n",
      "-rw-r--r--  1 vo1  1662  19841  8 Nov 15:12 mammalian.psq\r\n"
     ]
    }
   ],
   "source": [
    "ls -l db/mammalian"
   ]
  },
  {
   "cell_type": "markdown",
   "metadata": {},
   "source": [
    "**If our query sequence is nucleotide and we want to search a protein database, what BLAST application do we need to use?**  \n",
    "_blastx_\n",
    "\n",
    "** With example/unknown.fa, run a BLAST search using the application in your answer above and search the database you have just created. We want a standard tabulated output file with the following additional columns**\n",
    "* Full subject title \n",
    "* Query length\n",
    "* Subject length\n",
    "* Percentage query coverage"
   ]
  },
  {
   "cell_type": "code",
   "execution_count": 7,
   "metadata": {
    "collapsed": false
   },
   "outputs": [
    {
     "name": "stdout",
     "output_type": "stream",
     "text": []
    }
   ],
   "source": [
    "blastx -query example/unknown.fa -db db/mammalian/mammalian -out example/blastx_mammalian.out -outfmt \"6 std stitle qlen slen qcovs\""
   ]
  },
  {
   "cell_type": "code",
   "execution_count": 8,
   "metadata": {
    "collapsed": false
   },
   "outputs": [
    {
     "name": "stdout",
     "output_type": "stream",
     "text": [
      "my_unknown_sequence\tNP_003254.2\t27.48\t131\t94\t1\t502\t891\t634\t764\t4e-07\t42.7\tNP_003254.2 toll-like receptor 1 precursor [Homo sapiens]\t924\t786\t45\r\n",
      "my_unknown_sequence\tNP_003254.2\t70.00\t10\t3\t0\t72\t101\t349\t358\t8.9\t19.2\tNP_003254.2 toll-like receptor 1 precursor [Homo sapiens]\t924\t786\t45\r\n",
      "my_unknown_sequence\tNP_006059.2\t26.72\t131\t95\t1\t502\t891\t639\t769\t6e-06\t38.9\tNP_006059.2 toll-like receptor 6 precursor [Homo sapiens]\t924\t796\t42\r\n",
      "my_unknown_sequence\tNP_035734.3\t25.64\t78\t58\t0\t502\t735\t650\t727\t2e-04\t33.9\tNP_035734.3 toll-like receptor 6 [Mus musculus]\t924\t806\t25\r\n",
      "my_unknown_sequence\tNP_112218.2\t27.71\t83\t58\t1\t490\t732\t627\t709\t3e-04\t33.5\tNP_112218.2 toll-like receptor 10 isoform a [Homo sapiens]\t924\t811\t26\r\n",
      "my_unknown_sequence\tNP_109607.1\t26.92\t78\t57\t0\t502\t735\t637\t714\t4e-04\t33.1\tNP_109607.1 toll-like receptor 1 precursor [Mus musculus]\t924\t795\t25\r\n",
      "my_unknown_sequence\tNP_003255.2\t26.92\t104\t67\t3\t433\t738\t622\t718\t8e-04\t32.3\tNP_003255.2 toll-like receptor 2 precursor [Homo sapiens]\t924\t784\t33\r\n",
      "my_unknown_sequence\tNP_036035.3\t25.96\t104\t68\t2\t433\t738\t622\t718\t0.001\t31.6\tNP_036035.3 toll-like receptor 2 precursor [Mus musculus]\t924\t784\t33\r\n",
      "my_unknown_sequence\tNP_991388.2\t22.22\t81\t58\t1\t508\t735\t778\t858\t0.078\t25.8\tNP_991388.2 toll-like receptor 11 [Mus musculus]\t924\t931\t25\r\n"
     ]
    }
   ],
   "source": [
    "head example/blastx_mammalian.out"
   ]
  },
  {
   "cell_type": "markdown",
   "metadata": {},
   "source": [
    "** What is our top hit?**  \n",
    "_toll-like receptor 1 precursor [Homo sapiens]_\n",
    "\n",
    "** How much of our query sequence is covered by this alignment?**  \n",
    "_45%_\n",
    "\n",
    "** What is the length of our top hit and where does the alignment start and finish?**\n",
    "_Our top his is 786 amino acids in length with the alignment covering residues 634-764_"
   ]
  }
 ],
 "metadata": {
  "anaconda-cloud": {},
  "kernelspec": {
   "display_name": "Bash",
   "language": "bash",
   "name": "bash"
  },
  "language_info": {
   "codemirror_mode": "shell",
   "file_extension": ".sh",
   "mimetype": "text/x-sh",
   "name": "bash"
  }
 },
 "nbformat": 4,
 "nbformat_minor": 1
}
