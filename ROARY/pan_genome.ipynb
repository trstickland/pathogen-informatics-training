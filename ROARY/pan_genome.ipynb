{
 "cells": [
  {
   "cell_type": "markdown",
   "metadata": {},
   "source": [
    "# The Pan Genome \n",
    "\n",
    "The pan genome for a prokaryote population is the complete set of genes that it contains. This includes genes present in all of the genomes, and genes that are only present in some, or even only in one of the genomes. The subset of genes present in all of the genomes is called the **core genome**. These are often highly conserved genes with important functions, for instance housekeeping genes. The subset of genes that are not present in all, but in two or more of the genomes, is called the **accessory genome**. The accessory genome often contains genes that have been transferred between baterial strains, for example genes linked to virulence or drug resistance. Genes present in only one of the genomes can be referred to as **strain specific**."
   ]
  },
  {
   "cell_type": "markdown",
   "metadata": {},
   "source": [
    "![Pan genome](img/pangenome.png)"
   ]
  },
  {
   "cell_type": "markdown",
   "metadata": {},
   "source": [
    "As you can imagine, the pan, core and acessory genomes can provide important insight into the genetic structure of prokaryotic genomes. By analysing the pan genome we can gain a better understanding of key processes like evolution and selection. Roay is a software tool that allows you to calculate the pan genome from annotated bacterial genomes. It is fast and accurate and can conveniently be run on most modern PCs. In this tutorial we are going to guide you through a complete pan genome analysis, starting with annotation of the genomes, working through running the pan genome pipelin, and finally visualising the results.\n",
    "\n",
    "## Check your understanding\n",
    "**Q1: The pan genome contains:**  \n",
    "a) Only genes present in one genome in a population  \n",
    "b) All genes from all genomes in a population  \n",
    "c) Only genes present in all genomes in a population  \n",
    "  \n",
    "**Q2: Core genes are:**  \n",
    "a) Often important for basic cell functions  \n",
    "b) Present in only a subset of the genomes of a population  \n",
    "c) Often related to drug resistance  \n",
    "  \n",
    "The answers to these questions can be found [here](answers.ipynb).\n",
    "\n",
    "Now that you know a bit more about pangenomes, let's head over to the next session: [Preparing input data](prepare_data.ipynb)  \n",
    "You can also head back to the [index page](index.ipynb)."
   ]
  }
 ],
 "metadata": {
  "kernelspec": {
   "display_name": "Bash",
   "language": "bash",
   "name": "bash"
  },
  "language_info": {
   "codemirror_mode": "shell",
   "file_extension": ".sh",
   "mimetype": "text/x-sh",
   "name": "bash"
  }
 },
 "nbformat": 4,
 "nbformat_minor": 2
}
