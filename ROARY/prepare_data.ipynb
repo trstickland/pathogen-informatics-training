{
 "cells": [
  {
   "cell_type": "markdown",
   "metadata": {},
   "source": [
    "# Preparing the data\n",
    "\n",
    "In this tutorial we have included three assemblies of _Streptococcus pneumoniae_. The assemblies are available for download from the ENA and the accession numbers are included below. If you have access to the the clustre at the Wellcome Sanger Institute the lane ids are also listed below. \n",
    "\n",
    "|Name    |Accession      |Sanger Lane ID|\n",
    "|--------|---------      |--------------|\n",
    "|sample1 |GCA_900194945.1|13681_1#18    |\n",
    "|sample2 |GCA_900194155.1|13682_2#34    |\n",
    "|sample3 |GCA_900194195.1|13682_2#39    |\n",
    "\n",
    "If you are using the cluster at the Wellcome Sanger Institute and want to create a symlink to one of the samples in your working directory, you can use the command below. However, note that this is not neccessary for the sake of this tutorial.\n",
    "\n",
    "    pf assembly -t lane -i 13681_1#18 -l .\n",
    "\n",
    "## Roary input files\n",
    "Roary takes annotated assemblies in GFF3 format as input. The files must include the nucleotide sequence at the end of the file, and to make it easier for you to identify where genes came from, each input file should have a unique locus tag for the gene IDs.\n",
    "\n",
    "All GFF3 files created by Prokka are valid with Roary and this is therefor the recommended way of generating the input files. We are now going to look closer at how you can use Prokka to annotate your genomes.\n",
    "\n",
    "## Annotation\n",
    "Prokka is a tool that performs whole genome annotation. It is easy to install and use and as mentioned the GFF files that it outputs are compatible with Roary.\n",
    "\n",
    "Our three assembled *S. pneumoniae* genomes are located in a directory called \"assemblies\"."
   ]
  },
  {
   "cell_type": "code",
   "execution_count": null,
   "metadata": {
    "collapsed": true
   },
   "outputs": [],
   "source": [
    "ls assemblies"
   ]
  },
  {
   "cell_type": "markdown",
   "metadata": {},
   "source": [
    "To run Prokka on a single file using the default settings, you can use the following command:\n",
    "\n",
    "    prokka sample1.fasta\n",
    "\n",
    "If you have a lot of assemblies that you want to analyse, running this for each sample will soon become tedious. Instead, we will use a for-loop to run Prokka on all the fasta files in the assemblies directory. We will also use the following options for Prokka:\n",
    "\n",
    "|Option    |Description                                |\n",
    "|------    |-----------                                |\n",
    "|--locustag|Specifying a locus tag prefix              |\n",
    "|--outdir  |Specifying a directory to put the output in|\n",
    "|--prefix  |Specifying a prefix for the output files   |\n",
    "\n",
    "By specifying a unique locus tag we make it easier to identify which sample different genes came from when we look at the results from Roary. The outdir and prefix options will make it easier for us to keep track of our files. "
   ]
  },
  {
   "cell_type": "code",
   "execution_count": null,
   "metadata": {
    "collapsed": true
   },
   "outputs": [],
   "source": [
    "for F in assemblies/*.fasta; do FILE=${F##*/}; PREFIX=${FILE/.fasta/}; \\\n",
    "    prokka --locustag $PREFIX --outdir annotated_$PREFIX \\\n",
    "    --prefix $PREFIX $F; done"
   ]
  },
  {
   "cell_type": "markdown",
   "metadata": {},
   "source": [
    "This is going to take around 5 minutes to run, so be patient.\n",
    "\n",
    "Once this has finished, you should have three new directories called annotated_sample1, annotated_sample2 and annotated_sample3. Have a look to see that it worked:"
   ]
  },
  {
   "cell_type": "code",
   "execution_count": null,
   "metadata": {
    "collapsed": true
   },
   "outputs": [],
   "source": [
    "ls -l"
   ]
  },
  {
   "cell_type": "code",
   "execution_count": null,
   "metadata": {
    "collapsed": true
   },
   "outputs": [],
   "source": [
    "ls -l annotated_sample1"
   ]
  },
  {
   "cell_type": "markdown",
   "metadata": {},
   "source": [
    "As you can see, for sample1 we now have a number of annotation files. There is more information about the different output files, along with information about other usage options, on the [Prokka GitHub page](https://github.com/tseemann/prokka). For now, we are only interrested in the GFF files that were generated as this is what we are going to use as input for Roary.\n",
    "\n",
    "__Note:__ If you are working on the Sanger Institute cluster, Prokka is automatically run as part of the annotation pipeline. To create a symlink to the GFF file, you can use the command below (though this is not neccessary for the sake of this tutorial):\n",
    "\n",
    "    pf annotation -t lane -i 13681_1#18 -l .\n",
    "\n",
    "Also for Sanger users, to run Prokka independently of the automated pipeline, you can use the script called *annotate_bacteria*. Run the below command for more information:\n",
    "\n",
    "    annotate_bacteria -h\n",
    "\n",
    "## Check your understanding\n",
    "**Q3: Why do we need to run Prokka?**  \n",
    "a) It will perform QC on our data  \n",
    "b) It will annotate our data  \n",
    "c) We don't, Roary can handle fasta files as input  \n",
    "  \n",
    "**Q4: Why do we use the --locustag option when we run Prokka?**  \n",
    "a) To make it easier to keep track of the output files  \n",
    "b) Because Roary won't work without it  \n",
    "c) To make the Roary results easier to interpret  \n",
    "\n",
    "The answers to these questions can be found [here](answers.ipynb).  \n",
    "\n",
    "Now continue to the next section of the tutorial: [Performing QC on your data](qc.ipynb).  \n",
    "You can also revisit the [previous section](pan_genome.ipynb) or return to the [index page](index.ipynb)"
   ]
  }
 ],
 "metadata": {
  "kernelspec": {
   "display_name": "Bash",
   "language": "bash",
   "name": "bash"
  },
  "language_info": {
   "codemirror_mode": "shell",
   "file_extension": ".sh",
   "mimetype": "text/x-sh",
   "name": "bash"
  }
 },
 "nbformat": 4,
 "nbformat_minor": 2
}
