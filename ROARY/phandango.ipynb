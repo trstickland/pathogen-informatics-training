{
 "cells": [
  {
   "cell_type": "markdown",
   "metadata": {},
   "source": [
    "# Visualising the results with phandango\n",
    "[Phandango](http://phandango.net/) is a web based tool for visualising genomic analysis results such as phylogenetic trees and the output of Roary and other tools. Using phandango is really easy, you just drag your files onto the browser and drop them and Phandango will display them for you automatically. For more in depth information please feel free to have a look around the [phandango wiki page](https://github.com/jameshadfield/phandango/wiki). \n",
    "\n",
    "In this final section of the tutorial we are going to use Phandango to look at the pylogenetic tree we generated using FastTree, and the gene_presence_absence.csv file we got from Roary. Simply dragging the two files and droping them on the phandango front page will give you the following view:\n",
    "\n",
    "![phandango](img/phandango.png)"
   ]
  },
  {
   "cell_type": "markdown",
   "metadata": {},
   "source": [
    "The image shows our tree compared to a matrix with the presence and absence of genes in the pan genome. The graph on the bottom right provides a summary of the matrix above, indicating the percentage of isolates carrying a gene at each position.\n",
    "\n",
    "You can zoom in on a particular area you are interested in simply by scrolling, and to see the annotation for a particular gene you can place your pointer over the corresponding bar at the top of the page, like in the figure below.\n",
    "\n",
    "![zoom](img/phandango_zoom.png)\n",
    "\n",
    "In this case we are looking at a gene called moeB. We can see that the gene is present in sample 2 and 3, but not in sample 1, and that the product is an Molybdopterin-synthase adenylyltransferase. \n",
    "\n",
    "Go ahead and play around a bit in Phandango. You can alter the layout in _settings_ in the navigation bar at the top of the page, or by clicking and dragging the grey circles on the page. To download the current view in svg format, simply press _p_.\n",
    "\n",
    "## Check your understanding\n",
    "**In Phandango, zoom in on the gene cluster at position 25080.**  \n",
    "**Q12: What is the name of this gene cluster?**  \n",
    "**Q13: Is this a core gene?**  \n",
    "\n",
    "The answers to these questions can be found [here](answers.ipynb).\n",
    "\n",
    "This marks the end of this tutorial. You can either revisit the [previous page](results.ipynb) or head back to the [index page](index.ipynb)."
   ]
  }
 ],
 "metadata": {
  "kernelspec": {
   "display_name": "Bash",
   "language": "bash",
   "name": "bash"
  },
  "language_info": {
   "codemirror_mode": "shell",
   "file_extension": ".sh",
   "mimetype": "text/x-sh",
   "name": "bash"
  }
 },
 "nbformat": 4,
 "nbformat_minor": 2
}
