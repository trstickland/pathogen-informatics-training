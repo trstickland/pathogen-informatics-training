{
 "cells": [
  {
   "cell_type": "markdown",
   "metadata": {},
   "source": [
    "# Pangenome Construction using Roary\n",
    "\n",
    "## Introduction\n",
    "Given a set of genomes, the pan genome is the collection of all genes the set contains. Roary, the pan genome pipeline, takes closely related annotated genomes in GFF3 file format and calculates the pan genome.\n",
    "\n",
    "For more in depht information about Roary, please feel free to have a look the paper:\n",
    "\n",
    "> **Roary: Rapid large-scale prokaryote pan genome analysis**  \n",
    "> Andrew J. Page, Carla A. Cummins, Martin Hunt, Vanessa K. Wong, Sandra Reuter, Matthew T. G. Holden, Maria Fookes, Daniel Falush, Jacqueline A. Keane, Julian Parkhill  \n",
    "> _Bioinformatics, 2015;31(22):3691-3693 doi:[10.1093/bioinformatics/btv421](http://bioinformatics.oxfordjournals.org/content/31/22/3691)_\n",
    "\n",
    "or visit the [Roary manual](http://sanger-pathogens.github.io/Roary/).\n",
    "\n",
    "## Learning outcomes\n",
    "By the end of this tutorial you can expect to be able to:\n",
    "\n",
    "* Describe what a pangenome is\n",
    "* Prepare data for input to Roary\n",
    "* Perform QC on input data and understand why QC is important\n",
    "* Run Roary to create a pangenome with and without a core alignment \n",
    "* Understand the different output files produced by Roary\n",
    "* Draw a basic tree from the core gene alignment produced by Roary\n",
    "* Query the pangenome results produced by Roary\n",
    "* Use Phandango to visualise the results produced by Roary \n",
    "\n",
    "## Tutorial sections\n",
    "This tutorial comprises the following sections:   \n",
    " 1. [What is a pan genome](pan_genome.ipynb)   \n",
    " 2. [Preparing the input data](prepare_data.ipynb)   \n",
    " 3. [Performing QC on your data](qc.ipynb)   \n",
    " 4. [Running Roary](run_roary.ipynb)   \n",
    " 5. [Exploring the results](results.ipynb)   \n",
    " 6. [Visualising the results with Phandango](phandango.ipynb)   \n",
    "\n",
    "## Authors\n",
    "This tutorial was created by [Sara Sjunnebo](https://github.com/ssjunnebo).\n",
    "\n",
    "## Running the commands from this tutorial\n",
    "You can run the commands in this tutorial either directly from the Jupyter notebook (if using Jupyter), or by typing the commands in your terminal window. \n",
    "\n",
    "### Running commands on Jupyter\n",
    "If you are using Jupyter, command cells (like the one below) can be run by selecting the cell and clicking _Cell -> Run_ from the menu above or using _ctrl Enter_ to run the command. Let's give this a try by printing our working directory using the _pwd_ command and listing the files within it. Run the commands in the two cells below."
   ]
  },
  {
   "cell_type": "code",
   "execution_count": null,
   "metadata": {
    "collapsed": true
   },
   "outputs": [],
   "source": [
    "pwd"
   ]
  },
  {
   "cell_type": "code",
   "execution_count": null,
   "metadata": {
    "collapsed": true
   },
   "outputs": [],
   "source": [
    "ls -l"
   ]
  },
  {
   "cell_type": "markdown",
   "metadata": {},
   "source": [
    "### Running commands in the terminal\n",
    "You can also follow this tutorial by typing all the commands you see into a terminal window. This is similar to the \"Command Prompt\" window on MS Windows systems, which allows the user to type DOS commands to manage files.\n",
    "\n",
    "To get started, select the cell below with the mouse and then either press control and enter or choose Cell -> Run in the menu at the top of the page."
   ]
  },
  {
   "cell_type": "code",
   "execution_count": null,
   "metadata": {
    "collapsed": true
   },
   "outputs": [],
   "source": [
    "echo cd $PWD"
   ]
  },
  {
   "cell_type": "markdown",
   "metadata": {},
   "source": [
    "Now open a new terminal on your computer and type the command that was output by the previous cell followed by the enter key. The command will look similar to this:\n",
    "\n",
    "    cd /home/manager/pathogen-informatics-training/Notebooks/ROARY/\n",
    "    \n",
    "Now you can follow the instructions in the tutorial from here.\n",
    "\n",
    "## Let’s get started!\n",
    "This tutorial assumes that you have Roary and Prokka installed on your computer. For download and installation instructions, please see:\n",
    "\n",
    "* The [Roary GitHub-page](https://github.com/sanger-pathogens/roary)\n",
    "* The [Prokka GitHub-page](https://github.com/tseemann/prokka)\n",
    "\n",
    "To check that you have installed Roary correctly, you can run the following command:"
   ]
  },
  {
   "cell_type": "code",
   "execution_count": null,
   "metadata": {
    "collapsed": true
   },
   "outputs": [],
   "source": [
    "roary --help"
   ]
  },
  {
   "cell_type": "markdown",
   "metadata": {},
   "source": [
    "This should return the help message for Roary.\n",
    "\n",
    "Similarly, to check that you have installed Prokka correctly, you can run:"
   ]
  },
  {
   "cell_type": "code",
   "execution_count": null,
   "metadata": {
    "collapsed": true
   },
   "outputs": [],
   "source": [
    "prokka --help"
   ]
  },
  {
   "cell_type": "markdown",
   "metadata": {},
   "source": [
    "This should return the help message for Prokka."
   ]
  },
  {
   "cell_type": "markdown",
   "metadata": {},
   "source": [
    "To get started with the tutorial, head to the first section: [What is a pan genome](pan_genome.ipynb)  \n",
    "The answers to all questions in the tutorial can be found [here](answers.ipynb)."
   ]
  }
 ],
 "metadata": {
  "kernelspec": {
   "display_name": "Bash",
   "language": "bash",
   "name": "bash"
  },
  "language_info": {
   "codemirror_mode": "shell",
   "file_extension": ".sh",
   "mimetype": "text/x-sh",
   "name": "bash"
  }
 },
 "nbformat": 4,
 "nbformat_minor": 2
}
