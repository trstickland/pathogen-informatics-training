{
 "cells": [
  {
   "cell_type": "markdown",
   "metadata": {},
   "source": [
    "# Answers\n",
    "## 1. The Pan Genome \n",
    "**Q1:** b  \n",
    "**Q2:** a  \n",
    "\n",
    "## 2. Preparing the data\n",
    "**Q3:** b  \n",
    "**Q4:** c  \n",
    "\n",
    "## 3. Performing QC on your data\n",
    "**Q5:** If the data is bad going in, the results will be bad coming out.  \n",
    "**Q6:** Most commonly there is contamination, or the geomes are too fragmented.  \n",
    "\n",
    "## 4. Running Roary\n",
    "**Q7:** c  \n",
    "**Q8:** b  \n",
    "\n",
    "## 5. Exploring the results\n",
    "**Q9:** b  \n",
    "**Q10:** c  \n",
    "**Q11:** c\n",
    "\n",
    "## 6. Visualising the results with phandango\n",
    "**Q12:** lytN  \n",
    "**Q13:** No (it is only present in sample 1 and 2)  \n"
   ]
  }
 ],
 "metadata": {
  "kernelspec": {
   "display_name": "Bash",
   "language": "bash",
   "name": "bash"
  },
  "language_info": {
   "codemirror_mode": "shell",
   "file_extension": ".sh",
   "mimetype": "text/x-sh",
   "name": "bash"
  }
 },
 "nbformat": 4,
 "nbformat_minor": 2
}
