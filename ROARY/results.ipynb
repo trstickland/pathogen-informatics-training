{
 "cells": [
  {
   "cell_type": "markdown",
   "metadata": {},
   "source": [
    "# Exploring the results\n",
    "## Output files\n",
    "Let's have a look at the results. We will focus on the output from the second run as this will be the same as the first run but will also include the core gene alignment produced by MAFFT. We will start by looking at the most important output files and after this we will look at how you can query your pan genome and draw a simple tree form the core gene alignment.\n",
    "\n",
    "### summary_statistics.txt\n",
    "The summary_statistics.txt file contains a summary of the number of genes in the pan, core and accessory genomes. It provides an overview of the genes and how frequently they occur in the input isolates. Usually, you can expect the total number of genes in this file to be about 1,000 genes per million bases of your species reference genome. In this case, the genomes are around 2 million bases, so we would expect a total number of genes to be in the order of 2,000. Let's have a look and see if this is the case."
   ]
  },
  {
   "cell_type": "code",
   "execution_count": null,
   "metadata": {
    "collapsed": true
   },
   "outputs": [],
   "source": [
    "cat output_with_alignment/summary_statistics.txt"
   ]
  },
  {
   "cell_type": "markdown",
   "metadata": {},
   "source": [
    "As you can see, we have around 2,500 genes which seems about right. If you get a lot fewer or many more genes than expected this could be an indication of an issue with your input data, for example contamination.\n",
    "\n",
    "### gene_presence_absence\n",
    "The gene_presence_absence files lists each gene and which samples it is present in. The .csv file can be opened in Excel.\n",
    "\n",
    "Let's have a look at the first ten lines of the file:"
   ]
  },
  {
   "cell_type": "code",
   "execution_count": null,
   "metadata": {
    "collapsed": true
   },
   "outputs": [],
   "source": [
    "head output_with_alignment/gene_presence_absence.csv"
   ]
  },
  {
   "cell_type": "markdown",
   "metadata": {},
   "source": [
    "The columns are tab separated and contains the following information:\n",
    "\n",
    " 1. The gene name (the most frequently occurring gene name from the sequences in the cluster)\n",
    " 2. A non unique gene name\n",
    " 3. Functional annotation (the most frequently occurring functional annotation from the cluster)\n",
    " 4. Number of isolates in the cluster\n",
    " 5. Number of sequences in the cluster\n",
    " 6. Average number of sequences per isolate (normally 1)\n",
    " 7. Genome fragment\n",
    " 8. Order within fragment\n",
    " 9. Accessory fragment\n",
    " 10. Accessory order within fragment\n",
    " 11. Comments on the quality of the cluster\n",
    " 12. Minimum sequence length in nucleotides of the cluster\n",
    " 13. Maximum sequence length in nucleotides of the cluster\n",
    " 14. Average sequence length in nucleotides of the cluster\n",
    " 15. Presence and absence of genes in each sample, with the corresponding source Gene ID\n",
    "\n",
    "The .Rtab file contains a tab delimited binary matrix with the precence and abscence of each gene in each sample. This makes it easy to load into R using the read.table function, giving you access to a number of useful tools. The first row is the header containing the name of each sample, and the first column contains the gene name. In the matrix, 1 indicates the gene is present in the sample and 0 indicates it is absent.\n",
    "\n",
    "### pan_genome_reference.fa\n",
    "This fasta file contains a single nucleotide sequence from each of the clusters in the pan genome. The name of each sequence is the source sequence ID followed by the cluster it came from. This file can be of use for reference guided assembly, whole genome MLST or for mapping raw reads to it.\n",
    "\n",
    "### .Rtab\n",
    "Roary comes packaged with a script called create_pan_genome_plots.R. It requires R and the R-package ggplot2, and can be used to generate graphs from the .Rtab files, showing how the pan genome varies as genomes are added. \n",
    "\n",
    "### accessory_binary_genes.fa.newick\n",
    "This is a tree in newick format, created using the binary presence and absence of accessory genes. It can for example be viewed in [FigTree](http://tree.bio.ed.ac.uk/software/figtree/). The tree is only a quick and dirty tree, generated to provide a rough overview of the data. To generate a more accurate tree, we will use the core gene alignment a bit further on.\n",
    "\n",
    "### core_gene_alignment.aln\n",
    "This is the multi-FASTA alignment of core genes that we created in the second run, using MAFFT. We will soon use this as input to build a phylogenetic tree.\n",
    "\n",
    "### clustered_proteins\n",
    "In this file each line lists the sequences in a cluster. We will use this later on in the tutorial to query the pan genome."
   ]
  },
  {
   "cell_type": "markdown",
   "metadata": {},
   "source": [
    "For more information about the different output files, including some that we haven't mentioned here, please feel free to have a look at the [Roary web page](https://sanger-pathogens.github.io/Roary/). "
   ]
  },
  {
   "cell_type": "markdown",
   "metadata": {},
   "source": [
    "## Query the pan genome\n",
    "Roary comes with a script called query_pan_genome that can be used to examine the gene differences between groups of isolates. To have a look at the usage options for this script, you can do:\n",
    "\n",
    "    query_pan_genome -h\n",
    "    \n",
    "This will show you the following usage options:\n",
    "\n",
    "```\n",
    "Usage: query_pan_genome [options] *.gff\n",
    "Perform set operations on the pan genome to see the gene differences \n",
    "between groups of isolates.\n",
    "\n",
    "Options: -g STR    groups filename [clustered_proteins]\n",
    "         -a STR    action (union/intersection/complement/gene_multifasta/\n",
    "                     difference) [union]\n",
    "         -c FLOAT  percentage of isolates a gene must be in to be core [99]\n",
    "         -o STR    output filename [pan_genome_results]\n",
    "         -n STR    comma separated list of gene names for use with \n",
    "                     gene_multifasta action\n",
    "         -i STR    comma separated list of filenames, comparison set one\n",
    "         -t STR    comma separated list of filenames, comparison set two\n",
    "         -v        verbose output to STDOUT\n",
    "         -h        this help message\n",
    "\n",
    "Examples:\n",
    "Union of genes found in isolates\n",
    "         query_pan_genome -a union *.gff\n",
    "\n",
    "Intersection of genes found in isolates (core genes)\n",
    "         query_pan_genome -a intersection *.gff\n",
    "\n",
    "Complement of genes found in isolates (accessory genes)\n",
    "         query_pan_genome -a complement *.gff\n",
    "\n",
    "Extract the sequence of each gene listed and create multi-FASTA files\n",
    "         query_pan_genome -a gene_multifasta -n gryA,mecA,abc *.gff\n",
    "\n",
    "Gene differences between sets of isolates\n",
    "         query_pan_genome -a difference --input_set_one 1.gff,2.gff --input_set_two 3.gff,4.gff,5.gff\n",
    "\n",
    "For further info see: http://sanger-pathogens.github.io/Roary/\n",
    "```"
   ]
  },
  {
   "cell_type": "markdown",
   "metadata": {},
   "source": [
    "As you can see, this also shows us some examples uses. Give the first one a go, using the clustered_proteins file in the output_with_alignment:"
   ]
  },
  {
   "cell_type": "code",
   "execution_count": null,
   "metadata": {
    "collapsed": true
   },
   "outputs": [],
   "source": [
    "query_pan_genome -a union \\\n",
    "    -g output_with_alignment/clustered_proteins *.gff"
   ]
  },
  {
   "cell_type": "markdown",
   "metadata": {},
   "source": [
    "This will give us a file called pan_genome_results that contains a list of all genes in all samples, i.e. the pan genome. Have a look at the first ten lines of the newly generated file:"
   ]
  },
  {
   "cell_type": "code",
   "execution_count": null,
   "metadata": {
    "collapsed": true
   },
   "outputs": [],
   "source": [
    "head pan_genome_results"
   ]
  },
  {
   "cell_type": "markdown",
   "metadata": {},
   "source": [
    "As you can see, the list contains the names of the clusters (this is usually the most frequently occurring gene name from the sequences in the cluster or, if there is no gene name, a generic unique name group_XXX). For each cluster, there is a tab separated list of each sample specific gene belonging in that cluster.\n",
    "\n",
    "In a similar way, you can use query_pan_genome to get a list of the core genes:\n",
    "\n",
    "    query_pan_genome -a intersection \\\n",
    "        -g output_with_alignment/clustered_proteins *.gff\n",
    "\n",
    "and a list of the accessory genes:\n",
    "\n",
    "    query_pan_genome -a complement \\\n",
    "        -g output_with_alignment/clustered_proteins *.gff\n",
    "    \n",
    "query_pan_genome can also be used to extract the protein sequences for genes you are particulatly interested in. Try extracting the sequences for three genes by specifying the -n option and a comma separated list of the cluster names:"
   ]
  },
  {
   "cell_type": "code",
   "execution_count": null,
   "metadata": {
    "collapsed": true
   },
   "outputs": [],
   "source": [
    "query_pan_genome -a gene_multifasta \\\n",
    "    -g output_with_alignment/clustered_proteins \\\n",
    "    -n patA_1,mnmG,hsdS_2 *.gff"
   ]
  },
  {
   "cell_type": "markdown",
   "metadata": {},
   "source": [
    "You should have three new files, one for each gene you specified. Have a look at pan_genome_results_patA_1.fa:"
   ]
  },
  {
   "cell_type": "code",
   "execution_count": null,
   "metadata": {
    "collapsed": true
   },
   "outputs": [],
   "source": [
    "cat pan_genome_results_patA_1.fa"
   ]
  },
  {
   "cell_type": "markdown",
   "metadata": {},
   "source": [
    "This multi-FASTA file contains the three protein sequences in the specified cluster (patA_1).\n",
    "\n",
    "There is yet more functionality of query_pan_genome, but we won't go into that here. For further information, please feel free to visit the [Roary web page](https://sanger-pathogens.github.io/Roary/)."
   ]
  },
  {
   "cell_type": "markdown",
   "metadata": {},
   "source": [
    "## Draw a tree form the core gene alignment\n",
    "The tree created by Roary (accessory_binary_genes.fa.newick) is just a quick tree to provide a rough insight into the data. To create a more accurate tree you can use the core gene alignment as input to a tree building software of your choice. [RAxML](https://sco.h-its.org/exelixis/web/software/raxml/index.html) is very accurate, however it is also fairly slow so in this tutorial we are going to use [FastTree](http://www.microbesonline.org/fasttree/). You don't have to run this step, but if you want to you need to make sure FastTree is installed on your computer first.\n",
    "\n",
    "To create a tree in Newick format from a nucleotide alignment using a generalized time-reversible model (the -gtr option), do:"
   ]
  },
  {
   "cell_type": "code",
   "execution_count": null,
   "metadata": {
    "collapsed": true
   },
   "outputs": [],
   "source": [
    "FastTree -nt -gtr output_with_alignment/core_gene_alignment.aln \\\n",
    "    > tree.newick"
   ]
  },
  {
   "cell_type": "markdown",
   "metadata": {},
   "source": [
    "The tree in this case will look like:\n",
    "\n",
    "    (sample1:0.006228253,sample2:0.002364375,sample3:0.002920483);\n",
    "\n",
    "We can view this in FigTree, which will look something like:\n",
    "\n",
    "![Phylogenetic tree](img/my_tree.newick.png)\n",
    "\n",
    "In the event that you did not run this step, a copy of tree.newick has been placed in the ROARY/tree/ directory for the next section of this tutorial.\n",
    "\n",
    "## Check your understanding\n",
    "**Q9: Approximately how many genes would you expect to see in the summary_statistics.txt file if you are working with a species with a genome size of 5,000,000 bases?**  \n",
    "a) 500  \n",
    "b) 5000  \n",
    "c) 50,000  \n",
    "  \n",
    "**Q10: What does the accessory_binary_genes.fa.newick file provide?**  \n",
    "a) A pylogenetic tree ready for publishing  \n",
    "b) Nothing, it is useless  \n",
    "c) A quick insight to the data  \n",
    "  \n",
    "**Q11: For query_pan_genome, what option should you use to get the accessory genome?**  \n",
    "a) union    \n",
    "b) intersection  \n",
    "c) complement  \n",
    "\n",
    "The answers to these questions can be found [here](answers.ipynb).  \n",
    "\n",
    "\n",
    "Now that you know a bit about the output from Roary, let's make use of them by [visualising the results using Phandango](phandango.ipynb).\n",
    "\n",
    "You can also revisit the [previous page](run_roary.ipynb), or go back to the [index page](index.ipynb)."
   ]
  }
 ],
 "metadata": {
  "kernelspec": {
   "display_name": "Bash",
   "language": "bash",
   "name": "bash"
  },
  "language_info": {
   "codemirror_mode": "shell",
   "file_extension": ".sh",
   "mimetype": "text/x-sh",
   "name": "bash"
  }
 },
 "nbformat": 4,
 "nbformat_minor": 2
}
