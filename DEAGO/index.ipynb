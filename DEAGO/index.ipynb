{
 "cells": [
  {
   "cell_type": "markdown",
   "metadata": {},
   "source": [
    "# DEAGO\n",
    "\n",
    "## Introduction\n",
    "DEAGO generates user-friendly quality control (QC) and analysis reports for RNA-Seq datasets. These interactive reports can be opened simply in a web browser and provide a simple way of sharing information about your analysis with collaborators. \n",
    "\n",
    "DEAGO uses a Perl wrapper module (**[Bio-Deago](https://github.com/sanger-pathogens/Bio-Deago)**) to generate a HTML report from markdown templates by calling functions from an R package (**[deago](https://github.com/sanger-pathogens/deago)**). \n",
    "\n",
    "There are three main steps to each analysis:\n",
    "\n",
    "  * Generating QC plots (**[ggplot2](http://ggplot2.org/)**)\n",
    "  * Identifying differentially expressed (DE) genes (**[DESeq2](https://bioconductor.org/packages/release/bioc/html/DESeq2.html)**) \n",
    "  * Performing gene ontology (GO) term enrichment analyses (**[topGO](http://bioconductor.org/packages/release/bioc/html/topGO.html)**)\n",
    "  \n",
    "For more information, please see the [user guide](https://github.com/sanger-pathogens/Bio-Deago/blob/master/user_guide/index.ipynb).\n",
    "\n",
    "## Learning outcomes\n",
    "\n",
    "By the end of this tutorial you can expect to be able to:\n",
    "\n",
    "  * Understand what input files are required for DEAGO and their formats\n",
    "  * Generate a QC report for an RNA-seq dataset\n",
    "  * Generate a DE report that can be used to identify differentially expressed genes\n",
    "  * Generate a GO term enrichment analysis report\n",
    "\n",
    "## Tutorial sections\n",
    "\n",
    "This tutorial comprises the following sections:\n",
    "\n",
    "1. [Introducing the tutorial dataset](introduction.ipynb)\n",
    "2. [Preparing your input data](input-data.ipynb)\n",
    "2. [Running a quality control (QC) analysis](quality-control.ipynb)\n",
    "3. [Running a differential expression (DE) analysis](differential-expression.ipynb)\n",
    "4. [Running a GO term enrichment analysis](go-term-enrichment.ipynb)\n",
    "5. [Troubleshooting](troubleshooting.ipynb)\n",
    "\n",
    "## Authors\n",
    "This tutorial was created by [Victoria Offord](https://github.com/vaofford).\n",
    "\n",
    "## Running the commands from this tutorial\n",
    "You can run the commands in this tutorial either directly from the Jupyter notebook (if using Jupyter), or by typing the commands in your terminal window. \n",
    "\n",
    "### Running commands on Jupyter\n",
    "If you are using Jupyter, command cells (like the one below) can be run by selecting the cell and clicking _Cell -> Run_ from the menu above or using _ctrl Enter_ to run the command. Let's give this a try by printing our working directory using the _pwd_ command and listing the files within it. Run the commands in the two cells below."
   ]
  },
  {
   "cell_type": "code",
   "execution_count": null,
   "metadata": {
    "collapsed": true
   },
   "outputs": [],
   "source": [
    "pwd"
   ]
  },
  {
   "cell_type": "code",
   "execution_count": null,
   "metadata": {
    "collapsed": true
   },
   "outputs": [],
   "source": [
    "ls -l"
   ]
  },
  {
   "cell_type": "markdown",
   "metadata": {},
   "source": [
    "### Running commands in the terminal\n",
    "You can also follow this course by typing all the commands you see into a terminal window. This is similar to the \"Command Prompt\" window on MS Windows systems, which allows the user to type DOS commands to manage files.\n",
    "\n",
    "To get started, select the cell below with the mouse and then either press control and enter or choose Cell -> Run in the menu at the top of the page."
   ]
  },
  {
   "cell_type": "code",
   "execution_count": null,
   "metadata": {
    "collapsed": true
   },
   "outputs": [],
   "source": [
    "echo cd $PWD"
   ]
  },
  {
   "cell_type": "markdown",
   "metadata": {},
   "source": [
    "Now open a new terminal on your computer and type the command that was output by the previous cell followed by the enter key. The command will look similar to this:\n",
    "\n",
    "    cd /home/manager/pathogen-informatics-training/Notebooks/DEAGO/\n",
    "    \n",
    "Now you can follow the instructions in the tutorial from here.\n",
    "\n",
    "## Prerequisites\n",
    "\n",
    "This tutorial assumes that you have deago and Bio-Deago installed on your computer. For download and installation instructions, please see:\n",
    "\n",
    "  * [Bio-Deago](https://github.com/sanger-pathogens/Bio-Deago) (Perl module)\n",
    "  * [deago](https://github.com/sanger-pathogens/deago) (R package)\n",
    "\n",
    "The following software versions were used when preparing this tutorial:\n",
    "\n",
    "  * Bio-Deago 1.2.0\n",
    "  * deago 1.1.2\n",
    "\n",
    "_Note: For Sanger pathogens users, these are already available on pcs5 and farm3. We also have a separate [Sanger pathogen users](Sanger-pathogen-users.ipynb) page which will walk you through preparing your input data from the Sanger pathogen pipelines._\n",
    "\n",
    "To check that you have installed the software correctly, you can run the following command:"
   ]
  },
  {
   "cell_type": "code",
   "execution_count": null,
   "metadata": {
    "collapsed": true
   },
   "outputs": [],
   "source": [
    "deago -h"
   ]
  },
  {
   "cell_type": "markdown",
   "metadata": {},
   "source": [
    "## Let's get started!\n",
    "\n",
    "To get started with the tutorial, head to the first section: [Introducing the tutorial dataset](introduction.ipynb)."
   ]
  }
 ],
 "metadata": {
  "anaconda-cloud": {},
  "kernelspec": {
   "display_name": "Bash",
   "language": "bash",
   "name": "bash"
  },
  "language_info": {
   "codemirror_mode": "shell",
   "file_extension": ".sh",
   "mimetype": "text/x-sh",
   "name": "bash"
  }
 },
 "nbformat": 4,
 "nbformat_minor": 1
}
