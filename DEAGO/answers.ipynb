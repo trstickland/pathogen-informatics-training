{
 "cells": [
  {
   "cell_type": "markdown",
   "metadata": {},
   "source": [
    "# Answers"
   ]
  },
  {
   "cell_type": "markdown",
   "metadata": {},
   "source": [
    "To run the commands alongside the answers you must first have run all of the tutorial commands for that section and generated the output files they reference."
   ]
  },
  {
   "cell_type": "markdown",
   "metadata": {},
   "source": [
    "## Tutorial sections\n",
    "\n",
    "  * [Preparing input data](#Preparing-input-data)\n",
    "  * [Running a quality control (QC) analysis](#Running-a-quality-control-analysis)\n",
    "  * [Running a differential expression (DE) analysis](#Running-a-differential-expression-analysis)\n",
    "  * [Running a GO term enrichment (GO) analysis](#Running-a-GO-term-enrichment-analysis)"
   ]
  },
  {
   "cell_type": "markdown",
   "metadata": {},
   "source": [
    "***"
   ]
  },
  {
   "cell_type": "markdown",
   "metadata": {},
   "source": [
    "**Let's go to our `data` directory.**"
   ]
  },
  {
   "cell_type": "code",
   "execution_count": null,
   "metadata": {
    "collapsed": false
   },
   "outputs": [],
   "source": [
    "cd data"
   ]
  },
  {
   "cell_type": "markdown",
   "metadata": {},
   "source": [
    "***"
   ]
  },
  {
   "cell_type": "markdown",
   "metadata": {},
   "source": [
    "## Preparing input data\n",
    "\n",
    "**Q1: How many genes are there in each of the count files?**  \n",
    "\n",
    "**41,388**\n",
    "\n",
    "There are several ways you can do this. First look at the fist few lines of one of the files."
   ]
  },
  {
   "cell_type": "code",
   "execution_count": null,
   "metadata": {
    "collapsed": false
   },
   "outputs": [],
   "source": [
    "head counts/8380_3#1.390176.pe.markdup.bam.featurecounts.csv"
   ]
  },
  {
   "cell_type": "markdown",
   "metadata": {},
   "source": [
    "We have to header lines. The first starts with \"#\" and gives the details of the program and command used to generate the count file.\n",
    "\n",
    "```\n",
    "# Program:featureCounts v1.4.5-p1; Command:\"featureCounts\" \"-O\" \"-T\" \"1\" \"-t\" \"exon\" \"-g\" \"gene_id\" \"-a\" \"/lustre/scratch118/infgen/pathogen/pathpipe/refs/Mus/musculus/Mus_musculus_mm10.gtf\" \"-o\" \"390176.pe.markdup.bam.featurecounts.csv\" \"390176.pe.markdup.bam\" \n",
    "```\n",
    "\n",
    "The second contains the column headers and starts with \"Geneid\"\n",
    "\n",
    "```\n",
    "Geneid\tChr\tStart\tEnd\tStrand\tLength\t390176.pe.markdup.bam\n",
    "```\n",
    "\n",
    "So, we could count the total lines in the file and subtract 2 (the header lines)."
   ]
  },
  {
   "cell_type": "code",
   "execution_count": null,
   "metadata": {
    "collapsed": false
   },
   "outputs": [],
   "source": [
    "wc -l counts/8380_3#1.390176.pe.markdup.bam.featurecounts.csv"
   ]
  },
  {
   "cell_type": "markdown",
   "metadata": {},
   "source": [
    "Or, we can use `grep` to exclude the header lines in turn using the `-v` option and count the remaining lines."
   ]
  },
  {
   "cell_type": "code",
   "execution_count": null,
   "metadata": {
    "collapsed": false
   },
   "outputs": [],
   "source": [
    "grep -v '^#' counts/8380_3#1.390176.pe.markdup.bam.featurecounts.csv | grep -v '^Geneid' | wc -l"
   ]
  },
  {
   "cell_type": "markdown",
   "metadata": {},
   "source": [
    "Or, we can use the `-c` option in `grep` to count the lines which don't match the header lines, combining the header filter into one search `'^[#|Geneid]'`. This essentially means count all the lines which don't (`-v`) start with (`^`) either \"#\" or (`|`) \"Geneid\"."
   ]
  },
  {
   "cell_type": "code",
   "execution_count": null,
   "metadata": {
    "collapsed": false
   },
   "outputs": [],
   "source": [
    "grep -vc '^[#|Geneid]' counts/8380_3#1.390176.pe.markdup.bam.featurecounts.csv"
   ]
  },
  {
   "cell_type": "markdown",
   "metadata": {},
   "source": [
    "**Q2: How many genes have associated annotations?**\n",
    "\n",
    "**53,945**\n",
    "\n",
    "We can use `wc -l` to count the lines in the DEAGO-formatted annotation file. "
   ]
  },
  {
   "cell_type": "code",
   "execution_count": 10,
   "metadata": {
    "collapsed": false
   },
   "outputs": [
    {
     "name": "stdout",
     "output_type": "stream",
     "text": [
      "   53945 ensembl_mm10_deago_formatted.tsv\r\n"
     ]
    }
   ],
   "source": [
    "wc -l ensembl_mm10_deago_formatted.tsv"
   ]
  },
  {
   "cell_type": "markdown",
   "metadata": {},
   "source": [
    "Notice that there are more annotated genes than are present in our counts file.  This is because we got our gene annotations from Ensembl where there may have been more genes than were in the GTF file used with featureCounts.  Your annotation file can contain extra genes or no annotation at all for a gene, it won't matter to DEAGO as it will only pick up the annotations for genes in the count files. If a gene in the count file isn't annotated, DEAGO will set it as 'unknown'. However, the annotation file has to match at least one gene identifier from the counts files."
   ]
  },
  {
   "cell_type": "markdown",
   "metadata": {},
   "source": [
    "**Q3: How many of those genes have associated gene names?**  \n",
    "\n",
    "**0**\n",
    "\n",
    "We can use many different ways. The simplest is to use one of `awk`'s built-in variables, `NF`, which counts the number of fields in the line.  Here, we're looking for all lines containing less than 3 fields (i.e. gene id only, gene id + gene name or gene_id + GO terms) with `NR<3`. We can then ask that the second field found contains GO terms (as gene name is empty) with `$2 ~ \"GO:\"`."
   ]
  },
  {
   "cell_type": "code",
   "execution_count": 22,
   "metadata": {
    "collapsed": false
   },
   "outputs": [
    {
     "name": "stdout",
     "output_type": "stream",
     "text": [
      "       0\r\n"
     ]
    }
   ],
   "source": [
    "awk 'NF<3 && $2 ~ \"GO:\"' ensembl_mm10_deago_formatted.tsv | wc -l"
   ]
  },
  {
   "cell_type": "markdown",
   "metadata": {},
   "source": [
    "**Q4: How many of those genes have associated GO terms?** \n",
    "\n",
    "**32,069**\n",
    "\n",
    "We can just switch our search to look for genes where there are less than three fields `NR<3`, but where the second column doesn't contain GO terms `$2 !~ \"GO:\"`."
   ]
  },
  {
   "cell_type": "code",
   "execution_count": 23,
   "metadata": {
    "collapsed": false
   },
   "outputs": [
    {
     "name": "stdout",
     "output_type": "stream",
     "text": [
      "   32069\r\n"
     ]
    }
   ],
   "source": [
    "awk 'NF<3 && $2 !~ \"GO:\"' ensembl_mm10_deago_formatted.tsv | wc -l"
   ]
  },
  {
   "cell_type": "markdown",
   "metadata": {},
   "source": [
    "## Running a quality control analysis\n",
    "\n",
    "**Q1: Do all the samples have similar total read counts?**\n",
    "\n",
    "All except WT_IL22 replicate 4 (4.1 and 4.2) which were higher than the others\n",
    "\n",
    "**Q2: Look at the PCA plot. How many clusters have the samples grouped into?**\n",
    "\n",
    "3\n",
    "\n",
    "**Q3: Do you notice anything in the PCA and sample-to-sample distances plot that you might want to look closer at?**\n",
    "\n",
    "**There may be another factor causing variance.**\n",
    "\n",
    "Looking at the PCA plot there seem to be some two slight outliers in both the WT_Ctrl and WT_IL22 clusters. Also, the KO cluster is slightly split into two sub-clusters which don't correspond to the cell type or treatment. Looking at the sample-to-sample distances, it looks like there may be some clustering by replicate number (i.e. a batch effect), in particular with replicate 4.  It may be worth considering including replicate as a factor in any downstream analyses."
   ]
  },
  {
   "cell_type": "markdown",
   "metadata": {},
   "source": [
    "## Running a differential expression analysis\n",
    "\n",
    "You will need to look at both the results tables and the results files to get the answers. _Sec1_ is found in the report as it has a log2FoldChange > 2. _Fut8_ and _B4galt1_ are not. This is because a default cutoff of log2FoldChange < -2 or > 2 is used for the report tables to keep the report as small as possible so that it can be opened in a web browser.\n",
    "\n",
    "### _Sec1_\n",
    "\n",
    "To get these answers you can search the differential expression table.\n",
    "\n",
    "![Sec1 search](images/sec1_de_search.png)\n",
    "\n",
    "**Q1: What is the gene identifier (geneID)?**\n",
    "\n",
    "ENSMUSG00000040364\t\n",
    "\n",
    "**Q2: What is the log2 fold change?**\n",
    "\n",
    "5.66\n",
    "\n",
    "**Q3: What is the adjusted p-value?** \n",
    "\n",
    "6.66e-73\n",
    "\n",
    "\n",
    "### _Fut8_\n",
    "\n",
    "To get the answer you will need to use `awk` or `grep` with the results file for the contrast between WT_IL22 and KO_IL22. You will need to update the \"<timestamp>\" portion of the name of the results folder so that it matches yours.\n",
    "\n",
    "```\n",
    "awk -F\"\\t\" '$2==\"Fut8\"{print $1\"\\t\"$2\"\\t\"$36\"\\t\"$40}' results_<timestamp>/wt_il22_vs_ko_il22_q0.05.txt\n",
    "```\n",
    "\n",
    "**Q1: What is the gene identifier (geneID)?**\n",
    "\n",
    "ENSMUSG00000021065\n",
    "\n",
    "**Q2: What is the log2 fold change?**\n",
    "\n",
    "0.796\n",
    "\n",
    "**Q3: What is the adjusted p-value?** \n",
    "\n",
    "2.22e-19\n",
    "\n",
    "\n",
    "### _B4galt1_\n",
    "\n",
    "To get the answer you will need to use `awk` or `grep` with the results file for the contrast between WT_IL22 and KO_IL22. You will need to update the \"<timestamp>\" portion of the name of the results folder so that it matches yours.\n",
    "\n",
    "```\n",
    "awk -F\"\\t\" '$2==\"B4galt1\"{print $1\"\\t\"$2\"\\t\"$36\"\\t\"$40}' results_<timestamp>/wt_il22_vs_ko_il22_q0.05.txt\n",
    "```\n",
    "\n",
    "**Q1: What is the gene identifier (geneID)?**\n",
    "\n",
    "ENSMUSG00000028413\n",
    "\n",
    "**Q2: What is the log2 fold change?**\n",
    "\n",
    "1.13\n",
    "\n",
    "**Q3: What is the adjusted p-value?** \n",
    "\n",
    "1.43e-41"
   ]
  },
  {
   "cell_type": "markdown",
   "metadata": {},
   "source": [
    "## Running a GO term enrichment analysis\n",
    "\n",
    "**Q1: Which biological processes is this upregulated gene associated with?**\n",
    "\n",
    "### Fut2\n",
    "\n",
    "  * **GO:0006486** protein glycosylation\n",
    "\n",
    "### Sec1\n",
    "\n",
    "  * **GO:0006486** protein glycosylation\n",
    "  \n",
    "  _Note: be careful of similar gene names e.g. Sec11, try searching with Sec1,_\n",
    " \n",
    "### Fut8 \n",
    "\n",
    "  * **GO:0006486** protein glycosylation\n",
    "\n",
    "### B4galt1\n",
    "\n",
    "  * **GO:0006486** protein glycosylation  \n",
    "  * **GO:0043065** positive regulation of apoptotic process\t  \n",
    "  * **GO:0006954** inflammatory response  "
   ]
  }
 ],
 "metadata": {
  "anaconda-cloud": {},
  "kernelspec": {
   "display_name": "Bash",
   "language": "bash",
   "name": "bash"
  },
  "language_info": {
   "codemirror_mode": "shell",
   "file_extension": ".sh",
   "mimetype": "text/x-sh",
   "name": "bash"
  }
 },
 "nbformat": 4,
 "nbformat_minor": 2
}
