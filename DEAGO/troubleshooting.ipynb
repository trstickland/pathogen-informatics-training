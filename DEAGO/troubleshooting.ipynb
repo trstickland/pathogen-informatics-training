{
 "cells": [
  {
   "cell_type": "markdown",
   "metadata": {},
   "source": [
    "# Troubleshooting"
   ]
  },
  {
   "cell_type": "markdown",
   "metadata": {},
   "source": [
    "If **`deago_markdown.html`** isn't generated, the first thing to do is check the end of the R log file (**`deago.rlog`**). If successful it should be similar to:\n",
    "\n",
    "```\n",
    "output file: deago_markdown.knit.md\n",
    "\n",
    "/software/pathogen/external/apps/usr/bin/pandoc +RTS -K512m -RTS deago_markdown.utf8.md --to html --from\n",
    "markdown+autolink_bare_uris+ascii_identifiers+tex_math_single_backslash --output /lustre/scratch118/infgen/pathdev\n",
    "/vo1/deago_tutorial_test/deago_analysis/deago_markdown.html --smart --email-obfuscation none --self-contained\n",
    "--standalone --section-divs --table-of-contents --toc-depth 3 --variable toc_float=1 --variable\n",
    "toc_selectors=h1,h2,h3 --variable toc_collapsed=1 --variable toc_smooth_scroll=1 --variable toc_print=1 \n",
    "--template /software/pathogen /external/lib/R-3.4/rmarkdown/rmd/h/default.html --no-highlight \n",
    "--variable highlightjs=1 --number-sections --variable 'theme:paper' --include-in-header \n",
    "/tmp/RtmpyTxHuS/rmarkdown-str1782209e9bc2.html --mathjax --variable\n",
    "'mathjax-url:https://mathjax.rstudio.com/latest/MathJax.js?config=TeX-AMS-MML_HTMLorMML' \n",
    "\n",
    "In addition: Warning messages:\n",
    "1: Removed 778 rows containing non-finite values (stat_density). \n",
    "2: Removed 778 rows containing non-finite values (stat_density).\n",
    "```\n",
    "\n",
    "If not, it will show the error which stopped the report being generated.  For example:\n",
    "\n",
    "Quitting from lines 206-208 (deago_markdown.Rmd) \n",
    "\n",
    "```\n",
    "Error in .local(.Object, ...) : allGenes must be a factor with 2 levels\n",
    "Calls: <Anonymous> ... prepareGOdata -> new -> initialize -> initialize -> .local\n",
    "In addition: Warning messages:\n",
    "1: Removed 778 rows containing non-finite values (stat_density). \n",
    "2: Removed 778 rows containing non-finite values (stat_density). \n",
    "    \n",
    "Execution halted\n",
    "```\n",
    "\n",
    "This suggests you should look at what's on lines 206-208 in **`deago_markdown.Rmd`** and try to work out the cause of the error.  Once you've fixed it, you can use **`deago_markdown_to_html`** to try and convert your modified markdown file to a new HTML report.  If this doesn't work, you can always try running the commands from the markdown file in R manually to debug the issue.\n",
    "\n",
    "If this doesn't work and you think there might be bug, please email [path-help@sanger.ac.uk](mailto:path-help@sanger.ac.uk) attaching your R markdown file, R log file and config file."
   ]
  },
  {
   "cell_type": "markdown",
   "metadata": {},
   "source": [
    "**Congratulations, you have now reached the end of this tutorial!**\n",
    "\n",
    "To go back to the beginning, you'll want to head to the [introduction](index.ipynb). Or, for the answers to the tutorial questions, head to the answer section (answers.ipynb)."
   ]
  }
 ],
 "metadata": {
  "anaconda-cloud": {},
  "kernelspec": {
   "display_name": "Bash",
   "language": "bash",
   "name": "bash"
  },
  "language_info": {
   "codemirror_mode": "shell",
   "file_extension": ".sh",
   "mimetype": "text/x-sh",
   "name": "bash"
  }
 },
 "nbformat": 4,
 "nbformat_minor": 2
}
